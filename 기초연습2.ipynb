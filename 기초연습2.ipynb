{
  "nbformat": 4,
  "nbformat_minor": 0,
  "metadata": {
    "colab": {
      "provenance": [],
      "authorship_tag": "ABX9TyPpJ9ettPKPPLUkaNSysrRH",
      "include_colab_link": true
    },
    "kernelspec": {
      "name": "python3",
      "display_name": "Python 3"
    },
    "language_info": {
      "name": "python"
    },
    "gpuClass": "standard"
  },
  "cells": [
    {
      "cell_type": "markdown",
      "metadata": {
        "id": "view-in-github",
        "colab_type": "text"
      },
      "source": [
        "<a href=\"https://colab.research.google.com/github/freamwork97/TIS/blob/main/%EA%B8%B0%EC%B4%88%EC%97%B0%EC%8A%B52.ipynb\" target=\"_parent\"><img src=\"https://colab.research.google.com/assets/colab-badge.svg\" alt=\"Open In Colab\"/></a>"
      ]
    },
    {
      "cell_type": "markdown",
      "source": [
        "# 배열"
      ],
      "metadata": {
        "id": "cpgvMjYHgGzg"
      }
    },
    {
      "cell_type": "code",
      "execution_count": null,
      "metadata": {
        "colab": {
          "base_uri": "https://localhost:8080/"
        },
        "id": "T1LE3XAAgDrF",
        "outputId": "785924f9-930b-47aa-e004-cd5ee22c2182"
      },
      "outputs": [
        {
          "output_type": "stream",
          "name": "stdout",
          "text": [
            "[1, 2, 3, 4] [5, 6, 7, 8]\n",
            "(1, 2, 3, 4) (5, 6, 7, 8)\n"
          ]
        }
      ],
      "source": [
        "# 리스트\n",
        "L = [1, 2, 3, 4] # , <- 구분\n",
        "L2 = [5, 6, 7, 8]\n",
        "# 튜플\n",
        "T = (1, 2, 3, 4) # , <- 구분\n",
        "T2 = (5, 6, 7, 8)\n",
        "print(L, L2)\n",
        "print(T, T2)"
      ]
    },
    {
      "cell_type": "code",
      "source": [
        "L = [ \"abc\", 10, ['a','b'], (1,2,3)]\n",
        "L"
      ],
      "metadata": {
        "colab": {
          "base_uri": "https://localhost:8080/"
        },
        "id": "Gs7aoie_gxtM",
        "outputId": "25f4d75f-dd8d-44f2-a441-833f209ceafb"
      },
      "execution_count": null,
      "outputs": [
        {
          "output_type": "execute_result",
          "data": {
            "text/plain": [
              "['abc', 10, ['a', 'b'], (1, 2, 3)]"
            ]
          },
          "metadata": {},
          "execution_count": 12
        }
      ]
    },
    {
      "cell_type": "code",
      "source": [
        "print(type(L))"
      ],
      "metadata": {
        "colab": {
          "base_uri": "https://localhost:8080/"
        },
        "id": "6xRlf5r2gnEW",
        "outputId": "1a4e28a7-5f94-4b75-da4d-574d620636f3"
      },
      "execution_count": null,
      "outputs": [
        {
          "output_type": "stream",
          "name": "stdout",
          "text": [
            "<class 'list'>\n"
          ]
        }
      ]
    },
    {
      "cell_type": "code",
      "source": [
        "# 인덱싱\n",
        "L= ['abc',10,['a','b'],(1,2,3)]\n",
        "print(L[0], L[1], L[2], L[-1])\n",
        "\n",
        "# 리스트\n",
        "L = ['a','b','c','d','e']\n",
        "print('0번째 요소: {}  3번째 요소{}'.format(L[0],L[3]))"
      ],
      "metadata": {
        "colab": {
          "base_uri": "https://localhost:8080/"
        },
        "id": "VrdmdAtDi7ib",
        "outputId": "c6f8c623-7308-4a66-8ad4-7018d46ae554"
      },
      "execution_count": null,
      "outputs": [
        {
          "output_type": "stream",
          "name": "stdout",
          "text": [
            "abc 10 ['a', 'b'] (1, 2, 3)\n",
            "0번째 요소: a  3번째 요소d\n"
          ]
        }
      ]
    },
    {
      "cell_type": "code",
      "source": [
        "# 다음 리스트 변수 a = [1,2,3,'a','b',True,[4,5,6]]의 첫번째, 세번째, 마지막번째 요소를 추출\n",
        "a = [1,2,3,'a','b',True,[4,5,6]]\n",
        "print('첫번째 {} 세번째 {} 마지막 {}'.format(a[0], a[2], a[-1]))\n",
        "\n",
        "# True는 a변수의 몇 번째 인덱스에 해당하는가\n",
        "a1 = a.index(True)\n",
        "a2 = a.index(True,a1+1)\n",
        "print(a2)\n",
        "\n",
        "index = a.index(True, 1)\n",
        "print(index)\n"
      ],
      "metadata": {
        "colab": {
          "base_uri": "https://localhost:8080/"
        },
        "id": "GS7xW_UDjfP-",
        "outputId": "bbe1d1c2-bae8-4bcc-bcf9-149348a09b21"
      },
      "execution_count": null,
      "outputs": [
        {
          "output_type": "stream",
          "name": "stdout",
          "text": [
            "첫번째 1 세번째 3 마지막 [4, 5, 6]\n",
            "5\n",
            "5\n"
          ]
        }
      ]
    },
    {
      "cell_type": "code",
      "source": [
        "T = ('a','b','c','d','e')\n",
        "print('0번째 요소 {} 3번째 요소 {}'.format(T[0],T[3]))\n"
      ],
      "metadata": {
        "colab": {
          "base_uri": "https://localhost:8080/"
        },
        "id": "63kMoCX8lCAa",
        "outputId": "53adee81-e20c-4059-d317-47762cd604d3"
      },
      "execution_count": null,
      "outputs": [
        {
          "output_type": "stream",
          "name": "stdout",
          "text": [
            "0번째 요소 a 3번째 요소 d\n"
          ]
        }
      ]
    },
    {
      "cell_type": "code",
      "source": [
        "# 슬라이싱\n",
        "\n",
        "print(L[1:3])\n",
        "print(T[1:3])"
      ],
      "metadata": {
        "colab": {
          "base_uri": "https://localhost:8080/"
        },
        "id": "91oXjjTyoRhT",
        "outputId": "84e68b76-4ae5-433f-f9df-77d1d853ba9b"
      },
      "execution_count": null,
      "outputs": [
        {
          "output_type": "stream",
          "name": "stdout",
          "text": [
            "['b', 'c']\n",
            "('b', 'c')\n"
          ]
        }
      ]
    },
    {
      "cell_type": "code",
      "source": [
        "# L대상으로 'b', 'c','d'를 슬라이싱으로 추출\n",
        "T = ('a','b','c','d','e')\n",
        "L = ['a','b','c','d','e']\n",
        "print(L[1:4])\n",
        "# T대상으로 'c' 'd' 슬라이싱으로 추출\n",
        "print(T[2:4])"
      ],
      "metadata": {
        "colab": {
          "base_uri": "https://localhost:8080/"
        },
        "id": "QFKZZzOCoaoE",
        "outputId": "62ef6aac-03a3-4c65-b572-7d8c17d981b5"
      },
      "execution_count": null,
      "outputs": [
        {
          "output_type": "stream",
          "name": "stdout",
          "text": [
            "['b', 'c', 'd']\n",
            "('c', 'd')\n"
          ]
        }
      ]
    },
    {
      "cell_type": "code",
      "source": [
        "a = [[1,2,3],[4,5,6]]\n",
        "print(a[0][1])"
      ],
      "metadata": {
        "colab": {
          "base_uri": "https://localhost:8080/"
        },
        "id": "MGKFgXA-pazB",
        "outputId": "bc888884-a8d9-44ed-cc39-81a90f42ec2d"
      },
      "execution_count": null,
      "outputs": [
        {
          "output_type": "stream",
          "name": "stdout",
          "text": [
            "2\n"
          ]
        }
      ]
    },
    {
      "cell_type": "code",
      "source": [
        "# a 리스트의 1번째 요소의 2번째 요소를 추출\n",
        "print(a[1][2])"
      ],
      "metadata": {
        "colab": {
          "base_uri": "https://localhost:8080/"
        },
        "id": "VNFBG5yHxadU",
        "outputId": "8fe6491b-98fc-4d83-f52d-b60ee31f0662"
      },
      "execution_count": null,
      "outputs": [
        {
          "output_type": "stream",
          "name": "stdout",
          "text": [
            "6\n"
          ]
        }
      ]
    },
    {
      "cell_type": "code",
      "source": [
        "print((1,2,3)+(4,5))"
      ],
      "metadata": {
        "colab": {
          "base_uri": "https://localhost:8080/"
        },
        "id": "hxKKYQEwyLPh",
        "outputId": "4077ac79-a9df-477b-e237-d37fc65f8df3"
      },
      "execution_count": null,
      "outputs": [
        {
          "output_type": "stream",
          "name": "stdout",
          "text": [
            "(1, 2, 3, 4, 5)\n"
          ]
        }
      ]
    },
    {
      "cell_type": "code",
      "source": [
        "print([1,2,3]+[4,5])"
      ],
      "metadata": {
        "colab": {
          "base_uri": "https://localhost:8080/"
        },
        "id": "fG1xIO-4yzF3",
        "outputId": "8f0c140b-1099-410d-f587-2cb934e936af"
      },
      "execution_count": null,
      "outputs": [
        {
          "output_type": "stream",
          "name": "stdout",
          "text": [
            "[1, 2, 3, 4, 5]\n"
          ]
        }
      ]
    },
    {
      "cell_type": "code",
      "source": [
        "L[0] = 'x'\n",
        "print(L)"
      ],
      "metadata": {
        "colab": {
          "base_uri": "https://localhost:8080/"
        },
        "id": "RZ-x4XOuzu94",
        "outputId": "6635f4a7-e4c7-401d-b845-56d0a771e6fe"
      },
      "execution_count": null,
      "outputs": [
        {
          "output_type": "stream",
          "name": "stdout",
          "text": [
            "['x', 'b', 'c', 'd', 'e']\n"
          ]
        }
      ]
    },
    {
      "cell_type": "code",
      "source": [
        "# 리스트 변경가능 자료\n",
        "# 튜플 변경불가능 자료\n",
        "# 변경하면 안되는 데이터는 튜플로 만들고\n",
        "# 변경해도 괜찮은 데이터는 리스트로 만든다\n",
        "\n",
        "\n",
        "L = ['a','b','c','d']\n",
        "\n",
        "\n",
        "L[1] = 'y'\n",
        "print(L)\n",
        "L[2] = 'z'\n",
        "print(L)"
      ],
      "metadata": {
        "colab": {
          "base_uri": "https://localhost:8080/"
        },
        "id": "1iIU6DgUz4tH",
        "outputId": "d312d92f-0cd7-404b-dbe1-36d41248e732"
      },
      "execution_count": null,
      "outputs": [
        {
          "output_type": "stream",
          "name": "stdout",
          "text": [
            "['a', 'y', 'c', 'd']\n",
            "['a', 'y', 'z', 'd']\n"
          ]
        }
      ]
    },
    {
      "cell_type": "code",
      "source": [
        "T = ('a','b','c','d')\n",
        "# T[0] = 'y' 튜플은 변경불가능"
      ],
      "metadata": {
        "id": "7TjBLTS0z-Y8"
      },
      "execution_count": null,
      "outputs": []
    },
    {
      "cell_type": "code",
      "source": [
        "x = [1,2,3]\n",
        "x.append(4)\n",
        "print(x)"
      ],
      "metadata": {
        "colab": {
          "base_uri": "https://localhost:8080/"
        },
        "id": "2GVc83sl2VOt",
        "outputId": "228d0a3d-312a-48aa-ba0f-aa84bdddb2f4"
      },
      "execution_count": null,
      "outputs": [
        {
          "output_type": "stream",
          "name": "stdout",
          "text": [
            "[1, 2, 3, 4]\n"
          ]
        }
      ]
    },
    {
      "cell_type": "code",
      "source": [
        "# 예제\n",
        "# 기존 학급이 '영희' '철수' '만수' 등 3명으로 구성된 학급이 있다.\n",
        "# '영자'가 전학을 왔다 학급 리스트에 영자를 끝에 추가\n",
        "Class = ['영희','철수','만수']\n",
        "Class.append('영자')\n",
        "print(Class)"
      ],
      "metadata": {
        "colab": {
          "base_uri": "https://localhost:8080/"
        },
        "id": "sdSTqW802xXN",
        "outputId": "e171ebb8-39dc-4669-ed9e-0d4c1dc6128d"
      },
      "execution_count": null,
      "outputs": [
        {
          "output_type": "stream",
          "name": "stdout",
          "text": [
            "['영희', '철수', '만수', '영자']\n"
          ]
        }
      ]
    },
    {
      "cell_type": "code",
      "source": [
        "# 위 예제와 비교해보자\n",
        "\n",
        "a = 'c언어는 배우기 쉬운 언어입니다.'\n",
        "a = a.replace('c언어는','python은')\n",
        "print(a)"
      ],
      "metadata": {
        "colab": {
          "base_uri": "https://localhost:8080/"
        },
        "id": "4Tn6h-1R3ky2",
        "outputId": "97bb8caa-1bd0-497b-b607-9bb2ba3eba02"
      },
      "execution_count": null,
      "outputs": [
        {
          "output_type": "stream",
          "name": "stdout",
          "text": [
            "python은 배우기 쉬운 언어입니다.\n"
          ]
        }
      ]
    },
    {
      "cell_type": "code",
      "source": [
        "# 순서대로 인덱스(=삽입할 위치)와 삽입할 값을 입력\n",
        "\n",
        "L = [1,3,4,5]\n",
        "L.insert(1,2)\n",
        "print(L)"
      ],
      "metadata": {
        "colab": {
          "base_uri": "https://localhost:8080/"
        },
        "id": "41iffYTH4ezD",
        "outputId": "ca35a81b-d80d-41da-f892-f82fd49bac75"
      },
      "execution_count": null,
      "outputs": [
        {
          "output_type": "stream",
          "name": "stdout",
          "text": [
            "[1, 2, 3, 4, 5]\n"
          ]
        }
      ]
    },
    {
      "cell_type": "code",
      "source": [
        "L.remove(2)\n",
        "print(L)"
      ],
      "metadata": {
        "colab": {
          "base_uri": "https://localhost:8080/"
        },
        "id": "bb1uYhny4wTl",
        "outputId": "22232f26-a36e-46b6-f5d3-4a8b2a610d70"
      },
      "execution_count": null,
      "outputs": [
        {
          "output_type": "stream",
          "name": "stdout",
          "text": [
            "[1, 3, 4, 5]\n"
          ]
        }
      ]
    },
    {
      "cell_type": "code",
      "source": [
        "# 예제\n",
        "# 기존 학급이 '영희' '철수' '만수' 등 3명으로 구성된 학급이 있다.\n",
        "# '영자'가 전학을 왔다 학급 리스트에 영자를 영희 뒤에 추가\n",
        "Class = ['영희','철수','만수']\n",
        "Class.insert(1,'영자')\n",
        "print(Class)"
      ],
      "metadata": {
        "colab": {
          "base_uri": "https://localhost:8080/"
        },
        "id": "UDmajCfC48_a",
        "outputId": "531c16a5-bd28-4e15-afb0-dc62defb4aab"
      },
      "execution_count": null,
      "outputs": [
        {
          "output_type": "stream",
          "name": "stdout",
          "text": [
            "['영희', '영자', '철수', '만수']\n"
          ]
        }
      ]
    },
    {
      "cell_type": "code",
      "source": [
        "L = ['x','y','z']\n",
        "L.remove('z')\n",
        "print(L)"
      ],
      "metadata": {
        "colab": {
          "base_uri": "https://localhost:8080/"
        },
        "id": "_IXIgKXm8jiY",
        "outputId": "1783b35b-ab25-4581-9b79-b7f750f38064"
      },
      "execution_count": null,
      "outputs": [
        {
          "output_type": "stream",
          "name": "stdout",
          "text": [
            "['x', 'y']\n"
          ]
        }
      ]
    },
    {
      "cell_type": "code",
      "source": [
        "L = [3,1,2,3,3,3,3,2]\n",
        "L.remove(3)\n",
        "print(L)"
      ],
      "metadata": {
        "colab": {
          "base_uri": "https://localhost:8080/"
        },
        "id": "Rf1HMy1_8yPr",
        "outputId": "faa5829f-7e66-4a75-9d13-e605c3aac6b0"
      },
      "execution_count": null,
      "outputs": [
        {
          "output_type": "stream",
          "name": "stdout",
          "text": [
            "[1, 2, 3, 3, 3, 3, 2]\n"
          ]
        }
      ]
    },
    {
      "cell_type": "code",
      "source": [
        "L = [1,2,3]\n",
        "L.pop(1)\n",
        "print(L)"
      ],
      "metadata": {
        "colab": {
          "base_uri": "https://localhost:8080/"
        },
        "id": "zlLcnZgH88IL",
        "outputId": "3c0a0022-115e-49d0-ae47-20d62f57c036"
      },
      "execution_count": null,
      "outputs": [
        {
          "output_type": "stream",
          "name": "stdout",
          "text": [
            "[1, 3]\n"
          ]
        }
      ]
    },
    {
      "cell_type": "code",
      "source": [
        "L = [1,2,3]\n",
        "L.pop()\n",
        "print(L)"
      ],
      "metadata": {
        "colab": {
          "base_uri": "https://localhost:8080/"
        },
        "id": "KyuZHO-y9SD2",
        "outputId": "d67e52b8-06ff-4dcf-abb5-bc68af687923"
      },
      "execution_count": null,
      "outputs": [
        {
          "output_type": "stream",
          "name": "stdout",
          "text": [
            "[1, 2]\n"
          ]
        }
      ]
    },
    {
      "cell_type": "code",
      "source": [
        "a = ['a','b','c','d']\n",
        "i=1\n",
        "print(a[:i]+a[i+1:])"
      ],
      "metadata": {
        "colab": {
          "base_uri": "https://localhost:8080/"
        },
        "id": "azhGVDak9gGa",
        "outputId": "7287599f-75fa-43b0-db36-60ecf395bcf9"
      },
      "execution_count": null,
      "outputs": [
        {
          "output_type": "stream",
          "name": "stdout",
          "text": [
            "['a', 'c', 'd']\n"
          ]
        }
      ]
    },
    {
      "cell_type": "code",
      "source": [
        "# len <- 길이\n",
        "L = ['a','b',1,2]\n",
        "T = (1,2,3)\n",
        "print(len(L), len(T))"
      ],
      "metadata": {
        "colab": {
          "base_uri": "https://localhost:8080/"
        },
        "id": "hFLuyNl594u_",
        "outputId": "e79a1a7f-7654-4982-a850-ad1bc2eb1aa1"
      },
      "execution_count": null,
      "outputs": [
        {
          "output_type": "stream",
          "name": "stdout",
          "text": [
            "4 3\n"
          ]
        }
      ]
    },
    {
      "cell_type": "code",
      "source": [
        "# 중첩리스트의 경우\n",
        "L = [[1,2,3,[10,20,30,40,50]],[4,5,6]]\n",
        "print(len(L))"
      ],
      "metadata": {
        "colab": {
          "base_uri": "https://localhost:8080/"
        },
        "id": "FeXfqhBf_RZI",
        "outputId": "db0f6700-9613-4874-a6e0-dcb0e9d9fcd4"
      },
      "execution_count": null,
      "outputs": [
        {
          "output_type": "stream",
          "name": "stdout",
          "text": [
            "2\n"
          ]
        }
      ]
    },
    {
      "cell_type": "code",
      "source": [
        "print(len(L[0][3]))"
      ],
      "metadata": {
        "colab": {
          "base_uri": "https://localhost:8080/"
        },
        "id": "lsq4e7U1_ukV",
        "outputId": "522bfac9-28b2-4d58-f796-01d81c31e3e2"
      },
      "execution_count": null,
      "outputs": [
        {
          "output_type": "stream",
          "name": "stdout",
          "text": [
            "5\n"
          ]
        }
      ]
    },
    {
      "cell_type": "code",
      "source": [
        "L[0][3][:4]"
      ],
      "metadata": {
        "colab": {
          "base_uri": "https://localhost:8080/"
        },
        "id": "qRsa-M0ZAeR1",
        "outputId": "1b012bfa-ed10-4a5d-b7a8-2c47983b602e"
      },
      "execution_count": null,
      "outputs": [
        {
          "output_type": "execute_result",
          "data": {
            "text/plain": [
              "[10, 20, 30, 40]"
            ]
          },
          "metadata": {},
          "execution_count": 176
        }
      ]
    },
    {
      "cell_type": "code",
      "source": [
        "(a,b) = (1,2)\n",
        "print(a,b)"
      ],
      "metadata": {
        "colab": {
          "base_uri": "https://localhost:8080/"
        },
        "id": "SKgJ_hFz_1Wb",
        "outputId": "5761f2ee-77c9-4f26-8883-0bcfece3364a"
      },
      "execution_count": null,
      "outputs": [
        {
          "output_type": "stream",
          "name": "stdout",
          "text": [
            "1 2\n"
          ]
        }
      ]
    },
    {
      "cell_type": "code",
      "source": [
        "(a,b) = (b,a)\n",
        "print(a,b)"
      ],
      "metadata": {
        "colab": {
          "base_uri": "https://localhost:8080/"
        },
        "id": "2tEoAWyjCMWM",
        "outputId": "fb68b3dd-ef1a-4018-e039-06a7363da0fc"
      },
      "execution_count": null,
      "outputs": [
        {
          "output_type": "stream",
          "name": "stdout",
          "text": [
            "2 1\n"
          ]
        }
      ]
    },
    {
      "cell_type": "code",
      "source": [
        "T = 1,2,3\n",
        "print(type(T))\n",
        "print(T)"
      ],
      "metadata": {
        "colab": {
          "base_uri": "https://localhost:8080/"
        },
        "id": "WYoWqouiCTHL",
        "outputId": "a546d19d-d48c-46ef-ad04-30dd9a814653"
      },
      "execution_count": 203,
      "outputs": [
        {
          "output_type": "stream",
          "name": "stdout",
          "text": [
            "<class 'tuple'>\n",
            "(1, 2, 3)\n"
          ]
        }
      ]
    },
    {
      "cell_type": "code",
      "source": [
        "a = [1,2,3]\n",
        "str(a[2]) +'hi'"
      ],
      "metadata": {
        "id": "tLLAW2tzDMVz",
        "colab": {
          "base_uri": "https://localhost:8080/",
          "height": 35
        },
        "outputId": "7711cc7b-ba44-43cc-8392-28fb8c4db136"
      },
      "execution_count": 205,
      "outputs": [
        {
          "output_type": "execute_result",
          "data": {
            "text/plain": [
              "'3hi'"
            ],
            "application/vnd.google.colaboratory.intrinsic+json": {
              "type": "string"
            }
          },
          "metadata": {},
          "execution_count": 205
        }
      ]
    },
    {
      "cell_type": "code",
      "source": [
        "a = [1,2,3]\n",
        "del a[1]\n",
        "a"
      ],
      "metadata": {
        "colab": {
          "base_uri": "https://localhost:8080/"
        },
        "id": "3G3fno0CV4ct",
        "outputId": "c04fae50-72e2-4cbd-854a-1a5202c261f9"
      },
      "execution_count": 211,
      "outputs": [
        {
          "output_type": "execute_result",
          "data": {
            "text/plain": [
              "[1, 3]"
            ]
          },
          "metadata": {},
          "execution_count": 211
        }
      ]
    },
    {
      "cell_type": "code",
      "source": [
        "# sort 정렬\n",
        "\n",
        "a = [1,5,2,3,6,4]\n",
        "a.sort()\n",
        "a"
      ],
      "metadata": {
        "id": "krdDVsHKDTTi",
        "colab": {
          "base_uri": "https://localhost:8080/"
        },
        "outputId": "b288cdcd-2420-4abf-9699-9d07fa5dc28b"
      },
      "execution_count": 212,
      "outputs": [
        {
          "output_type": "execute_result",
          "data": {
            "text/plain": [
              "[1, 2, 3, 4, 5, 6]"
            ]
          },
          "metadata": {},
          "execution_count": 212
        }
      ]
    },
    {
      "cell_type": "code",
      "source": [
        "a = ['b','d','a','c','f','e','g','h','z','l']\n",
        "a.sort()\n",
        "a"
      ],
      "metadata": {
        "colab": {
          "base_uri": "https://localhost:8080/"
        },
        "id": "kBTmWOOIWleu",
        "outputId": "8d88ab01-dc26-41e7-fac2-d18a71b6f16c"
      },
      "execution_count": 213,
      "outputs": [
        {
          "output_type": "execute_result",
          "data": {
            "text/plain": [
              "['a', 'b', 'c', 'd', 'e', 'f', 'g', 'h', 'l', 'z']"
            ]
          },
          "metadata": {},
          "execution_count": 213
        }
      ]
    },
    {
      "cell_type": "code",
      "source": [
        "a.reverse()\n",
        "a"
      ],
      "metadata": {
        "colab": {
          "base_uri": "https://localhost:8080/"
        },
        "id": "xarlhw9UWu65",
        "outputId": "4f10b305-3291-4397-89f3-faf98ee34d7c"
      },
      "execution_count": 214,
      "outputs": [
        {
          "output_type": "execute_result",
          "data": {
            "text/plain": [
              "['z', 'l', 'h', 'g', 'f', 'e', 'd', 'c', 'b', 'a']"
            ]
          },
          "metadata": {},
          "execution_count": 214
        }
      ]
    },
    {
      "cell_type": "code",
      "source": [
        "a = [2,3,4,1,3,3,3,8,7]\n",
        "a.count(3)\n"
      ],
      "metadata": {
        "colab": {
          "base_uri": "https://localhost:8080/"
        },
        "id": "acbslZlbXKqz",
        "outputId": "cf4922bf-a8d2-4e10-adb6-c5841e08f331"
      },
      "execution_count": 216,
      "outputs": [
        {
          "output_type": "execute_result",
          "data": {
            "text/plain": [
              "4"
            ]
          },
          "metadata": {},
          "execution_count": 216
        }
      ]
    },
    {
      "cell_type": "code",
      "source": [
        "a = [1,2,3]\n",
        "a.extend([4,5,6])\n",
        "a"
      ],
      "metadata": {
        "colab": {
          "base_uri": "https://localhost:8080/"
        },
        "id": "R3wSYabCXcaA",
        "outputId": "59b297be-737b-4ec8-ab4c-3a736b02935e"
      },
      "execution_count": 1,
      "outputs": [
        {
          "output_type": "execute_result",
          "data": {
            "text/plain": [
              "[1, 2, 3, 4, 5, 6]"
            ]
          },
          "metadata": {},
          "execution_count": 1
        }
      ]
    },
    {
      "cell_type": "code",
      "source": [
        "[1,2,3]+[4,5,6]"
      ],
      "metadata": {
        "colab": {
          "base_uri": "https://localhost:8080/"
        },
        "id": "Fby2xv2KX_nC",
        "outputId": "e1614f2f-8d62-4207-95a9-a0898945679e"
      },
      "execution_count": 1,
      "outputs": [
        {
          "output_type": "execute_result",
          "data": {
            "text/plain": [
              "[1, 2, 3, 4, 5, 6]"
            ]
          },
          "metadata": {},
          "execution_count": 1
        }
      ]
    },
    {
      "cell_type": "code",
      "source": [
        "x = {\"a\":1, \"b\":2, 'c':3}"
      ],
      "metadata": {
        "id": "7VDjKfohYOf6"
      },
      "execution_count": 36,
      "outputs": []
    },
    {
      "cell_type": "code",
      "source": [
        "print(x['a'])"
      ],
      "metadata": {
        "colab": {
          "base_uri": "https://localhost:8080/"
        },
        "id": "MUjSooHfb2l4",
        "outputId": "7821c9d2-d0b2-4a3b-b6f5-680e499bdbdc"
      },
      "execution_count": 30,
      "outputs": [
        {
          "output_type": "stream",
          "name": "stdout",
          "text": [
            "1\n"
          ]
        }
      ]
    },
    {
      "cell_type": "code",
      "source": [
        "x['d']=4\n",
        "x['b']=20\n",
        "print(x)"
      ],
      "metadata": {
        "colab": {
          "base_uri": "https://localhost:8080/"
        },
        "id": "V6A___eJck9o",
        "outputId": "89c73600-8c41-4e47-b74e-9ee77f09e44b"
      },
      "execution_count": 37,
      "outputs": [
        {
          "output_type": "stream",
          "name": "stdout",
          "text": [
            "{'a': 1, 'b': 20, 'c': 3, 'd': 4}\n"
          ]
        }
      ]
    },
    {
      "cell_type": "code",
      "source": [
        "del(x['a'])\n",
        "print(x)"
      ],
      "metadata": {
        "colab": {
          "base_uri": "https://localhost:8080/"
        },
        "id": "bDpvDTc6c_X6",
        "outputId": "a59a9a24-939c-4334-edb0-b06fe6d476b8"
      },
      "execution_count": 38,
      "outputs": [
        {
          "output_type": "stream",
          "name": "stdout",
          "text": [
            "{'b': 20, 'c': 3, 'd': 4}\n"
          ]
        }
      ]
    },
    {
      "cell_type": "code",
      "source": [
        "del x['b']\n",
        "print(x)"
      ],
      "metadata": {
        "colab": {
          "base_uri": "https://localhost:8080/"
        },
        "id": "7h7pWxWqcmV3",
        "outputId": "55bb09c7-b802-4b50-957c-1e272f5cab0b"
      },
      "execution_count": 39,
      "outputs": [
        {
          "output_type": "stream",
          "name": "stdout",
          "text": [
            "{'c': 3, 'd': 4}\n"
          ]
        }
      ]
    },
    {
      "cell_type": "code",
      "source": [
        "# 이름과 거주하는 동이름과 좋아하는 색을 딕셔너리 변수로 만들자\n",
        "# 참고: x = {'c':3,'a':1,'b':2}\n",
        "# 변수명 my_profile\n",
        "my_profile = {'name' : '정스용', 'dong':'청라동', 'color' : '검정'}\n",
        "print(my_profile)"
      ],
      "metadata": {
        "colab": {
          "base_uri": "https://localhost:8080/"
        },
        "id": "JgTBtdHrdhLK",
        "outputId": "2dfe07d7-cf3b-4290-c645-fc2d0a57801e"
      },
      "execution_count": 52,
      "outputs": [
        {
          "output_type": "stream",
          "name": "stdout",
          "text": [
            "{'name': '정스용', 'dong': '청라동', 'color': '검정'}\n"
          ]
        }
      ]
    },
    {
      "cell_type": "code",
      "source": [
        "# 기존 프로필에 좋아하는 숫자 추가\n",
        "my_profile['num'] = 6\n",
        "print(my_profile) "
      ],
      "metadata": {
        "colab": {
          "base_uri": "https://localhost:8080/"
        },
        "id": "ZD0PUCMReCeb",
        "outputId": "fdda72a5-1f54-4a95-9992-71b1cc26658f"
      },
      "execution_count": 53,
      "outputs": [
        {
          "output_type": "stream",
          "name": "stdout",
          "text": [
            "{'name': '정스용', 'dong': '청라동', 'color': '검정', 'num': 6}\n"
          ]
        }
      ]
    },
    {
      "cell_type": "code",
      "source": [
        "# 잘못 기입한 이름을 옳게 수정\n",
        "my_profile['name'] = '정승용'\n",
        "print(my_profile)"
      ],
      "metadata": {
        "colab": {
          "base_uri": "https://localhost:8080/"
        },
        "id": "hU2h0xwne_c4",
        "outputId": "c9530796-a7f3-4fe5-e106-ba780d96b112"
      },
      "execution_count": 54,
      "outputs": [
        {
          "output_type": "stream",
          "name": "stdout",
          "text": [
            "{'name': '정승용', 'dong': '청라동', 'color': '검정', 'num': 6}\n"
          ]
        }
      ]
    },
    {
      "cell_type": "code",
      "source": [
        "# 이름은 민간한 정보라 삭제\n",
        "del my_profile['name']\n",
        "print(my_profile)"
      ],
      "metadata": {
        "colab": {
          "base_uri": "https://localhost:8080/"
        },
        "id": "5j47tByLffeF",
        "outputId": "554e9901-5cfb-4740-8dee-1cda05f3a450"
      },
      "execution_count": 55,
      "outputs": [
        {
          "output_type": "stream",
          "name": "stdout",
          "text": [
            "{'dong': '청라동', 'color': '검정', 'num': 6}\n"
          ]
        }
      ]
    },
    {
      "cell_type": "code",
      "source": [
        "# 좋아하는 운동 2가지 추가\n",
        "my_profile['favorite_sports'] = {'1':'당구','2':'야구'}\n",
        "print(my_profile)"
      ],
      "metadata": {
        "colab": {
          "base_uri": "https://localhost:8080/"
        },
        "id": "tjPmTHymfzhF",
        "outputId": "a96d4a9d-3911-43cd-db3d-a8662f9bff4b"
      },
      "execution_count": 65,
      "outputs": [
        {
          "output_type": "stream",
          "name": "stdout",
          "text": [
            "{'dong': '청라동', 'color': '검정', 'num': 6, 'favorite_sports': {'1': '당구', '2': '야구'}}\n"
          ]
        }
      ]
    },
    {
      "cell_type": "code",
      "source": [
        "print(my_profile.keys())\n",
        "print(my_profile.values())\n",
        "print(my_profile.items())"
      ],
      "metadata": {
        "colab": {
          "base_uri": "https://localhost:8080/"
        },
        "id": "_QCvHbW1gzML",
        "outputId": "3a9d0d35-0386-48ec-8a45-80a078d065fc"
      },
      "execution_count": 76,
      "outputs": [
        {
          "output_type": "stream",
          "name": "stdout",
          "text": [
            "dict_keys(['dong', 'color', 'num', 'favorite_sports'])\n",
            "dict_values(['청라동', '검정', 6, {'1': '당구', '2': '야구'}])\n",
            "dict_items([('dong', '청라동'), ('color', '검정'), ('num', 6), ('favorite_sports', {'1': '당구', '2': '야구'})])\n"
          ]
        }
      ]
    },
    {
      "cell_type": "code",
      "source": [
        "x = {'a':1,'b':2,'c':3}"
      ],
      "metadata": {
        "id": "1Ehk8YdwiuD8"
      },
      "execution_count": 78,
      "outputs": []
    },
    {
      "cell_type": "code",
      "source": [
        "print(x.keys())\n",
        "print(x.values())\n",
        "print(x.items())"
      ],
      "metadata": {
        "colab": {
          "base_uri": "https://localhost:8080/"
        },
        "id": "2Ww46o-olgZX",
        "outputId": "cc7bb450-4738-4dc5-a5c4-64c8d2b135d8"
      },
      "execution_count": 81,
      "outputs": [
        {
          "output_type": "stream",
          "name": "stdout",
          "text": [
            "dict_keys(['a', 'b', 'c'])\n",
            "dict_values([1, 2, 3])\n",
            "dict_items([('a', 1), ('b', 2), ('c', 3)])\n"
          ]
        }
      ]
    },
    {
      "cell_type": "code",
      "source": [
        "# 집합자료형 \n",
        "# 중복 허용하지 않는 자료형\n",
        "# 인덱싱 슬라이싱 불가능\n",
        "s1 = {1,2,3,2,1}\n",
        "s2 = set([1,2,3,2,1])\n",
        "print(type(s1),type(s2))\n",
        "print(s1,s2)"
      ],
      "metadata": {
        "colab": {
          "base_uri": "https://localhost:8080/"
        },
        "id": "1Zt-6Q86ljm4",
        "outputId": "92d0be09-11e8-476a-84e4-4faf6672636b"
      },
      "execution_count": 101,
      "outputs": [
        {
          "output_type": "stream",
          "name": "stdout",
          "text": [
            "<class 'set'> <class 'set'>\n",
            "{1, 2, 3} {1, 2, 3}\n"
          ]
        }
      ]
    },
    {
      "cell_type": "code",
      "source": [
        "L = [1,2,3,1,2,3]\n",
        "print(type(L))\n",
        "print(L)\n",
        "print('-------------------')\n",
        "L = set(L)\n",
        "print(type(L))\n",
        "print(L)\n",
        "print('-------------------')\n",
        "L = list(L)\n",
        "print(type(L))\n",
        "print(L)"
      ],
      "metadata": {
        "colab": {
          "base_uri": "https://localhost:8080/"
        },
        "id": "deWeWKXlmjVq",
        "outputId": "6ef7cd1a-3f05-4d49-e84a-825f5b55da77"
      },
      "execution_count": 108,
      "outputs": [
        {
          "output_type": "stream",
          "name": "stdout",
          "text": [
            "<class 'list'>\n",
            "[1, 2, 3, 1, 2, 3]\n",
            "-------------------\n",
            "<class 'set'>\n",
            "{1, 2, 3}\n",
            "-------------------\n",
            "<class 'list'>\n",
            "[1, 2, 3]\n"
          ]
        }
      ]
    },
    {
      "cell_type": "code",
      "source": [
        "# 형변환(자료형 변환)\n",
        "a=1\n",
        "b=2.0\n",
        "\n",
        "a_float = float(a)\n",
        "print(a_float)\n",
        "\n",
        "\n",
        "b_int = int(b)\n",
        "print(b_int)\n",
        "\n",
        "\n",
        "# tuple -> list\n",
        "\n",
        "t = (1,2,3)\n",
        "print(type(t))\n",
        "\n",
        "\n",
        "print(t)\n",
        "\n",
        "t_list = list(t)\n",
        "\n",
        "print(type(t_list))\n",
        "\n",
        "print(t_list)\n",
        "t_list[0]=1000\n",
        "\n",
        "print(t_list)\n",
        "# list -> tuple\n",
        "\n",
        "t_again = tuple(t_list)\n",
        "\n",
        "print(type(t_again))\n",
        "\n",
        "print(t_again)"
      ],
      "metadata": {
        "colab": {
          "base_uri": "https://localhost:8080/"
        },
        "id": "dK7XL6OAn4-h",
        "outputId": "15ed32a5-1991-48e6-d2b7-8c4928f06e32"
      },
      "execution_count": 122,
      "outputs": [
        {
          "output_type": "stream",
          "name": "stdout",
          "text": [
            "1.0\n",
            "2\n",
            "<class 'tuple'>\n",
            "(1, 2, 3)\n",
            "<class 'list'>\n",
            "[1, 2, 3]\n",
            "[1000, 2, 3]\n",
            "<class 'tuple'>\n",
            "(1000, 2, 3)\n"
          ]
        }
      ]
    },
    {
      "cell_type": "code",
      "source": [
        "# 교집합\n",
        "s1 = {1,2,3,4}\n",
        "s2 = {3,4,5,6}\n",
        "\n",
        "print(s1 & s2)\n",
        "print(s1.intersection(s2))\n",
        "print(s2.intersection(s1))"
      ],
      "metadata": {
        "colab": {
          "base_uri": "https://localhost:8080/"
        },
        "id": "LNa9c51qoJmM",
        "outputId": "89f0f16e-562a-4138-f65d-3e266a960f2c"
      },
      "execution_count": 124,
      "outputs": [
        {
          "output_type": "stream",
          "name": "stdout",
          "text": [
            "{3, 4}\n",
            "{3, 4}\n",
            "{3, 4}\n"
          ]
        }
      ]
    },
    {
      "cell_type": "code",
      "source": [
        "# 합집합\n",
        "s1 = {1,2,3,4}\n",
        "s2 = {3,4,5,6}\n",
        "\n",
        "print(s1 | s2)\n",
        "print(s1.union(s2))\n",
        "print(s2.union(s1))"
      ],
      "metadata": {
        "colab": {
          "base_uri": "https://localhost:8080/"
        },
        "id": "w-00inQLqJ6H",
        "outputId": "7b74fc6f-e759-4c1d-8c91-16681d8be4f4"
      },
      "execution_count": 126,
      "outputs": [
        {
          "output_type": "stream",
          "name": "stdout",
          "text": [
            "{1, 2, 3, 4, 5, 6}\n",
            "{1, 2, 3, 4, 5, 6}\n",
            "{1, 2, 3, 4, 5, 6}\n"
          ]
        }
      ]
    },
    {
      "cell_type": "code",
      "source": [
        "# 차집합\n",
        "s1 = {1,2,3,4}\n",
        "s2 = {3,4,5,6}\n",
        "\n",
        "print(s1 - s2)\n",
        "print(s2 - s1)\n",
        "print(s1.difference(s2))\n",
        "print(s2.difference(s1))"
      ],
      "metadata": {
        "colab": {
          "base_uri": "https://localhost:8080/"
        },
        "id": "_IFUJpipqckv",
        "outputId": "9c8ae0ea-6c98-4680-cf12-3ffe3aa12fc6"
      },
      "execution_count": 129,
      "outputs": [
        {
          "output_type": "stream",
          "name": "stdout",
          "text": [
            "{1, 2}\n",
            "{5, 6}\n",
            "{1, 2}\n",
            "{5, 6}\n"
          ]
        }
      ]
    },
    {
      "cell_type": "code",
      "source": [],
      "metadata": {
        "id": "vrqfflqmqlqV"
      },
      "execution_count": null,
      "outputs": []
    }
  ]
}