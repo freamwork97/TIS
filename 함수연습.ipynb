{
  "nbformat": 4,
  "nbformat_minor": 0,
  "metadata": {
    "colab": {
      "provenance": [],
      "authorship_tag": "ABX9TyOZ03zQpUrAlgyjbMDjiVP3",
      "include_colab_link": true
    },
    "kernelspec": {
      "name": "python3",
      "display_name": "Python 3"
    },
    "language_info": {
      "name": "python"
    }
  },
  "cells": [
    {
      "cell_type": "markdown",
      "metadata": {
        "id": "view-in-github",
        "colab_type": "text"
      },
      "source": [
        "<a href=\"https://colab.research.google.com/github/freamwork97/TIS/blob/main/%ED%95%A8%EC%88%98%EC%97%B0%EC%8A%B5.ipynb\" target=\"_parent\"><img src=\"https://colab.research.google.com/assets/colab-badge.svg\" alt=\"Open In Colab\"/></a>"
      ]
    },
    {
      "cell_type": "code",
      "execution_count": 3,
      "metadata": {
        "colab": {
          "base_uri": "https://localhost:8080/"
        },
        "id": "iBBNsnh_sGz0",
        "outputId": "af9df611-542d-4d6b-ead1-b31db67d3759"
      },
      "outputs": [
        {
          "output_type": "stream",
          "name": "stdout",
          "text": [
            "11\n",
            "-4\n",
            "2.0\n",
            "63\n"
          ]
        }
      ],
      "source": [
        "def sum(a,b):\n",
        "  return a+b\n",
        "def minus(a,b):\n",
        "  return a-b\n",
        "def div(a,b):\n",
        "  return a/b\n",
        "def mul(a,b):\n",
        "  return a*b\n",
        "print(sum(5,6))\n",
        "print(minus(5,9))\n",
        "print(div(8,4))\n",
        "print(mul(9,7))"
      ]
    },
    {
      "cell_type": "code",
      "source": [
        "def add(i):\n",
        "  x = i + 1\n",
        "  return x\n",
        "\n",
        "print(add(5))"
      ],
      "metadata": {
        "colab": {
          "base_uri": "https://localhost:8080/"
        },
        "id": "F0brncIgsv_X",
        "outputId": "6dde5d5c-02a5-4b65-a0a0-af8ec5e4e6bf"
      },
      "execution_count": 26,
      "outputs": [
        {
          "output_type": "stream",
          "name": "stdout",
          "text": [
            "6\n"
          ]
        }
      ]
    },
    {
      "cell_type": "code",
      "source": [
        "def 세제곱(i):\n",
        "  x = i**3\n",
        "  return x\n",
        "\n",
        "print(세제곱(4))"
      ],
      "metadata": {
        "colab": {
          "base_uri": "https://localhost:8080/"
        },
        "id": "A0xYBLolwvoI",
        "outputId": "c74bde99-4aa2-48e1-c86f-57c1817853c0"
      },
      "execution_count": 28,
      "outputs": [
        {
          "output_type": "stream",
          "name": "stdout",
          "text": [
            "64\n"
          ]
        }
      ]
    },
    {
      "cell_type": "code",
      "source": [
        "def f(x):\n",
        "  y = 2* x - 1\n",
        "  return y\n",
        "\n",
        "print(f(5))"
      ],
      "metadata": {
        "colab": {
          "base_uri": "https://localhost:8080/"
        },
        "id": "WTpXuPsuxC9s",
        "outputId": "042d6283-4db5-4853-c055-0b667465caa7"
      },
      "execution_count": 34,
      "outputs": [
        {
          "output_type": "stream",
          "name": "stdout",
          "text": [
            "9\n"
          ]
        }
      ]
    },
    {
      "cell_type": "code",
      "source": [
        "# 숫자 x를 입력하면 제곱이 반환 되는 함수\n",
        "def xx(a):\n",
        "  x = a**2\n",
        "  return x\n",
        "print(xx(3))"
      ],
      "metadata": {
        "colab": {
          "base_uri": "https://localhost:8080/"
        },
        "id": "kpvk-f9lxdI4",
        "outputId": "12d1c869-a59b-41d9-cc3a-0a0c243f3b5c"
      },
      "execution_count": 35,
      "outputs": [
        {
          "output_type": "stream",
          "name": "stdout",
          "text": [
            "9\n"
          ]
        }
      ]
    },
    {
      "cell_type": "code",
      "source": [
        "# 짝수가 입력되면 짝수 홀수가 입력돼면 홀수를 출력\n",
        "# 임의의 짝수 홀수 입력하여 함수 호출\n",
        "\n",
        "def a(b):\n",
        "  if b % 2 == 0:\n",
        "    return \"짝수\"\n",
        "  else:\n",
        "    return \"홀수\"\n",
        "\n",
        "for i in range(1,10):\n",
        "  print(a(i))"
      ],
      "metadata": {
        "colab": {
          "base_uri": "https://localhost:8080/"
        },
        "id": "k3p8_K2xyVbj",
        "outputId": "7565c861-fb61-4e54-993c-f874c9e4f32c"
      },
      "execution_count": 65,
      "outputs": [
        {
          "output_type": "stream",
          "name": "stdout",
          "text": [
            "홀수\n",
            "짝수\n",
            "홀수\n",
            "짝수\n",
            "홀수\n",
            "짝수\n",
            "홀수\n",
            "짝수\n",
            "홀수\n"
          ]
        }
      ]
    },
    {
      "cell_type": "code",
      "source": [
        "def abstract(a,b):\n",
        "  return a-b"
      ],
      "metadata": {
        "id": "RX4MDXvbyroC"
      },
      "execution_count": 68,
      "outputs": []
    },
    {
      "cell_type": "code",
      "source": [
        "print(abstract(8,9))"
      ],
      "metadata": {
        "colab": {
          "base_uri": "https://localhost:8080/"
        },
        "id": "I1wX_ocnz5ER",
        "outputId": "5ef6189c-afe6-4510-89ff-e6735b028e8f"
      },
      "execution_count": 69,
      "outputs": [
        {
          "output_type": "stream",
          "name": "stdout",
          "text": [
            "-1\n"
          ]
        }
      ]
    },
    {
      "cell_type": "code",
      "source": [
        "print(abstract(b=7,a=9))"
      ],
      "metadata": {
        "colab": {
          "base_uri": "https://localhost:8080/"
        },
        "id": "JleG9za21spK",
        "outputId": "071fa05e-0b32-4d09-c5a1-67a486d03398"
      },
      "execution_count": 76,
      "outputs": [
        {
          "output_type": "stream",
          "name": "stdout",
          "text": [
            "2\n"
          ]
        }
      ]
    },
    {
      "cell_type": "code",
      "source": [
        "# 3개 인자를 받아 모두 더하여 반환하는 함수\n",
        "def add(a,b,c):\n",
        "  return a+b+c\n",
        "\n",
        "print(add(8,9,7))\n"
      ],
      "metadata": {
        "colab": {
          "base_uri": "https://localhost:8080/"
        },
        "id": "10z6OEU_2AeT",
        "outputId": "91517e5a-1cdf-4c46-f389-3ceca0e99471"
      },
      "execution_count": 81,
      "outputs": [
        {
          "output_type": "stream",
          "name": "stdout",
          "text": [
            "24\n"
          ]
        }
      ]
    },
    {
      "cell_type": "code",
      "source": [
        "def print_n_times(msg,n=2): # n = 2 로 n을 기본값으로 2를 사용하겠다 선언\n",
        "  for _ in range(n): # for문의 변수가 활용되지 않고 단순하게 n번 반복하겠다\n",
        "    print(msg)"
      ],
      "metadata": {
        "id": "xr6Bvwa32Jfe"
      },
      "execution_count": 104,
      "outputs": []
    },
    {
      "cell_type": "code",
      "source": [
        "a = input()\n",
        "print('-'*10)\n",
        "print_n_times(a,7)"
      ],
      "metadata": {
        "colab": {
          "base_uri": "https://localhost:8080/"
        },
        "id": "9m6wr1ex3U2M",
        "outputId": "906d929c-5889-46f7-a49b-8a6ff3e31741"
      },
      "execution_count": 110,
      "outputs": [
        {
          "output_type": "stream",
          "name": "stdout",
          "text": [
            "5\n",
            "----------\n",
            "5\n",
            "5\n",
            "5\n",
            "5\n",
            "5\n",
            "5\n",
            "5\n"
          ]
        }
      ]
    },
    {
      "cell_type": "code",
      "source": [],
      "metadata": {
        "id": "lf_BlMsz6p3r"
      },
      "execution_count": null,
      "outputs": []
    }
  ]
}