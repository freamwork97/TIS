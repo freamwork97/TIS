{
  "nbformat": 4,
  "nbformat_minor": 0,
  "metadata": {
    "colab": {
      "provenance": [],
      "authorship_tag": "ABX9TyNVLleSxObhm9Q1DYs9dMew",
      "include_colab_link": true
    },
    "kernelspec": {
      "name": "python3",
      "display_name": "Python 3"
    },
    "language_info": {
      "name": "python"
    }
  },
  "cells": [
    {
      "cell_type": "markdown",
      "metadata": {
        "id": "view-in-github",
        "colab_type": "text"
      },
      "source": [
        "<a href=\"https://colab.research.google.com/github/freamwork97/TIS/blob/main/%ED%95%A8%EC%88%98%EC%97%B0%EC%8A%B5.ipynb\" target=\"_parent\"><img src=\"https://colab.research.google.com/assets/colab-badge.svg\" alt=\"Open In Colab\"/></a>"
      ]
    },
    {
      "cell_type": "code",
      "execution_count": null,
      "metadata": {
        "colab": {
          "base_uri": "https://localhost:8080/"
        },
        "id": "iBBNsnh_sGz0",
        "outputId": "af9df611-542d-4d6b-ead1-b31db67d3759"
      },
      "outputs": [
        {
          "output_type": "stream",
          "name": "stdout",
          "text": [
            "11\n",
            "-4\n",
            "2.0\n",
            "63\n"
          ]
        }
      ],
      "source": [
        "def sum(a,b):\n",
        "  return a+b\n",
        "def minus(a,b):\n",
        "  return a-b\n",
        "def div(a,b):\n",
        "  return a/b\n",
        "def mul(a,b):\n",
        "  return a*b\n",
        "print(sum(5,6))\n",
        "print(minus(5,9))\n",
        "print(div(8,4))\n",
        "print(mul(9,7))"
      ]
    },
    {
      "cell_type": "code",
      "source": [
        "def add(i):\n",
        "  x = i + 1\n",
        "  return x\n",
        "\n",
        "print(add(5))"
      ],
      "metadata": {
        "colab": {
          "base_uri": "https://localhost:8080/"
        },
        "id": "F0brncIgsv_X",
        "outputId": "6dde5d5c-02a5-4b65-a0a0-af8ec5e4e6bf"
      },
      "execution_count": null,
      "outputs": [
        {
          "output_type": "stream",
          "name": "stdout",
          "text": [
            "6\n"
          ]
        }
      ]
    },
    {
      "cell_type": "code",
      "source": [
        "def 세제곱(i):\n",
        "  x = i**3\n",
        "  return x\n",
        "\n",
        "print(세제곱(4))"
      ],
      "metadata": {
        "colab": {
          "base_uri": "https://localhost:8080/"
        },
        "id": "A0xYBLolwvoI",
        "outputId": "c74bde99-4aa2-48e1-c86f-57c1817853c0"
      },
      "execution_count": null,
      "outputs": [
        {
          "output_type": "stream",
          "name": "stdout",
          "text": [
            "64\n"
          ]
        }
      ]
    },
    {
      "cell_type": "code",
      "source": [
        "def f(x):\n",
        "  y = 2* x - 1\n",
        "  return y\n",
        "\n",
        "print(f(5))"
      ],
      "metadata": {
        "colab": {
          "base_uri": "https://localhost:8080/"
        },
        "id": "WTpXuPsuxC9s",
        "outputId": "042d6283-4db5-4853-c055-0b667465caa7"
      },
      "execution_count": null,
      "outputs": [
        {
          "output_type": "stream",
          "name": "stdout",
          "text": [
            "9\n"
          ]
        }
      ]
    },
    {
      "cell_type": "code",
      "source": [
        "# 숫자 x를 입력하면 제곱이 반환 되는 함수\n",
        "def xx(a):\n",
        "  x = a**2\n",
        "  return x\n",
        "print(xx(3))"
      ],
      "metadata": {
        "colab": {
          "base_uri": "https://localhost:8080/"
        },
        "id": "kpvk-f9lxdI4",
        "outputId": "12d1c869-a59b-41d9-cc3a-0a0c243f3b5c"
      },
      "execution_count": null,
      "outputs": [
        {
          "output_type": "stream",
          "name": "stdout",
          "text": [
            "9\n"
          ]
        }
      ]
    },
    {
      "cell_type": "code",
      "source": [
        "# 짝수가 입력되면 짝수 홀수가 입력돼면 홀수를 출력\n",
        "# 임의의 짝수 홀수 입력하여 함수 호출\n",
        "\n",
        "def a(b):\n",
        "  if b % 2 == 0:\n",
        "    return \"짝수\"\n",
        "  else:\n",
        "    return \"홀수\"\n",
        "\n",
        "for i in range(1,10):\n",
        "  print(a(i))"
      ],
      "metadata": {
        "colab": {
          "base_uri": "https://localhost:8080/"
        },
        "id": "k3p8_K2xyVbj",
        "outputId": "7565c861-fb61-4e54-993c-f874c9e4f32c"
      },
      "execution_count": null,
      "outputs": [
        {
          "output_type": "stream",
          "name": "stdout",
          "text": [
            "홀수\n",
            "짝수\n",
            "홀수\n",
            "짝수\n",
            "홀수\n",
            "짝수\n",
            "홀수\n",
            "짝수\n",
            "홀수\n"
          ]
        }
      ]
    },
    {
      "cell_type": "code",
      "source": [
        "def abstract(a,b):\n",
        "  return a-b"
      ],
      "metadata": {
        "id": "RX4MDXvbyroC"
      },
      "execution_count": null,
      "outputs": []
    },
    {
      "cell_type": "code",
      "source": [
        "print(abstract(8,9))"
      ],
      "metadata": {
        "colab": {
          "base_uri": "https://localhost:8080/"
        },
        "id": "I1wX_ocnz5ER",
        "outputId": "5ef6189c-afe6-4510-89ff-e6735b028e8f"
      },
      "execution_count": null,
      "outputs": [
        {
          "output_type": "stream",
          "name": "stdout",
          "text": [
            "-1\n"
          ]
        }
      ]
    },
    {
      "cell_type": "code",
      "source": [
        "print(abstract(b=7,a=9))"
      ],
      "metadata": {
        "colab": {
          "base_uri": "https://localhost:8080/"
        },
        "id": "JleG9za21spK",
        "outputId": "071fa05e-0b32-4d09-c5a1-67a486d03398"
      },
      "execution_count": null,
      "outputs": [
        {
          "output_type": "stream",
          "name": "stdout",
          "text": [
            "2\n"
          ]
        }
      ]
    },
    {
      "cell_type": "code",
      "source": [
        "# 3개 인자를 받아 모두 더하여 반환하는 함수\n",
        "def add(a,b,c):\n",
        "  return a+b+c\n",
        "\n",
        "print(add(8,9,7))\n"
      ],
      "metadata": {
        "colab": {
          "base_uri": "https://localhost:8080/"
        },
        "id": "10z6OEU_2AeT",
        "outputId": "91517e5a-1cdf-4c46-f389-3ceca0e99471"
      },
      "execution_count": null,
      "outputs": [
        {
          "output_type": "stream",
          "name": "stdout",
          "text": [
            "24\n"
          ]
        }
      ]
    },
    {
      "cell_type": "code",
      "source": [
        "def print_n_times(msg,n=2): # n = 2 로 n을 기본값으로 2를 사용하겠다 선언\n",
        "  for _ in range(n): # for문의 변수가 활용되지 않고 단순하게 n번 반복하겠다\n",
        "    print(msg)"
      ],
      "metadata": {
        "id": "xr6Bvwa32Jfe"
      },
      "execution_count": 2,
      "outputs": []
    },
    {
      "cell_type": "code",
      "source": [
        "a = input()\n",
        "print('-'*10)\n",
        "print_n_times(a,7)"
      ],
      "metadata": {
        "colab": {
          "base_uri": "https://localhost:8080/"
        },
        "id": "9m6wr1ex3U2M",
        "outputId": "3c7e3b40-e7fa-4a7b-e08d-4636c01a2ece"
      },
      "execution_count": 4,
      "outputs": [
        {
          "output_type": "stream",
          "name": "stdout",
          "text": [
            "hello\n",
            "----------\n",
            "hello\n",
            "hello\n",
            "hello\n",
            "hello\n",
            "hello\n",
            "hello\n",
            "hello\n"
          ]
        }
      ]
    },
    {
      "cell_type": "code",
      "source": [
        "def 세제곱(a):\n",
        "  b = a**3\n",
        "  return b\n",
        "\n",
        "세제곱(9)"
      ],
      "metadata": {
        "id": "lf_BlMsz6p3r",
        "colab": {
          "base_uri": "https://localhost:8080/"
        },
        "outputId": "3ef611e4-2e82-4c9b-bd01-9931716078c9"
      },
      "execution_count": 8,
      "outputs": [
        {
          "output_type": "execute_result",
          "data": {
            "text/plain": [
              "729"
            ]
          },
          "metadata": {},
          "execution_count": 8
        }
      ]
    },
    {
      "cell_type": "code",
      "source": [
        "def f(x):\n",
        "  y = 3*x + 3\n",
        "  return y\n",
        "\n",
        "f(5)"
      ],
      "metadata": {
        "colab": {
          "base_uri": "https://localhost:8080/"
        },
        "id": "g-LfdevsGZZ8",
        "outputId": "2804df2c-a59a-4684-b1be-4535d2b2a9ea"
      },
      "execution_count": 9,
      "outputs": [
        {
          "output_type": "execute_result",
          "data": {
            "text/plain": [
              "18"
            ]
          },
          "metadata": {},
          "execution_count": 9
        }
      ]
    },
    {
      "cell_type": "code",
      "source": [
        "def minus(a,b):\n",
        "  c = a-b\n",
        "  return c\n",
        "\n",
        "minus(87,36)"
      ],
      "metadata": {
        "colab": {
          "base_uri": "https://localhost:8080/"
        },
        "id": "X2JWME3OGjiq",
        "outputId": "0b0ece7e-2370-4180-f531-b04739bc2ba2"
      },
      "execution_count": 10,
      "outputs": [
        {
          "output_type": "execute_result",
          "data": {
            "text/plain": [
              "51"
            ]
          },
          "metadata": {},
          "execution_count": 10
        }
      ]
    },
    {
      "cell_type": "code",
      "source": [
        "def mul(a,b):\n",
        "  c = a*b\n",
        "  return c\n",
        "\n",
        "mul(85,10)"
      ],
      "metadata": {
        "colab": {
          "base_uri": "https://localhost:8080/"
        },
        "id": "RGXrWcTdHLmD",
        "outputId": "2ee28e58-b20e-4976-b241-5038f4fd3e70"
      },
      "execution_count": 11,
      "outputs": [
        {
          "output_type": "execute_result",
          "data": {
            "text/plain": [
              "850"
            ]
          },
          "metadata": {},
          "execution_count": 11
        }
      ]
    },
    {
      "cell_type": "code",
      "source": [
        "print(minus(b=10,a=54))"
      ],
      "metadata": {
        "colab": {
          "base_uri": "https://localhost:8080/"
        },
        "id": "rcFdOoVTHSk1",
        "outputId": "4abebf5c-6187-41f6-af28-743202faba51"
      },
      "execution_count": 12,
      "outputs": [
        {
          "output_type": "stream",
          "name": "stdout",
          "text": [
            "44\n"
          ]
        }
      ]
    },
    {
      "cell_type": "code",
      "source": [
        "def a(a,b,c):\n",
        "  d = a+b+c\n",
        "  e = a-b-c\n",
        "  return d,e\n",
        "\n",
        "a(5,4,3)"
      ],
      "metadata": {
        "colab": {
          "base_uri": "https://localhost:8080/"
        },
        "id": "7E69fRnWHh7W",
        "outputId": "99d01d84-0398-44a4-9e3b-7fc0fae4a001"
      },
      "execution_count": 13,
      "outputs": [
        {
          "output_type": "execute_result",
          "data": {
            "text/plain": [
              "(12, -2)"
            ]
          },
          "metadata": {},
          "execution_count": 13
        }
      ]
    },
    {
      "cell_type": "code",
      "source": [
        "def print_n_msg(msg,n=3):\n",
        "  for _ in range(n):\n",
        "    print(msg)\n",
        "\n",
        "print_n_msg('hello')"
      ],
      "metadata": {
        "colab": {
          "base_uri": "https://localhost:8080/"
        },
        "id": "tzTuanA_H2_N",
        "outputId": "9199999f-3ff0-4d0f-d838-3fe17b6e7ada"
      },
      "execution_count": 18,
      "outputs": [
        {
          "output_type": "stream",
          "name": "stdout",
          "text": [
            "hello\n",
            "hello\n",
            "hello\n"
          ]
        }
      ]
    },
    {
      "cell_type": "code",
      "source": [
        "# 함수(r1_caffeteria_menu)만들자\n",
        "# 밥 (rice_kind) 국(soup_kind) 후식(dessert_kind) 키로 하는 딕셔너리 반환\n",
        "# 후식 디폴트는 ;매실차\n",
        "def r1_caffeteria_menu(rice_kind, soup_kind,dessert_kind = '매실차'):\n",
        "  return {'밥': rice_kind, '국':soup_kind,'후식':dessert_kind}\n",
        "\n",
        "print(r1_caffeteria_menu('쌀밥','된장국'))\n",
        "print('-'*10)\n",
        "# 반찬 dish_kind\n",
        "def r1_caffeteria_menu2(rice_kind, soup_kind,dish_kind,dessert_kind = '매실차'):\n",
        "  return {'밥': rice_kind, '국':soup_kind,'반찬':dish_kind ,'후식':dessert_kind}\n",
        "\n",
        "\n",
        "print(r1_caffeteria_menu2('잡곡밥','소고기무국','제육','오렌지'))\n",
        "print(r1_caffeteria_menu2('쌀밥','된장국','제육'))"
      ],
      "metadata": {
        "colab": {
          "base_uri": "https://localhost:8080/"
        },
        "id": "QV7AvVRyIbqx",
        "outputId": "4cea56e3-df44-495c-809e-e6d2824833d7"
      },
      "execution_count": 44,
      "outputs": [
        {
          "output_type": "stream",
          "name": "stdout",
          "text": [
            "{'밥': '쌀밥', '국': '된장국', '후식': '매실차'}\n",
            "----------\n",
            "{'밥': '잡곡밥', '국': '소고기무국', '반찬': '제육', '후식': '오렌지'}\n",
            "{'밥': '쌀밥', '국': '된장국', '반찬': '제육', '후식': '매실차'}\n"
          ]
        }
      ]
    },
    {
      "cell_type": "code",
      "source": [
        "today_menu = r1_caffeteria_menu2('흰쌀밥','콩나물국','계란말이','오렌지주스')\n",
        "# 오늘의 반찬을 출력\n",
        "today_menu['반찬']"
      ],
      "metadata": {
        "colab": {
          "base_uri": "https://localhost:8080/",
          "height": 35
        },
        "id": "tac8BTq2NEcv",
        "outputId": "ee424dec-57d8-4b35-be5c-738336bea784"
      },
      "execution_count": 41,
      "outputs": [
        {
          "output_type": "execute_result",
          "data": {
            "text/plain": [
              "'계란말이'"
            ],
            "application/vnd.google.colaboratory.intrinsic+json": {
              "type": "string"
            }
          },
          "metadata": {},
          "execution_count": 41
        }
      ]
    },
    {
      "cell_type": "code",
      "source": [
        "d1 = {'밥':'흰쌀밥','국':'콩나물국','반찬':'계란말이','후식':'오렌지주스'}\n",
        "d1['반찬']"
      ],
      "metadata": {
        "colab": {
          "base_uri": "https://localhost:8080/",
          "height": 35
        },
        "id": "Ew1o9IJwNask",
        "outputId": "2b79f389-9376-4a82-c20b-5c949b1e8c15"
      },
      "execution_count": 42,
      "outputs": [
        {
          "output_type": "execute_result",
          "data": {
            "text/plain": [
              "'계란말이'"
            ],
            "application/vnd.google.colaboratory.intrinsic+json": {
              "type": "string"
            }
          },
          "metadata": {},
          "execution_count": 42
        }
      ]
    },
    {
      "cell_type": "code",
      "source": [
        "result = print_n_times('출력이 없는 함수',1)\n",
        "print(result)"
      ],
      "metadata": {
        "colab": {
          "base_uri": "https://localhost:8080/"
        },
        "id": "MwB71KV7N-SH",
        "outputId": "84cc0774-916e-48f3-bafc-89a064a34bad"
      },
      "execution_count": 46,
      "outputs": [
        {
          "output_type": "stream",
          "name": "stdout",
          "text": [
            "출력이 없는 함수\n",
            "None\n"
          ]
        }
      ]
    },
    {
      "cell_type": "markdown",
      "source": [
        "# 람다(lambda)\n",
        "람다 = 익명함수 \n",
        "\n",
        "함수이름 명시x\n"
      ],
      "metadata": {
        "id": "A7rJArTYO7li"
      }
    },
    {
      "cell_type": "code",
      "source": [
        "simple = lambda x: x+2\n",
        "simple(5)"
      ],
      "metadata": {
        "colab": {
          "base_uri": "https://localhost:8080/"
        },
        "id": "wLXAEQsBOzOn",
        "outputId": "ff36d622-beb9-45c1-961f-a3b8da6ac44b"
      },
      "execution_count": 48,
      "outputs": [
        {
          "output_type": "execute_result",
          "data": {
            "text/plain": [
              "7"
            ]
          },
          "metadata": {},
          "execution_count": 48
        }
      ]
    },
    {
      "cell_type": "code",
      "source": [
        "minus = lambda x, y : x-y\n",
        "minus(8,6)"
      ],
      "metadata": {
        "colab": {
          "base_uri": "https://localhost:8080/"
        },
        "id": "upkicVZWPQUd",
        "outputId": "c2960336-814c-467b-a86c-3ef93aa437dc"
      },
      "execution_count": 52,
      "outputs": [
        {
          "output_type": "execute_result",
          "data": {
            "text/plain": [
              "2"
            ]
          },
          "metadata": {},
          "execution_count": 52
        }
      ]
    },
    {
      "cell_type": "code",
      "source": [],
      "metadata": {
        "id": "fOGUPov0PZZU"
      },
      "execution_count": 53,
      "outputs": []
    }
  ]
}