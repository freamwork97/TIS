{
  "nbformat": 4,
  "nbformat_minor": 0,
  "metadata": {
    "colab": {
      "provenance": [],
      "authorship_tag": "ABX9TyPvtF0DR2qS1Tx1iV+mFsbp",
      "include_colab_link": true
    },
    "kernelspec": {
      "name": "python3",
      "display_name": "Python 3"
    },
    "language_info": {
      "name": "python"
    }
  },
  "cells": [
    {
      "cell_type": "markdown",
      "metadata": {
        "id": "view-in-github",
        "colab_type": "text"
      },
      "source": [
        "<a href=\"https://colab.research.google.com/github/freamwork97/TIS/blob/main/%EC%A2%85%ED%95%A9%EC%97%B0%EC%8A%B5.ipynb\" target=\"_parent\"><img src=\"https://colab.research.google.com/assets/colab-badge.svg\" alt=\"Open In Colab\"/></a>"
      ]
    },
    {
      "cell_type": "code",
      "execution_count": 14,
      "metadata": {
        "colab": {
          "base_uri": "https://localhost:8080/"
        },
        "id": "a3c98kSCbrHL",
        "outputId": "0a234e5e-8977-4d16-e916-35ed1ecd71db"
      },
      "outputs": [
        {
          "output_type": "stream",
          "name": "stdout",
          "text": [
            "3\n"
          ]
        }
      ],
      "source": [
        "a = 1\n",
        "b = 2\n",
        "c = a + b\n",
        "print(c)"
      ]
    },
    {
      "cell_type": "code",
      "source": [
        "print(f\"hello {a} {b} {c} World\")"
      ],
      "metadata": {
        "colab": {
          "base_uri": "https://localhost:8080/"
        },
        "id": "bSG3tvXRbyuk",
        "outputId": "0f2424d0-e257-4935-b618-c1e59333c115"
      },
      "execution_count": 2,
      "outputs": [
        {
          "output_type": "stream",
          "name": "stdout",
          "text": [
            "hello 1 2 3 World\n"
          ]
        }
      ]
    },
    {
      "cell_type": "code",
      "source": [
        "str(a) + \" 반갑습니다\""
      ],
      "metadata": {
        "colab": {
          "base_uri": "https://localhost:8080/",
          "height": 35
        },
        "id": "o0o6_hQNcBJy",
        "outputId": "b12c70ad-4f75-4ae6-d526-3214e67e3c20"
      },
      "execution_count": 5,
      "outputs": [
        {
          "output_type": "execute_result",
          "data": {
            "text/plain": [
              "'1 반갑습니다'"
            ],
            "application/vnd.google.colaboratory.intrinsic+json": {
              "type": "string"
            }
          },
          "metadata": {},
          "execution_count": 5
        }
      ]
    },
    {
      "cell_type": "code",
      "source": [
        "a = 1\n",
        "b = 4.5\n",
        "print(type(a), type(b))"
      ],
      "metadata": {
        "colab": {
          "base_uri": "https://localhost:8080/"
        },
        "id": "ko3tKTN4cHzX",
        "outputId": "c6e3a0e2-3db6-41d4-a2f5-9b6ef2b83c1c"
      },
      "execution_count": 10,
      "outputs": [
        {
          "output_type": "stream",
          "name": "stdout",
          "text": [
            "<class 'int'> <class 'float'>\n"
          ]
        }
      ]
    },
    {
      "cell_type": "code",
      "source": [
        "x = 'python'\n",
        "y = '안녕하세요'\n",
        "z = '12345'\n",
        "print(x,y,z)\n",
        "print(type(x))"
      ],
      "metadata": {
        "colab": {
          "base_uri": "https://localhost:8080/"
        },
        "id": "ly6q-_5KcQrI",
        "outputId": "e3c7ecbe-3201-4048-8e0a-9a1222f26630"
      },
      "execution_count": 15,
      "outputs": [
        {
          "output_type": "stream",
          "name": "stdout",
          "text": [
            "python 안녕하세요 12345\n",
            "<class 'str'>\n"
          ]
        }
      ]
    },
    {
      "cell_type": "code",
      "source": [
        "class Cal(object):\n",
        "  def __init__(self,num1,num2):\n",
        "    self.num1=num1\n",
        "    self.num2=num2\n",
        "\n",
        "  def plus(self):\n",
        "    a = self.num1 + self.num2\n",
        "    return a\n",
        "  def minus(self):\n",
        "    a = self.num1 - self.num2\n",
        "    return a\n",
        "  def mul(self):\n",
        "    a = self.num1 * self.num2\n",
        "    return a\n",
        "  def div(self):\n",
        "    try:\n",
        "      a = self.num1 / self.num2\n",
        "      return a\n",
        "    except:\n",
        "      return '0으로 나눌 수 없습니다'"
      ],
      "metadata": {
        "id": "uvfK5dLNc2As"
      },
      "execution_count": 21,
      "outputs": []
    },
    {
      "cell_type": "code",
      "source": [
        "c=int(input())\n",
        "d=int(input())\n",
        "b = Cal(c,d)\n",
        "print(\"합 : \",b.plus())\n",
        "print(\"뺴기 : \",b.minus())\n",
        "print(\"곱 : \",b.mul())\n",
        "print(\"나누기 : \",b.div())"
      ],
      "metadata": {
        "colab": {
          "base_uri": "https://localhost:8080/"
        },
        "id": "iRcq5w31eGxz",
        "outputId": "361f6fd1-3db6-4938-fd2c-95565fd72f0b"
      },
      "execution_count": 27,
      "outputs": [
        {
          "output_type": "stream",
          "name": "stdout",
          "text": [
            "6\n",
            "4\n",
            "합 :  10\n",
            "뺴기 :  2\n",
            "곱 :  24\n",
            "나누기 :  1.5\n"
          ]
        }
      ]
    },
    {
      "cell_type": "code",
      "source": [
        "# a = 123 \n",
        "# 문자열 자료형으로 전환\n",
        "\n",
        "a = 123\n",
        "b = str(a)\n",
        "print(b+\"입니다용\")\n",
        "print(type(b))"
      ],
      "metadata": {
        "colab": {
          "base_uri": "https://localhost:8080/"
        },
        "id": "VvXlwC1Gdi0i",
        "outputId": "d8b05aac-2613-4b70-a61f-7bc4057115b0"
      },
      "execution_count": 17,
      "outputs": [
        {
          "output_type": "stream",
          "name": "stdout",
          "text": [
            "123입니다용\n",
            "<class 'str'>\n"
          ]
        }
      ]
    },
    {
      "cell_type": "code",
      "source": [
        "# 다음 문자열의 2번째에서 마지막까지 추출\n",
        "# '파이썬 개쉬워요~'\n",
        "a = '파이썬 개쉬워요~'\n",
        "print(a[1:])"
      ],
      "metadata": {
        "colab": {
          "base_uri": "https://localhost:8080/"
        },
        "id": "IrwGr4tQduXH",
        "outputId": "f7927d9a-c07f-4538-db0a-ee256feba840"
      },
      "execution_count": 28,
      "outputs": [
        {
          "output_type": "stream",
          "name": "stdout",
          "text": [
            "이썬 개쉬워요~\n"
          ]
        }
      ]
    },
    {
      "cell_type": "code",
      "source": [
        "a = [1,2,3,4]\n",
        "b = [5,6,7,8]\n",
        "a + b"
      ],
      "metadata": {
        "colab": {
          "base_uri": "https://localhost:8080/"
        },
        "id": "K9CLe149fava",
        "outputId": "0999557d-2233-49ce-e8e0-8f8db8ac1de1"
      },
      "execution_count": 30,
      "outputs": [
        {
          "output_type": "execute_result",
          "data": {
            "text/plain": [
              "[1, 2, 3, 4, 5, 6, 7, 8]"
            ]
          },
          "metadata": {},
          "execution_count": 30
        }
      ]
    },
    {
      "cell_type": "code",
      "source": [
        "a*3"
      ],
      "metadata": {
        "colab": {
          "base_uri": "https://localhost:8080/"
        },
        "id": "Lt8JVS16gorj",
        "outputId": "c7360991-4e83-4694-ac64-e0b0a01aa8b7"
      },
      "execution_count": 31,
      "outputs": [
        {
          "output_type": "execute_result",
          "data": {
            "text/plain": [
              "[1, 2, 3, 4, 1, 2, 3, 4, 1, 2, 3, 4]"
            ]
          },
          "metadata": {},
          "execution_count": 31
        }
      ]
    },
    {
      "cell_type": "code",
      "source": [
        "a = {'a':1,'b':2,'c':3}\n",
        "type(a)"
      ],
      "metadata": {
        "colab": {
          "base_uri": "https://localhost:8080/"
        },
        "id": "n3jYD2Eeg4d1",
        "outputId": "0339929c-994a-474b-9540-5d9833697cd5"
      },
      "execution_count": 35,
      "outputs": [
        {
          "output_type": "execute_result",
          "data": {
            "text/plain": [
              "dict"
            ]
          },
          "metadata": {},
          "execution_count": 35
        }
      ]
    },
    {
      "cell_type": "code",
      "source": [
        "a = {'월':['백미밥','육개장','두부양념조림','할라마요스테이크','시금치고추장무침','배추김치'],\n",
        "     '화':['백미밥','김치수제비','부대햄야채볶음','야채계란찜','수제양념깻잎지','배추김치'],\n",
        "     '수':[],\n",
        "     '목':[],\n",
        "     '금':[]}"
      ],
      "metadata": {
        "id": "rHbTegOZhp24"
      },
      "execution_count": 38,
      "outputs": []
    },
    {
      "cell_type": "code",
      "source": [
        "print(a)"
      ],
      "metadata": {
        "colab": {
          "base_uri": "https://localhost:8080/"
        },
        "id": "LDQ99SIliMnn",
        "outputId": "a84468e6-ea8e-44cb-ff7d-87003da3cf36"
      },
      "execution_count": 37,
      "outputs": [
        {
          "output_type": "stream",
          "name": "stdout",
          "text": [
            "{'월': ['백미밥', '육개장', '두부양념조림', '할라마요스테이크', '시금치고추장무침', '배추김치']}\n"
          ]
        }
      ]
    }
  ]
}