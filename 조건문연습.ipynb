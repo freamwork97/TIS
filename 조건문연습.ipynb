{
  "nbformat": 4,
  "nbformat_minor": 0,
  "metadata": {
    "colab": {
      "provenance": [],
      "authorship_tag": "ABX9TyM5JEIF5yTiRbmeNBzJqOhh",
      "include_colab_link": true
    },
    "kernelspec": {
      "name": "python3",
      "display_name": "Python 3"
    },
    "language_info": {
      "name": "python"
    }
  },
  "cells": [
    {
      "cell_type": "markdown",
      "metadata": {
        "id": "view-in-github",
        "colab_type": "text"
      },
      "source": [
        "<a href=\"https://colab.research.google.com/github/freamwork97/TIS/blob/main/%EC%A1%B0%EA%B1%B4%EB%AC%B8%EC%97%B0%EC%8A%B5.ipynb\" target=\"_parent\"><img src=\"https://colab.research.google.com/assets/colab-badge.svg\" alt=\"Open In Colab\"/></a>"
      ]
    },
    {
      "cell_type": "code",
      "execution_count": null,
      "metadata": {
        "colab": {
          "base_uri": "https://localhost:8080/"
        },
        "id": "ReO5DpW8sTX8",
        "outputId": "0aab7d6e-9e77-4256-c474-8dac64f43f0b"
      },
      "outputs": [
        {
          "output_type": "stream",
          "name": "stdout",
          "text": [
            "참\n"
          ]
        }
      ],
      "source": [
        "cond = True\n",
        "\n",
        "if cond:\n",
        "  print(\"참\")\n",
        "else:\n",
        "  print('거짓')\n"
      ]
    },
    {
      "cell_type": "code",
      "source": [
        "cond = False\n",
        "\n",
        "if cond:\n",
        "  print(1+2)\n",
        "else:\n",
        "  print(3+4)"
      ],
      "metadata": {
        "colab": {
          "base_uri": "https://localhost:8080/"
        },
        "id": "7rQegKits5-3",
        "outputId": "fd297fe7-b32e-47d7-a179-bd692fa15fda"
      },
      "execution_count": null,
      "outputs": [
        {
          "output_type": "stream",
          "name": "stdout",
          "text": [
            "7\n"
          ]
        }
      ]
    },
    {
      "cell_type": "markdown",
      "source": [
        "# 비교 및 논리 연산자\n",
        "\n",
        "\n",
        "**연산자** | **True를 반환하는 상황**\n",
        "--|--\n",
        "x < y | x가 y보다 작은 경우\n",
        "x <= y | x가 y보다 작거나 같은 경우\n",
        "x > y | x가 y보다 큰 경우\n",
        "x >= y | x가 y보다 크거나 같은 경우\n",
        "x == y | x와 y가 같은 경우\n",
        "x != y | x와 y가 같지 않은 경우\n",
        "x in y | x와 y에 포함되는 경우\n",
        "x not in y | x와 y에 포함되지 않는 경우\n",
        "x & y | x와 y가 모두 True인 경우\n",
        "x \\| y | x와 y중 하나가 True인 경우\n",
        "not(x) | x가 False인 경우\n",
        "\n"
      ],
      "metadata": {
        "id": "XmtdV9_QIura"
      }
    },
    {
      "cell_type": "code",
      "source": [
        "if 3>1:\n",
        "  print('10분 휴식')\n",
        "else:\n",
        "  print('1111111')"
      ],
      "metadata": {
        "colab": {
          "base_uri": "https://localhost:8080/"
        },
        "id": "d9xU5wLstDF-",
        "outputId": "ce43457f-df65-458d-d91e-b31d863c28d6"
      },
      "execution_count": null,
      "outputs": [
        {
          "output_type": "stream",
          "name": "stdout",
          "text": [
            "10분 휴식\n"
          ]
        }
      ]
    },
    {
      "cell_type": "code",
      "source": [
        "print(3<2)\n",
        "print(3==3)\n",
        "print(2+2 != 5)\n",
        "print(len('abc')>=2)\n",
        "print(1 in [1,2,3,4])\n",
        "print(1 not in [1,2,3,4])\n",
        "print((3 >1) & (3<2))\n",
        "print((3 >1) | (3<2))\n",
        "\n",
        "if (0>1) | (3<2):\n",
        "  print('go home')\n",
        "else:\n",
        "  print('not go home')"
      ],
      "metadata": {
        "colab": {
          "base_uri": "https://localhost:8080/"
        },
        "id": "uIRiRWlzuJ-m",
        "outputId": "116a8aeb-854b-4eea-bd85-af96e696d6ef"
      },
      "execution_count": null,
      "outputs": [
        {
          "output_type": "stream",
          "name": "stdout",
          "text": [
            "False\n",
            "True\n",
            "True\n",
            "True\n",
            "True\n",
            "False\n",
            "False\n",
            "True\n",
            "not go home\n"
          ]
        }
      ]
    },
    {
      "cell_type": "code",
      "source": [
        "L = [1,2,3]\n",
        "s = 'abcde'\n",
        "d = {'a':1,'b':2,'c':3}\n",
        "print(1 in L)\n",
        "print(2 not in L)\n",
        "print('abc' in s)\n",
        "print('ac' in s)\n",
        "print('a' in d.keys())"
      ],
      "metadata": {
        "colab": {
          "base_uri": "https://localhost:8080/"
        },
        "id": "ZvU7NQ4ezRPP",
        "outputId": "e1769ddf-94cc-49a2-caad-8091e27bd7ac"
      },
      "execution_count": null,
      "outputs": [
        {
          "output_type": "stream",
          "name": "stdout",
          "text": [
            "True\n",
            "False\n",
            "True\n",
            "False\n",
            "True\n"
          ]
        }
      ]
    },
    {
      "cell_type": "code",
      "source": [
        "a=20\n",
        "if a>80:\n",
        "  print('a')\n",
        "elif a>60:\n",
        "  print('b')\n",
        "elif a>40:\n",
        "  print('c')\n",
        "else:\n",
        "  print('f')"
      ],
      "metadata": {
        "colab": {
          "base_uri": "https://localhost:8080/"
        },
        "id": "GUVSlRPZy4nJ",
        "outputId": "8c20710d-60fb-4798-80e4-f7d566ae06ed"
      },
      "execution_count": null,
      "outputs": [
        {
          "output_type": "stream",
          "name": "stdout",
          "text": [
            "f\n"
          ]
        }
      ]
    },
    {
      "cell_type": "code",
      "source": [
        "L = [1,2,3,4,5]\n",
        "if (1 in L) and (6 in L):\n",
        "  print('1과 6이 모두 L안에 있다')\n",
        "elif 1 in L:\n",
        "  print('6은 없고 1은 L안에 있다')\n",
        "elif 6 in L:\n",
        "  print('1은 없고 6은 L안에 있다')\n",
        "else:\n",
        "  print('1과 6이 모두 L안에 없다')"
      ],
      "metadata": {
        "colab": {
          "base_uri": "https://localhost:8080/"
        },
        "id": "k9Fb526x1p3l",
        "outputId": "3f12ca54-d47e-4873-9e12-8caef911cb0c"
      },
      "execution_count": null,
      "outputs": [
        {
          "output_type": "stream",
          "name": "stdout",
          "text": [
            "6은 없고 1은 L안에 있다\n"
          ]
        }
      ]
    },
    {
      "cell_type": "code",
      "source": [
        "github_current_db = {'b' :30}\n",
        "\n",
        "if \"user_id_1\" not in github_current_db.keys():\n",
        "  github_current_db['user_id_1'] = 'someone1'\n",
        "if 'user_id_2' not in github_current_db.keys():\n",
        "  github_current_db['user_id_2'] = 'someone2'\n",
        "if 'user_id_3' not in github_current_db.keys():\n",
        "  github_current_db['user_id_3'] = 'someone3'\n",
        "\n",
        "print(github_current_db)"
      ],
      "metadata": {
        "colab": {
          "base_uri": "https://localhost:8080/"
        },
        "id": "jr7_xqEG2Nkb",
        "outputId": "32acdaed-1e9a-45e0-be7d-6022722d7232"
      },
      "execution_count": 1,
      "outputs": [
        {
          "output_type": "stream",
          "name": "stdout",
          "text": [
            "{'b': 30, 'user_id_1': 'someone1', 'user_id_2': 'someone2', 'user_id_3': 'someone3'}\n"
          ]
        }
      ]
    },
    {
      "cell_type": "code",
      "source": [],
      "metadata": {
        "id": "lwK53CbqI219"
      },
      "execution_count": null,
      "outputs": []
    }
  ]
}