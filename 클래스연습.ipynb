{
  "nbformat": 4,
  "nbformat_minor": 0,
  "metadata": {
    "colab": {
      "provenance": [],
      "authorship_tag": "ABX9TyOHpzJynuxRmxBjmvF11p5d",
      "include_colab_link": true
    },
    "kernelspec": {
      "name": "python3",
      "display_name": "Python 3"
    },
    "language_info": {
      "name": "python"
    }
  },
  "cells": [
    {
      "cell_type": "markdown",
      "metadata": {
        "id": "view-in-github",
        "colab_type": "text"
      },
      "source": [
        "<a href=\"https://colab.research.google.com/github/freamwork97/TIS/blob/main/%ED%81%B4%EB%9E%98%EC%8A%A4%EC%97%B0%EC%8A%B5.ipynb\" target=\"_parent\"><img src=\"https://colab.research.google.com/assets/colab-badge.svg\" alt=\"Open In Colab\"/></a>"
      ]
    },
    {
      "cell_type": "code",
      "execution_count": 1,
      "metadata": {
        "id": "Mop1Bm5fZQ9u"
      },
      "outputs": [],
      "source": [
        "class Ourclass:\n",
        "  pass # pass는 코드 블록에서 아무런 작업도 수행하지 않고 빈칸으로 남겨둘 수 없을때 사용"
      ]
    },
    {
      "cell_type": "code",
      "source": [
        "A = Ourclass()\n",
        "B = Ourclass()\n",
        "C = Ourclass()"
      ],
      "metadata": {
        "id": "3ROIw2uyaxCU"
      },
      "execution_count": 4,
      "outputs": []
    },
    {
      "cell_type": "code",
      "source": [
        "print(type(A))\n",
        "print(type(B))\n",
        "# __main__은 현재 실행중인 코드파일을 의미"
      ],
      "metadata": {
        "colab": {
          "base_uri": "https://localhost:8080/"
        },
        "id": "H5AJ75R1a1LA",
        "outputId": "a31294e0-904c-41b3-9c16-7eaf14129104"
      },
      "execution_count": 7,
      "outputs": [
        {
          "output_type": "stream",
          "name": "stdout",
          "text": [
            "<class '__main__.Ourclass'>\n",
            "<class '__main__.Ourclass'>\n"
          ]
        }
      ]
    },
    {
      "cell_type": "code",
      "source": [
        "a = 1\n",
        "print(type(a))"
      ],
      "metadata": {
        "colab": {
          "base_uri": "https://localhost:8080/"
        },
        "id": "11MZeMI-bvbj",
        "outputId": "52115020-0772-408c-abcd-25f90d557dfa"
      },
      "execution_count": 9,
      "outputs": [
        {
          "output_type": "stream",
          "name": "stdout",
          "text": [
            "<class 'int'>\n"
          ]
        }
      ]
    },
    {
      "cell_type": "code",
      "source": [
        "#  class 클래스이름:\n",
        "#    def __init__(self, 속성값1, 속성값2, 속성값3):\n",
        "#     self.속성이름1 =  속성값1\n",
        "#     self.속성이름2 =  속성값2\n",
        "#     self.속성이름3 =  속성값3"
      ],
      "metadata": {
        "id": "_AVjuezIcMas"
      },
      "execution_count": 11,
      "outputs": []
    },
    {
      "cell_type": "code",
      "source": [
        "# 클래스 정의(클래스 이름: House)\n",
        "class House:\n",
        "  # 생성자 정의 --> 객체의 속성 정의\n",
        "  def __init__(self,방수,화장실수,거실수,부엌):\n",
        "    self.방수 = 방수\n",
        "    self.화장실수 = 화장실수\n",
        "    self.거실수 = 거실수\n",
        "    self.부엌 = 부엌"
      ],
      "metadata": {
        "id": "4C55IvOqc8fv"
      },
      "execution_count": 30,
      "outputs": []
    },
    {
      "cell_type": "code",
      "source": [
        "# 인스턴스(객체) 생성\n",
        "a_house = House(3,2,1,1)\n",
        "b_house = House(2,2,1,1)\n",
        "my_house = House(4,2,1,1)"
      ],
      "metadata": {
        "id": "sF5or_D0dYTh"
      },
      "execution_count": 33,
      "outputs": []
    },
    {
      "cell_type": "code",
      "source": [
        "# 속성 확인(추출): 인스턴스.속성명\n",
        "print(a_house.방수)"
      ],
      "metadata": {
        "colab": {
          "base_uri": "https://localhost:8080/"
        },
        "id": "5T9B8PgIdnxK",
        "outputId": "a1fedbb0-3ec1-4f0e-eb0c-f317aed7d57a"
      },
      "execution_count": 34,
      "outputs": [
        {
          "output_type": "execute_result",
          "data": {
            "text/plain": [
              "3"
            ]
          },
          "metadata": {},
          "execution_count": 34
        }
      ]
    },
    {
      "cell_type": "code",
      "source": [
        "# 삼각형 넓이 계산하는 클래스\n",
        "# 밑변의 길이 b 높이 h\n",
        "# 삼각형 넓이 계산하는 메서드 area\n",
        "\n",
        "class tri(object):\n",
        "  def __init__(self,b,h):\n",
        "    self.b = b\n",
        "    self.h = h\n",
        "\n",
        "  def area(self):\n",
        "    return self.b * self.h / 2\n",
        "\n",
        "a = tri(2,4)\n",
        "b = tri(3,4)\n",
        "c = tri(9,8)\n",
        "print(a.area())\n",
        "print(b.area())\n",
        "print(c.area())"
      ],
      "metadata": {
        "colab": {
          "base_uri": "https://localhost:8080/"
        },
        "id": "WLKT4FLAeN42",
        "outputId": "a0eb726d-9a6e-4cbe-cf1e-f19c4a251c49"
      },
      "execution_count": 58,
      "outputs": [
        {
          "output_type": "stream",
          "name": "stdout",
          "text": [
            "4.0\n",
            "6.0\n",
            "36.0\n"
          ]
        }
      ]
    },
    {
      "cell_type": "code",
      "source": [
        "class Stock:\n",
        "  def __init__(self,name,market= '코스피'): \n",
        "    self.name = name # 속성 정의1\n",
        "    self.market = market # 속성 정의2\n",
        "\n",
        "samsung = Stock('삼성전자','코스피') # 객체 생성\n",
        "print(samsung.name, samsung.market) "
      ],
      "metadata": {
        "colab": {
          "base_uri": "https://localhost:8080/"
        },
        "id": "xS43VIa3hBNd",
        "outputId": "f74f7177-c5c7-47b2-e9f3-77fff9e57de4"
      },
      "execution_count": 44,
      "outputs": [
        {
          "output_type": "stream",
          "name": "stdout",
          "text": [
            "삼성전자 코스피\n"
          ]
        }
      ]
    },
    {
      "cell_type": "code",
      "source": [
        "# 연습 : 드림하우스의 부엌 수를 출력\n",
        "class my_dream_house:\n",
        "  def __init__(self,방수,화장실수,거실수,부엌수):\n",
        "    self.방수 = 방수\n",
        "    self.화장실수 = 화장실수\n",
        "    self.거실수 = 거실수\n",
        "    self.부엌수 = 부엌수\n",
        "\n",
        "my_home = my_dream_house(4,2,1,1)\n",
        "my_home.부엌수"
      ],
      "metadata": {
        "colab": {
          "base_uri": "https://localhost:8080/"
        },
        "id": "H-AcUNSIiGme",
        "outputId": "238ad0b5-42d3-4fe1-820a-edc5490984cc"
      },
      "execution_count": 40,
      "outputs": [
        {
          "output_type": "execute_result",
          "data": {
            "text/plain": [
              "1"
            ]
          },
          "metadata": {},
          "execution_count": 40
        }
      ]
    },
    {
      "cell_type": "code",
      "source": [
        "# 카카오의 인스턴스 생성 이름 소속시장 출력\n",
        "kakao = Stock('카카오','코스피')\n",
        "print(kakao.name, kakao.market)"
      ],
      "metadata": {
        "colab": {
          "base_uri": "https://localhost:8080/"
        },
        "id": "hTikDqvBkMRv",
        "outputId": "b7e4a62a-9ecc-4e00-a274-7267637f2715"
      },
      "execution_count": 45,
      "outputs": [
        {
          "output_type": "stream",
          "name": "stdout",
          "text": [
            "카카오 코스피\n"
          ]
        }
      ]
    },
    {
      "cell_type": "code",
      "source": [
        "# 카카오 인스턴스 생성시 주가를 반영하도록\n",
        "# 클래스를 정의, 인스턴스를 다시 만들고, 이름, 소속시장, 가격 출력\n",
        "class Stock:\n",
        "  def __init__(self,name,market,price):\n",
        "    self.name = name\n",
        "    self.market = market\n",
        "    self.price = price\n",
        "\n",
        "kakao = Stock('카카오','코스피','65000')\n",
        "print(kakao.name, kakao.market, kakao.price)"
      ],
      "metadata": {
        "colab": {
          "base_uri": "https://localhost:8080/"
        },
        "id": "HWHMIRxTloZ2",
        "outputId": "97c2bc88-906d-4140-e1a2-9b2842d0e46f"
      },
      "execution_count": 47,
      "outputs": [
        {
          "output_type": "stream",
          "name": "stdout",
          "text": [
            "카카오 코스피 65000\n"
          ]
        }
      ]
    },
    {
      "cell_type": "code",
      "source": [
        "kakao.price = 64800"
      ],
      "metadata": {
        "id": "Jib-oh41mVNU"
      },
      "execution_count": 48,
      "outputs": []
    },
    {
      "cell_type": "code",
      "source": [
        "print(kakao.name, kakao.market, kakao.price)"
      ],
      "metadata": {
        "colab": {
          "base_uri": "https://localhost:8080/"
        },
        "id": "iWeiQvsqoL91",
        "outputId": "a0755844-29d1-46d4-b24c-815abb6459ed"
      },
      "execution_count": 50,
      "outputs": [
        {
          "output_type": "stream",
          "name": "stdout",
          "text": [
            "카카오 코스피 64800\n"
          ]
        }
      ]
    },
    {
      "cell_type": "code",
      "source": [
        "class Rectangle(object):\n",
        "  def __init__(self,h,v): # 생성자 함수 정의\n",
        "    self.h = h\n",
        "    self.v = v\n",
        "\n",
        "  def area(self): # 면적을 구하는 함수(메서드) 정의\n",
        "    return self.h * self.v\n"
      ],
      "metadata": {
        "id": "hrHBR22bob2Z"
      },
      "execution_count": 54,
      "outputs": []
    },
    {
      "cell_type": "code",
      "source": [
        "r = Rectangle(5,8) # 객체 생성\n",
        "print(r.area()) # 인스턴스.메서드명()"
      ],
      "metadata": {
        "colab": {
          "base_uri": "https://localhost:8080/"
        },
        "id": "mHdSW1dYpHRZ",
        "outputId": "03b6fb70-9039-46e2-c5b9-1880513d16f2"
      },
      "execution_count": 57,
      "outputs": [
        {
          "output_type": "stream",
          "name": "stdout",
          "text": [
            "40\n"
          ]
        }
      ]
    },
    {
      "cell_type": "code",
      "source": [
        "class C(object):\n",
        "  def __init__(self):\n",
        "    self.life = 100\n",
        "  def attacked(self):\n",
        "    self.life -= 10\n",
        "    print('공격받음 남은 체력 ', self.life)\n",
        "    if self.life == 0:\n",
        "      print('die')"
      ],
      "metadata": {
        "id": "mcmWvbXWpcX1"
      },
      "execution_count": 75,
      "outputs": []
    },
    {
      "cell_type": "code",
      "source": [
        "a = C()"
      ],
      "metadata": {
        "id": "bRarHOg7uNSL"
      },
      "execution_count": 76,
      "outputs": []
    },
    {
      "cell_type": "code",
      "source": [
        "a.attacked()"
      ],
      "metadata": {
        "colab": {
          "base_uri": "https://localhost:8080/"
        },
        "id": "kRCBgRCluVfN",
        "outputId": "31f25acc-5419-406d-cdaf-1c5250a1a0f0"
      },
      "execution_count": 86,
      "outputs": [
        {
          "output_type": "stream",
          "name": "stdout",
          "text": [
            "공격받음 남은 체력  0\n",
            "die\n"
          ]
        }
      ]
    },
    {
      "cell_type": "code",
      "source": [
        "class Cal(object):\n",
        "  def __init__(self,num1,num2):\n",
        "    self.num1 = num1\n",
        "    self.num2 = num2\n",
        "  def add(self):\n",
        "    return self.num1 + self.num2\n",
        "\n",
        "  def minus(self):\n",
        "    return self.num1 - self.num2\n",
        "\n",
        "  def mul(self):\n",
        "    return self.num1* self.num2\n",
        "\n",
        "  def div(self):\n",
        "    return self.num1 / self.num2\n"
      ],
      "metadata": {
        "id": "gM3UGXIZuqjD"
      },
      "execution_count": 87,
      "outputs": []
    },
    {
      "cell_type": "code",
      "source": [
        "a = Cal(2,3)"
      ],
      "metadata": {
        "id": "RPec6yEb6--X"
      },
      "execution_count": 89,
      "outputs": []
    },
    {
      "cell_type": "code",
      "source": [
        "print(a.add())\n",
        "print(a.minus())\n",
        "print(a.mul())\n",
        "print(a.div())"
      ],
      "metadata": {
        "colab": {
          "base_uri": "https://localhost:8080/"
        },
        "id": "veTC2LcJ7CH1",
        "outputId": "e84e3082-ed7f-40b7-c59f-8a645e2b2bef"
      },
      "execution_count": 93,
      "outputs": [
        {
          "output_type": "stream",
          "name": "stdout",
          "text": [
            "5\n",
            "-1\n",
            "6\n",
            "0.6666666666666666\n"
          ]
        }
      ]
    },
    {
      "cell_type": "code",
      "source": [
        "class Rectangle(object):\n",
        "  def __init__(self,h,v): # 생성자 함수 정의\n",
        "    self.h = h\n",
        "    self.v = v\n",
        "\n",
        "  def area(self): # 면적을 구하는 함수(메서드) 정의\n",
        "    return self.h * self.v\n"
      ],
      "metadata": {
        "id": "2y03m5j99mIN"
      },
      "execution_count": 106,
      "outputs": []
    },
    {
      "cell_type": "code",
      "source": [
        "a=int(input())\n",
        "b=int(input())\n",
        "r = Rectangle(a,b) # 객체 생성\n",
        "r.area() # 인스턴스.메서드명()"
      ],
      "metadata": {
        "colab": {
          "base_uri": "https://localhost:8080/"
        },
        "id": "yW-APrJ28fHr",
        "outputId": "3614ec64-3af2-42a8-81c1-af8143084285"
      },
      "execution_count": 108,
      "outputs": [
        {
          "name": "stdout",
          "output_type": "stream",
          "text": [
            "5\n",
            "8\n"
          ]
        },
        {
          "output_type": "execute_result",
          "data": {
            "text/plain": [
              "40"
            ]
          },
          "metadata": {},
          "execution_count": 108
        }
      ]
    },
    {
      "cell_type": "code",
      "source": [
        "# 삼각형 넓이 구하기\n",
        "# area(=밑변*높이*(1/2))\n",
        "# 밑변 = b\n",
        "# 높이 = h\n",
        "# 인스턴스 출력후 삼각형의 밑변, 높이, 면적을 출력\n",
        "class Triangle:\n",
        "  def __init__(self,b,h):\n",
        "    self.b = b\n",
        "    self.h = h\n",
        "\n",
        "  def area(self):\n",
        "    return self.b * self.h / 2"
      ],
      "metadata": {
        "id": "-U72W8HL-JOv"
      },
      "execution_count": 125,
      "outputs": []
    },
    {
      "cell_type": "code",
      "source": [
        "a=int(input())\n",
        "b=int(input())\n",
        "c = Triangle(a,b)\n",
        "\n",
        "print('밑변 : ',c.b)\n",
        "print('높이 : ',c.h)\n",
        "print('면적 : ',c.area())"
      ],
      "metadata": {
        "colab": {
          "base_uri": "https://localhost:8080/"
        },
        "id": "qHcZpGgH-fiO",
        "outputId": "724c0145-c002-41e8-c304-5e8acddaa79f"
      },
      "execution_count": 127,
      "outputs": [
        {
          "output_type": "stream",
          "name": "stdout",
          "text": [
            "8\n",
            "4\n",
            "밑변 :  8\n",
            "높이 :  4\n",
            "면적 :  16.0\n"
          ]
        }
      ]
    },
    {
      "cell_type": "code",
      "source": [
        "a_triangle = Triangle(5,4)\n",
        "print('밑변 : ',a_triangle.b)\n",
        "print('높이 : ',a_triangle.h)\n",
        "print('면적 : ',a_triangle.area())"
      ],
      "metadata": {
        "colab": {
          "base_uri": "https://localhost:8080/"
        },
        "id": "Rf9S1URO-ms-",
        "outputId": "542bd051-bea1-448d-f2ac-b1ddf241c87d"
      },
      "execution_count": 128,
      "outputs": [
        {
          "output_type": "stream",
          "name": "stdout",
          "text": [
            "밑변 :  5\n",
            "높이 :  4\n",
            "면적 :  10.0\n"
          ]
        }
      ]
    },
    {
      "cell_type": "code",
      "source": [
        "class Greeter(object):\n",
        "\n",
        "    # Constructor(생성자)\n",
        "    def __init__(self, name):\n",
        "        self.name = name  # Create an instance variable\n",
        "\n",
        "    # Instance method\n",
        "    def greet(self, loud=False): # loud는 False를 디폴트값으로\n",
        "        if loud:\n",
        "            print('HELLO, %s!' % self.name.upper()) # upper() 대문자로 lower() 소문자로\n",
        "        else:\n",
        "            print('Hello, %s' % self.name)\n",
        "\n",
        "g = Greeter('Fred')  # Construct an instance of the Greeter class\n",
        "g.greet()            # Call an instance method; prints \"Hello, Fred\"\n",
        "g.greet(loud=True)   # Call an instance method; prints \"HELLO, FRED!\""
      ],
      "metadata": {
        "colab": {
          "base_uri": "https://localhost:8080/"
        },
        "id": "oNQkTUgyBEFY",
        "outputId": "f8eb57d6-8c79-457e-8f95-c6fae54bb9f8"
      },
      "execution_count": 130,
      "outputs": [
        {
          "output_type": "stream",
          "name": "stdout",
          "text": [
            "Hello, Fred\n",
            "HELLO, FRED!\n"
          ]
        }
      ]
    },
    {
      "cell_type": "code",
      "source": [
        "# 위 코드를 재활용해서\n",
        "# 윗 사람일 경우(is_older: True/False)) 이름에 '님'을 붙여서 출력\n",
        "\n",
        "class Greeter(object):\n",
        "\n",
        "    # Constructor(생성자)\n",
        "    def __init__(self, name):\n",
        "        self.name = name  # Create an instance variable\n",
        "\n",
        "    # Instance method\n",
        "    def greet(self, is_older=False): \n",
        "        if is_older:\n",
        "            #print('HELLO, %s님' % self.name)\n",
        "            print(f'HELLO.{self.name}님') \n",
        "        else:\n",
        "            #print('Hello, %s' % self.name)\n",
        "            print(f'Hello.{self.name}')\n",
        "g = Greeter('정승용')  \n",
        "g.greet()           \n",
        "g.greet(is_older=True)"
      ],
      "metadata": {
        "colab": {
          "base_uri": "https://localhost:8080/"
        },
        "id": "TgYO2NeeBy6_",
        "outputId": "7ab97a11-3cfb-4989-b18a-c3b8530db1f0"
      },
      "execution_count": 150,
      "outputs": [
        {
          "output_type": "stream",
          "name": "stdout",
          "text": [
            "Hello.정승용\n",
            "HELLO.정승용님\n"
          ]
        }
      ]
    },
    {
      "cell_type": "code",
      "source": [
        "a = input()\n",
        "b = Greeter(a)\n",
        "b.greet()\n",
        "b.greet(is_older=True)"
      ],
      "metadata": {
        "colab": {
          "base_uri": "https://localhost:8080/"
        },
        "id": "Mw2KnRdADH9V",
        "outputId": "fd5576a9-844c-4138-f6aa-4f37c127536d"
      },
      "execution_count": 152,
      "outputs": [
        {
          "output_type": "stream",
          "name": "stdout",
          "text": [
            "승용\n",
            "Hello.승용\n",
            "HELLO.승용님\n"
          ]
        }
      ]
    },
    {
      "cell_type": "code",
      "source": [],
      "metadata": {
        "id": "74YRgIcZElEy"
      },
      "execution_count": null,
      "outputs": []
    }
  ]
}