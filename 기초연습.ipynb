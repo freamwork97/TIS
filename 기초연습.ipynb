{
  "cells": [
    {
      "cell_type": "markdown",
      "metadata": {
        "id": "view-in-github",
        "colab_type": "text"
      },
      "source": [
        "<a href=\"https://colab.research.google.com/github/freamwork97/TIS/blob/main/%EA%B8%B0%EC%B4%88%EC%97%B0%EC%8A%B5.ipynb\" target=\"_parent\"><img src=\"https://colab.research.google.com/assets/colab-badge.svg\" alt=\"Open In Colab\"/></a>"
      ]
    },
    {
      "cell_type": "code",
      "execution_count": null,
      "metadata": {
        "colab": {
          "base_uri": "https://localhost:8080/"
        },
        "id": "hHNGsuLDrWd8",
        "outputId": "a75bb13c-e06d-472c-e48e-ff1e4dea4fc2"
      },
      "outputs": [
        {
          "name": "stdout",
          "output_type": "stream",
          "text": [
            "Hello World!\n"
          ]
        }
      ],
      "source": [
        "print('Hello World!')"
      ]
    },
    {
      "cell_type": "code",
      "execution_count": null,
      "metadata": {
        "colab": {
          "base_uri": "https://localhost:8080/"
        },
        "id": "iP4OvVOBrr3a",
        "outputId": "0ac07344-d5e8-458d-ebab-6e6c0d10b75c"
      },
      "outputs": [
        {
          "name": "stdout",
          "output_type": "stream",
          "text": [
            "3\n"
          ]
        }
      ],
      "source": [
        "print(3)"
      ]
    },
    {
      "cell_type": "code",
      "execution_count": null,
      "metadata": {
        "colab": {
          "base_uri": "https://localhost:8080/"
        },
        "id": "oB00DSlBshkY",
        "outputId": "1c717703-dc3d-430b-8f30-7664c83b8a52"
      },
      "outputs": [
        {
          "name": "stdout",
          "output_type": "stream",
          "text": [
            "승용\n"
          ]
        }
      ],
      "source": [
        "a=\"승용\"\n",
        "print(a)"
      ]
    },
    {
      "cell_type": "code",
      "execution_count": null,
      "metadata": {
        "colab": {
          "base_uri": "https://localhost:8080/"
        },
        "id": "Tcv5xyd-skVo",
        "outputId": "b5a69f75-113b-4532-86e3-1a45578b57c4"
      },
      "outputs": [
        {
          "name": "stdout",
          "output_type": "stream",
          "text": [
            "1 5 안녕하세요\n"
          ]
        }
      ],
      "source": [
        "a=1\n",
        "b=5\n",
        "c=\"안녕하세요\"\n",
        "print(a,b,c)"
      ]
    },
    {
      "cell_type": "code",
      "execution_count": null,
      "metadata": {
        "colab": {
          "base_uri": "https://localhost:8080/"
        },
        "id": "DnXwfmtsyU2U",
        "outputId": "dc1ed845-2bd3-466a-c738-f20c1347f402"
      },
      "outputs": [
        {
          "data": {
            "text/plain": [
              "6"
            ]
          },
          "execution_count": 10,
          "metadata": {},
          "output_type": "execute_result"
        }
      ],
      "source": [
        "a + b"
      ]
    },
    {
      "cell_type": "code",
      "execution_count": null,
      "metadata": {
        "colab": {
          "base_uri": "https://localhost:8080/",
          "height": 35
        },
        "id": "pkdFQvuAtqPr",
        "outputId": "a7cc1d68-09f7-4ab9-b72c-b06283b7888b"
      },
      "outputs": [
        {
          "data": {
            "application/vnd.google.colaboratory.intrinsic+json": {
              "type": "string"
            },
            "text/plain": [
              "'안녕하세요 반갑습니다'"
            ]
          },
          "execution_count": 13,
          "metadata": {},
          "output_type": "execute_result"
        }
      ],
      "source": [
        "c + ' 반갑습니다'"
      ]
    },
    {
      "cell_type": "code",
      "execution_count": null,
      "metadata": {
        "colab": {
          "base_uri": "https://localhost:8080/"
        },
        "id": "paT06_hwyZkC",
        "outputId": "23a66de7-22c9-414f-803d-2158914e1dc5"
      },
      "outputs": [
        {
          "output_type": "stream",
          "name": "stdout",
          "text": [
            "<class 'int'> <class 'float'> <class 'str'>\n"
          ]
        }
      ],
      "source": [
        "# 정수형, 실수형 변수 선언\n",
        "a = 1 # 변수 a에 1을 저장\n",
        "b = 4.5 # 변수 b에 4.5을 저장\n",
        "\n",
        "print(type(a), type(b), type(c))"
      ]
    },
    {
      "cell_type": "code",
      "execution_count": null,
      "metadata": {
        "colab": {
          "base_uri": "https://localhost:8080/"
        },
        "id": "5oQr6-8yz4g2",
        "outputId": "8cf70178-b0a7-4a38-9312-332d66d32c1c"
      },
      "outputs": [
        {
          "output_type": "stream",
          "name": "stdout",
          "text": [
            "1.0\n",
            "4\n"
          ]
        }
      ],
      "source": [
        "a = float(a)\n",
        "b = int(b)\n",
        "\n",
        "print(a)\n",
        "print(b)"
      ]
    },
    {
      "cell_type": "code",
      "source": [
        "print(type(a), type(b))"
      ],
      "metadata": {
        "colab": {
          "base_uri": "https://localhost:8080/"
        },
        "id": "feuF1iS82ggw",
        "outputId": "0fa0bdaa-d532-4052-e209-676f4b315f58"
      },
      "execution_count": null,
      "outputs": [
        {
          "output_type": "stream",
          "name": "stdout",
          "text": [
            "<class 'float'> <class 'int'>\n"
          ]
        }
      ]
    },
    {
      "cell_type": "code",
      "source": [
        "a = 5\n",
        "b = 2.5\n",
        "print(a+b)\n",
        "print(a-b)\n",
        "print(a*b)\n",
        "print(a/b)"
      ],
      "metadata": {
        "colab": {
          "base_uri": "https://localhost:8080/"
        },
        "id": "FVGrnFKm2jSv",
        "outputId": "ce7dd205-c48c-4dfd-e116-b323cc17d85a"
      },
      "execution_count": null,
      "outputs": [
        {
          "output_type": "stream",
          "name": "stdout",
          "text": [
            "7.5\n",
            "2.5\n",
            "12.5\n",
            "2.0\n"
          ]
        }
      ]
    },
    {
      "cell_type": "code",
      "source": [
        "# 연습문제1: 사칙연산을 적용해 보시오\n",
        "c = 2.0\n",
        "d = 3.14\n",
        "print(c+d)\n",
        "print(c-d)\n",
        "print(c*d)\n",
        "print(c/d)"
      ],
      "metadata": {
        "colab": {
          "base_uri": "https://localhost:8080/"
        },
        "id": "GSdO0W1L3Rbe",
        "outputId": "8ddfe90e-0014-4c8b-a210-ea4e7a5421fa"
      },
      "execution_count": null,
      "outputs": [
        {
          "output_type": "stream",
          "name": "stdout",
          "text": [
            "5.140000000000001\n",
            "-1.1400000000000001\n",
            "6.28\n",
            "0.6369426751592356\n"
          ]
        }
      ]
    },
    {
      "cell_type": "code",
      "source": [
        "a = 2**3 # 2의 3제곱\n",
        "b = 7%4 # 7을 4로 나눴을 때 나머지\n",
        "c = 7//4 # 7을 4로 나눴을 때 몫\n",
        "print(a,b,c)"
      ],
      "metadata": {
        "colab": {
          "base_uri": "https://localhost:8080/"
        },
        "id": "34KTtc9w3kE-",
        "outputId": "8000dd00-b0e5-4583-83a9-ce82fa590b22"
      },
      "execution_count": null,
      "outputs": [
        {
          "output_type": "stream",
          "name": "stdout",
          "text": [
            "8 3 1\n"
          ]
        }
      ]
    },
    {
      "cell_type": "code",
      "source": [
        "# 연습문제2 \n",
        "# d, e, f 라는 변수에 3의 3제곱, 10을 3으로 나눈 나머지, 10을 3으로 나눈 몫\n",
        "d = 3**3\n",
        "e = 10%3\n",
        "f = 10//3\n",
        "print(d,e,f)"
      ],
      "metadata": {
        "colab": {
          "base_uri": "https://localhost:8080/"
        },
        "id": "Y2V--Inl4QNy",
        "outputId": "31c7ae50-95e0-4b54-9f05-a6f01e0767c5"
      },
      "execution_count": null,
      "outputs": [
        {
          "output_type": "stream",
          "name": "stdout",
          "text": [
            "27 1 3\n"
          ]
        }
      ]
    },
    {
      "cell_type": "markdown",
      "source": [
        "# 자료형\n"
      ],
      "metadata": {
        "id": "_KdGfNJ5NsIG"
      }
    },
    {
      "cell_type": "code",
      "source": [
        "x = \"python\"\n",
        "y = '안녕하세요'\n",
        "z = '12345'\n",
        "print(x,y,z)"
      ],
      "metadata": {
        "colab": {
          "base_uri": "https://localhost:8080/"
        },
        "id": "p7CoOmH05LPC",
        "outputId": "ca61a1fd-d830-4776-bc00-48998da5f91d"
      },
      "execution_count": null,
      "outputs": [
        {
          "output_type": "stream",
          "name": "stdout",
          "text": [
            "python 안녕하세요 12345\n"
          ]
        }
      ]
    },
    {
      "cell_type": "code",
      "source": [
        "a = \"'작은 따움표가 살아있다'\"\n",
        "b = '\"큰 따움표가 살아있다\"'\n",
        "print(a)\n",
        "print(b)"
      ],
      "metadata": {
        "colab": {
          "base_uri": "https://localhost:8080/"
        },
        "id": "djqe-sxyN14S",
        "outputId": "19adb6bf-dab4-477f-b684-85a9fcec1305"
      },
      "execution_count": null,
      "outputs": [
        {
          "output_type": "stream",
          "name": "stdout",
          "text": [
            "'작은 따움표가 살아있다'\n",
            "\"큰 따움표가 살아있다\"\n"
          ]
        }
      ]
    },
    {
      "cell_type": "code",
      "source": [
        "# 다음 문장을 출력해 보세요 그는 이렇게 말했다. \"파이썬 별거 아니네.\"\n",
        "a = '그는 이렇게 말했다. \"파이썬 별거 아니네\"'\n",
        "print(a)"
      ],
      "metadata": {
        "colab": {
          "base_uri": "https://localhost:8080/"
        },
        "id": "nTIVmkbSOMsx",
        "outputId": "e2a959d0-8da8-4ac2-8c40-6f02406beb19"
      },
      "execution_count": null,
      "outputs": [
        {
          "output_type": "stream",
          "name": "stdout",
          "text": [
            "그는 이렇게 말했다. \"파이썬 별거 아니네\"\n"
          ]
        }
      ]
    },
    {
      "cell_type": "code",
      "source": [
        "a = \"Life is short.You need Python\"\n",
        "print(a)"
      ],
      "metadata": {
        "colab": {
          "base_uri": "https://localhost:8080/"
        },
        "id": "AuEG1dnLOny3",
        "outputId": "cc4d902c-898f-4c92-b027-8923a2820c12"
      },
      "execution_count": null,
      "outputs": [
        {
          "output_type": "stream",
          "name": "stdout",
          "text": [
            "Life is short.You need Python\n"
          ]
        }
      ]
    },
    {
      "cell_type": "code",
      "source": [
        "b = '인공지능\\t머신러닝\\t딥러닝'\n",
        "print(b)"
      ],
      "metadata": {
        "id": "i97L_1dVPAHI",
        "colab": {
          "base_uri": "https://localhost:8080/"
        },
        "outputId": "268dda4b-39a4-4d3c-b5fa-9d7ff0bbbb42"
      },
      "execution_count": 63,
      "outputs": [
        {
          "output_type": "stream",
          "name": "stdout",
          "text": [
            "인공지능\t머신러닝\t딥러닝\n"
          ]
        }
      ]
    },
    {
      "cell_type": "code",
      "source": [
        "c = '역슬래쉬(\\\\)를 이용한다'\n",
        "print(c)"
      ],
      "metadata": {
        "colab": {
          "base_uri": "https://localhost:8080/"
        },
        "id": "9GL-mZDMPVf5",
        "outputId": "657cddea-6889-415b-fa8c-0fb5248ebef4"
      },
      "execution_count": 64,
      "outputs": [
        {
          "output_type": "stream",
          "name": "stdout",
          "text": [
            "역슬래쉬(\\)를 이용한다\n"
          ]
        }
      ]
    },
    {
      "cell_type": "code",
      "source": [
        "print(r'이스케이프 문자 \\n \\t 무시하기')"
      ],
      "metadata": {
        "colab": {
          "base_uri": "https://localhost:8080/"
        },
        "id": "AxdIXNltPshl",
        "outputId": "6c3c6f17-fd0a-4d58-8c13-908a9b0ffca9"
      },
      "execution_count": 66,
      "outputs": [
        {
          "output_type": "stream",
          "name": "stdout",
          "text": [
            "이스케이프 문자 \\n \\t 무시하기\n"
          ]
        }
      ]
    },
    {
      "cell_type": "code",
      "source": [
        "str1 = \"\"\" \n",
        "이것은 뭐냐\n",
        "줄바꿈 된거야?\n",
        "진짜로 되나\n",
        "해도되나\n",
        "\"\"\"\n",
        "print(str1)"
      ],
      "metadata": {
        "colab": {
          "base_uri": "https://localhost:8080/"
        },
        "id": "sk3ds5SJP7RV",
        "outputId": "9c3b6e5e-e25c-4195-c0f3-98099649867b"
      },
      "execution_count": 68,
      "outputs": [
        {
          "output_type": "stream",
          "name": "stdout",
          "text": [
            " \n",
            "이것은 뭐냐\n",
            "줄바꿈 된거야?\n",
            "진짜로 되나\n",
            "해도되나\n",
            "\n"
          ]
        }
      ]
    },
    {
      "cell_type": "code",
      "source": [
        "'''\n",
        "이것은 제가 개발한 인공지능 프로그램입니다\n",
        "wwwwwwww\n",
        "wwwwwwww\n",
        "wwwwwww\n",
        "wwwwwwwwww\n",
        "wwwwwwww\n",
        "wwwwww\n",
        "'''\n",
        "print('hello')"
      ],
      "metadata": {
        "colab": {
          "base_uri": "https://localhost:8080/"
        },
        "id": "yZMorCitQPMr",
        "outputId": "9a0d6106-8afc-4455-b3fd-e62c6a569857"
      },
      "execution_count": 69,
      "outputs": [
        {
          "output_type": "stream",
          "name": "stdout",
          "text": [
            "hello\n"
          ]
        }
      ]
    },
    {
      "cell_type": "code",
      "source": [
        "a = \"파이썬을 이용한 \"\n",
        "b = '프로그래밍'\n",
        "print(a+b)"
      ],
      "metadata": {
        "colab": {
          "base_uri": "https://localhost:8080/"
        },
        "id": "KNL4_npwQs3f",
        "outputId": "1a641c42-3b81-4dda-94ca-eeda8a40c3ce"
      },
      "execution_count": 71,
      "outputs": [
        {
          "output_type": "stream",
          "name": "stdout",
          "text": [
            "파이썬을 이용한 프로그래밍\n"
          ]
        }
      ]
    },
    {
      "cell_type": "code",
      "source": [
        "a = \"파이썬\"\n",
        "b = 'programming'\n",
        "print(a*3)\n",
        "print('-'*35)\n",
        "print(b*3)"
      ],
      "metadata": {
        "colab": {
          "base_uri": "https://localhost:8080/"
        },
        "id": "ZWO6cnIJRCpm",
        "outputId": "93efedbf-e8e9-4225-c57c-3e69f0d8488d"
      },
      "execution_count": 72,
      "outputs": [
        {
          "output_type": "stream",
          "name": "stdout",
          "text": [
            "파이썬파이썬파이썬\n",
            "-----------------------------------\n",
            "programmingprogrammingprogramming\n"
          ]
        }
      ]
    },
    {
      "cell_type": "code",
      "source": [
        "# 연습: '깃'과 '깃허브'라는 문자열 3, 7번 반복출력, 중간에 =10개를 넣어서 줄로 구분\n",
        "a = '깃'\n",
        "b = '깃허브'\n",
        "c = '='*10\n",
        "print(a*7)\n",
        "print(c)\n",
        "print(b*3)"
      ],
      "metadata": {
        "colab": {
          "base_uri": "https://localhost:8080/"
        },
        "id": "AMPkSwvCRa5Q",
        "outputId": "09e9f11d-4fb7-4391-c443-6921b0591874"
      },
      "execution_count": 79,
      "outputs": [
        {
          "output_type": "stream",
          "name": "stdout",
          "text": [
            "깃깃깃깃깃깃깃\n",
            "==========\n",
            "깃허브깃허브깃허브\n"
          ]
        }
      ]
    },
    {
      "cell_type": "code",
      "source": [
        "s  = 'hello world'\n",
        "print(s[0])\n",
        "print(s[4])\n",
        "print(s[2])"
      ],
      "metadata": {
        "colab": {
          "base_uri": "https://localhost:8080/"
        },
        "id": "Q5NfPS5xR9wP",
        "outputId": "68ac18d6-595f-41fb-9124-5daef41befa8"
      },
      "execution_count": 80,
      "outputs": [
        {
          "output_type": "stream",
          "name": "stdout",
          "text": [
            "h\n",
            "o\n",
            "l\n"
          ]
        }
      ]
    },
    {
      "cell_type": "code",
      "source": [
        "# 연습: 'prython~~~~'이라는 문자열의 첫번째 요소(문자), 3번째 문자, 그라고 마지막 문자를 찾아 출력\n",
        "a = 'python~~~!'\n",
        "print(a[0])\n",
        "print(a[2])\n",
        "print(a[-1])"
      ],
      "metadata": {
        "colab": {
          "base_uri": "https://localhost:8080/"
        },
        "id": "Ck75bC6iUg0S",
        "outputId": "803cfd86-e392-4aea-f61e-fe55032ce4d3"
      },
      "execution_count": 84,
      "outputs": [
        {
          "output_type": "stream",
          "name": "stdout",
          "text": [
            "p\n",
            "t\n",
            "!\n"
          ]
        }
      ]
    },
    {
      "cell_type": "code",
      "source": [
        "s = 'python'\n",
        "print(s[:5:1]) #시작:종료:증가폭"
      ],
      "metadata": {
        "colab": {
          "base_uri": "https://localhost:8080/"
        },
        "id": "XIddZnuCVZN9",
        "outputId": "d701f8da-add8-49b0-f652-4cfeca4460ba"
      },
      "execution_count": 98,
      "outputs": [
        {
          "output_type": "stream",
          "name": "stdout",
          "text": [
            "pytho\n"
          ]
        }
      ]
    },
    {
      "cell_type": "code",
      "source": [
        "s[:5]"
      ],
      "metadata": {
        "colab": {
          "base_uri": "https://localhost:8080/",
          "height": 35
        },
        "id": "cbf1y2t2VrxY",
        "outputId": "d86f6817-8561-403a-9481-4a5658db1350"
      },
      "execution_count": 116,
      "outputs": [
        {
          "output_type": "execute_result",
          "data": {
            "text/plain": [
              "'pytho'"
            ],
            "application/vnd.google.colaboratory.intrinsic+json": {
              "type": "string"
            }
          },
          "metadata": {},
          "execution_count": 116
        }
      ]
    },
    {
      "cell_type": "code",
      "source": [
        "s = 'HELLO WORLD'\n",
        "print(s[1:4]) #시작 = 1 종료 = 4 증가폭 = 1\n",
        "print(s[:4]) # 시작 = 0 종료 = 4 증가폭 = 1\n",
        "print(s[1::2]) # 시작 = 1 종료 = 길이 + 1 증가폭 = 2 \n",
        "print(s[::]) # 시작 = 0 종료 = 길이 + 1 증가폭 = 1(결국, 문자열 전체)\n",
        "print(s[:])"
      ],
      "metadata": {
        "colab": {
          "base_uri": "https://localhost:8080/"
        },
        "id": "DVK-bcPpXdhW",
        "outputId": "c4473a2a-a584-4815-b2b7-f9a832ce7fa3"
      },
      "execution_count": 118,
      "outputs": [
        {
          "output_type": "stream",
          "name": "stdout",
          "text": [
            "ELL\n",
            "HELL\n",
            "EL OL\n",
            "HELLO WORLD\n",
            "HELLO WORLD\n"
          ]
        }
      ]
    },
    {
      "cell_type": "code",
      "source": [
        "\n",
        "len('abcdasdadsaweqdaasczwqdadasdxc')\n",
        "y = \"sssssssssssssssssss\"\n",
        "print(type(len(y)))\n",
        "print(len(y))"
      ],
      "metadata": {
        "colab": {
          "base_uri": "https://localhost:8080/"
        },
        "id": "qJf4nE4JXmNO",
        "outputId": "59195352-6c5e-4711-9a51-138a62f02293"
      },
      "execution_count": 124,
      "outputs": [
        {
          "output_type": "stream",
          "name": "stdout",
          "text": [
            "<class 'int'>\n",
            "19\n"
          ]
        }
      ]
    },
    {
      "cell_type": "code",
      "source": [
        "s = 'HELLO'\n",
        "print(s.find('E'))\n",
        "print(s.index('E'))"
      ],
      "metadata": {
        "colab": {
          "base_uri": "https://localhost:8080/"
        },
        "id": "6rP8_ke0cSUC",
        "outputId": "6f2afc56-c844-42a0-a82c-1bb69b30e915"
      },
      "execution_count": 130,
      "outputs": [
        {
          "output_type": "stream",
          "name": "stdout",
          "text": [
            "1\n",
            "1\n"
          ]
        }
      ]
    },
    {
      "cell_type": "code",
      "source": [
        "print(s.find('L'))\n",
        "print(s.index('L'))"
      ],
      "metadata": {
        "colab": {
          "base_uri": "https://localhost:8080/"
        },
        "id": "j18U_YsxdZcu",
        "outputId": "8f20ab79-04af-46af-ded3-269b7d77dccb"
      },
      "execution_count": 137,
      "outputs": [
        {
          "output_type": "stream",
          "name": "stdout",
          "text": [
            "2\n",
            "2\n"
          ]
        }
      ]
    },
    {
      "cell_type": "code",
      "source": [
        "# \"로봇랜드 인공지능 과정 중급반\"에서 \"랜\"의 인덱스를 추출해서 출력\n",
        "# 위 문자열에서 '랠'의 인덱스를 찾되, 없으면 -1이 출력되게 \n",
        "s = \"로봇랜드 인공지능 과정 중급반\"\n",
        "print(s.find('랜'))\n",
        "print(s.find('랠'))"
      ],
      "metadata": {
        "colab": {
          "base_uri": "https://localhost:8080/"
        },
        "id": "ga7_bEJ4fSEp",
        "outputId": "cf10b559-dff5-4e99-bdab-c205df72045c"
      },
      "execution_count": 140,
      "outputs": [
        {
          "output_type": "stream",
          "name": "stdout",
          "text": [
            "2\n",
            "-1\n"
          ]
        }
      ]
    },
    {
      "cell_type": "code",
      "source": [
        "a = \"C언어는 배우기 쉬운 언어입니다.\"\n",
        "print(a.replace(\"C언어는\",'Python은'))"
      ],
      "metadata": {
        "colab": {
          "base_uri": "https://localhost:8080/"
        },
        "id": "SyyVKDsOf3zl",
        "outputId": "37375e63-0ec5-4ee9-b6e7-eb6a0d0bc0a3"
      },
      "execution_count": 142,
      "outputs": [
        {
          "output_type": "stream",
          "name": "stdout",
          "text": [
            "Python은 배우기 쉬운 언어입니다.\n"
          ]
        }
      ]
    },
    {
      "cell_type": "code",
      "source": [
        "# \"로봇랠드 인공지능 과정 하급반\"에서 \"랠\"을 \"랜\"으로, \"하\"를 \"중\"으로 \n",
        "s = \"로봇랠드 인공지능 과정 하급반\"\n",
        "s=s.replace('랠','랜')\n",
        "print(s.replace('하','중'))"
      ],
      "metadata": {
        "colab": {
          "base_uri": "https://localhost:8080/"
        },
        "id": "A7ak3XDGgtgX",
        "outputId": "6b8479e0-bc07-433e-c45f-4b40cc7fbab4"
      },
      "execution_count": 151,
      "outputs": [
        {
          "output_type": "stream",
          "name": "stdout",
          "text": [
            "로봇랜드 인공지능 과정 중급반\n"
          ]
        }
      ]
    },
    {
      "cell_type": "code",
      "source": [
        "s = \"로봇랠드 인공지능 과정 하급반\"\n",
        "print(s.replace('랠','랜').replace('하','중'))"
      ],
      "metadata": {
        "colab": {
          "base_uri": "https://localhost:8080/"
        },
        "id": "jlFULTuXh6gy",
        "outputId": "4bbb4688-bd72-475a-c152-66949d4af979"
      },
      "execution_count": 155,
      "outputs": [
        {
          "output_type": "stream",
          "name": "stdout",
          "text": [
            "로봇랜드 인공지능 과정 중급반\n"
          ]
        }
      ]
    },
    {
      "cell_type": "code",
      "source": [
        "x = \"lite is short\"\n",
        "x.split(\" \")"
      ],
      "metadata": {
        "colab": {
          "base_uri": "https://localhost:8080/"
        },
        "id": "6V8wD335ijoP",
        "outputId": "372551e7-7158-4c2c-bb7c-4dac6d336e34"
      },
      "execution_count": 166,
      "outputs": [
        {
          "output_type": "execute_result",
          "data": {
            "text/plain": [
              "['lite', 'is', 'short']"
            ]
          },
          "metadata": {},
          "execution_count": 166
        }
      ]
    },
    {
      "cell_type": "code",
      "source": [
        "x = \"A\\tB\\tC\"\n",
        "print(x)\n",
        "print(x.split('\\t'))"
      ],
      "metadata": {
        "colab": {
          "base_uri": "https://localhost:8080/"
        },
        "id": "vHpe9yRIk3Hn",
        "outputId": "dda02e4c-125e-449d-8568-aae151653bea"
      },
      "execution_count": 170,
      "outputs": [
        {
          "output_type": "stream",
          "name": "stdout",
          "text": [
            "A\tB\tC\n",
            "['A', 'B', 'C']\n"
          ]
        }
      ]
    },
    {
      "cell_type": "code",
      "source": [
        "# 퀴즈1 다음 문자열을 띄어쓰기를 기준으로(음절 단위로) 분할하시오\n",
        "str1 = '파이썬은 awesome한 언어이다'\n",
        "print(str1.split(\" \"))\n",
        "# 퀴즈2 다음 문자열에서 단어만 추출하시오(공백과 컴마 제외)\n",
        "str2 = '인공지능, 머신러닝, 딥러닝'\n",
        "print(str2.split(\", \"))"
      ],
      "metadata": {
        "colab": {
          "base_uri": "https://localhost:8080/"
        },
        "id": "66mOE87VlE3B",
        "outputId": "feffa651-d6b0-4aeb-b4dd-57d071333ef8"
      },
      "execution_count": 182,
      "outputs": [
        {
          "output_type": "stream",
          "name": "stdout",
          "text": [
            "['파이썬은', 'awesome한', '언어이다']\n",
            "['인공지능', '머신러닝', '딥러닝']\n"
          ]
        }
      ]
    },
    {
      "cell_type": "code",
      "source": [
        "str2 = '인공지능, 머신러닝, 딥러닝'\n",
        "print(str2.replace(\",\",\"\").split(\" \"))"
      ],
      "metadata": {
        "colab": {
          "base_uri": "https://localhost:8080/"
        },
        "id": "wiHxkFT5mtxJ",
        "outputId": "00787a33-5474-4792-91c6-8982c138d2eb"
      },
      "execution_count": 186,
      "outputs": [
        {
          "output_type": "stream",
          "name": "stdout",
          "text": [
            "['인공지능', '머신러닝', '딥러닝']\n"
          ]
        }
      ]
    },
    {
      "cell_type": "code",
      "source": [
        "A = 10\n",
        "B = 20\n",
        "C = 30\n",
        "\n",
        "print(\"A = {}, B = {}, C = {}\".format(A,B,C))"
      ],
      "metadata": {
        "colab": {
          "base_uri": "https://localhost:8080/"
        },
        "id": "jYqgMEX-pmZu",
        "outputId": "ab15359c-929e-410f-a8d8-6d5c178b5760"
      },
      "execution_count": 193,
      "outputs": [
        {
          "output_type": "stream",
          "name": "stdout",
          "text": [
            "A = 10, B = 20, C = 30\n"
          ]
        }
      ]
    },
    {
      "cell_type": "code",
      "source": [
        "# 연습: \"a변수는 중급반 학생 중 여성학생수이고, b변수는 남성 학생수 일때\"\n",
        "# \"중급반 학생 중 여성은 00명, 남성은 00명이다\"라는 문장을 format 메서드로 출력\n",
        "\n",
        "print(\"중급반 학생중 여성은 {a}명, 남성은 {b}명이다\".format(a=4,b=15-a))"
      ],
      "metadata": {
        "colab": {
          "base_uri": "https://localhost:8080/"
        },
        "id": "4iKR54WzqGMj",
        "outputId": "8df5afb8-0771-4f9a-ddae-4a4f883e793a"
      },
      "execution_count": 202,
      "outputs": [
        {
          "output_type": "stream",
          "name": "stdout",
          "text": [
            "중급반 학생중 여성은 4명, 남성은 11명이다\n"
          ]
        }
      ]
    },
    {
      "cell_type": "code",
      "source": [
        "# 고급 기능:\n",
        "a = 4 # 여성 학생수\n",
        "b = 15-a # 남성 학생수\n",
        "# f-string: format 메서드보다 간단하고 진보된 기능\n",
        "str1 = f\"중급반 학생 중 여성은 {a}명, 남성은 {b}명이다\"\n",
        "print(str1)"
      ],
      "metadata": {
        "colab": {
          "base_uri": "https://localhost:8080/"
        },
        "id": "biOkl1-4r3X1",
        "outputId": "d6ff4572-a999-4f6e-8589-24b64c1763ee"
      },
      "execution_count": 199,
      "outputs": [
        {
          "output_type": "stream",
          "name": "stdout",
          "text": [
            "중급반 학생 중 여성은 4명, 남성은 11명이다\n"
          ]
        }
      ]
    },
    {
      "cell_type": "markdown",
      "source": [
        "# Bool"
      ],
      "metadata": {
        "id": "gOyRo6gRuP-z"
      }
    },
    {
      "cell_type": "code",
      "source": [
        "a = True\n",
        "b = False\n",
        "\n",
        "print(a,b)\n",
        "print(type(a),type(b))"
      ],
      "metadata": {
        "colab": {
          "base_uri": "https://localhost:8080/"
        },
        "id": "zyPfyy-muTBd",
        "outputId": "6f01c2ec-6142-4a44-bb9c-faad72860f86"
      },
      "execution_count": 205,
      "outputs": [
        {
          "output_type": "stream",
          "name": "stdout",
          "text": [
            "True False\n",
            "<class 'bool'> <class 'bool'>\n"
          ]
        }
      ]
    },
    {
      "cell_type": "code",
      "source": [
        "print(a & b)\n",
        "print(a & a)\n",
        "print(b & a)\n",
        "print(b & b)"
      ],
      "metadata": {
        "colab": {
          "base_uri": "https://localhost:8080/"
        },
        "id": "Lt5Mrcf_uXbz",
        "outputId": "74119336-3b89-4742-8239-20dd003b4741"
      },
      "execution_count": 212,
      "outputs": [
        {
          "output_type": "stream",
          "name": "stdout",
          "text": [
            "False\n",
            "True\n",
            "False\n",
            "False\n"
          ]
        }
      ]
    },
    {
      "cell_type": "code",
      "source": [
        "print(a | a)\n",
        "print(a | b)\n",
        "print(b | a)\n",
        "print(b | b)"
      ],
      "metadata": {
        "colab": {
          "base_uri": "https://localhost:8080/"
        },
        "id": "BIVdrWgpwtT3",
        "outputId": "6e8a938b-a7d5-4d33-cc6b-6950e6eeee92"
      },
      "execution_count": 215,
      "outputs": [
        {
          "output_type": "stream",
          "name": "stdout",
          "text": [
            "True\n",
            "True\n",
            "True\n",
            "False\n"
          ]
        }
      ]
    },
    {
      "cell_type": "code",
      "source": [
        "print(a + a)\n",
        "print(a * b)\n",
        "print(b - a)\n",
        "print(a / a)"
      ],
      "metadata": {
        "colab": {
          "base_uri": "https://localhost:8080/"
        },
        "id": "z2W6GA2gw1yZ",
        "outputId": "d4f0351f-ac69-463d-cf89-2d7da52640a4"
      },
      "execution_count": 216,
      "outputs": [
        {
          "output_type": "stream",
          "name": "stdout",
          "text": [
            "2\n",
            "0\n",
            "-1\n",
            "1.0\n"
          ]
        }
      ]
    },
    {
      "cell_type": "code",
      "source": [
        "type(float(True))"
      ],
      "metadata": {
        "colab": {
          "base_uri": "https://localhost:8080/"
        },
        "id": "WUmAgPUhxbOL",
        "outputId": "3d5ac492-6287-4e74-f195-8dd011014839"
      },
      "execution_count": 218,
      "outputs": [
        {
          "output_type": "execute_result",
          "data": {
            "text/plain": [
              "float"
            ]
          },
          "metadata": {},
          "execution_count": 218
        }
      ]
    },
    {
      "cell_type": "code",
      "source": [
        "print(str(True))"
      ],
      "metadata": {
        "colab": {
          "base_uri": "https://localhost:8080/"
        },
        "id": "fz-ILoRgxlck",
        "outputId": "80b32d50-596e-4eac-e53c-47203ddbfa5d"
      },
      "execution_count": 222,
      "outputs": [
        {
          "output_type": "stream",
          "name": "stdout",
          "text": [
            "True\n"
          ]
        }
      ]
    },
    {
      "cell_type": "code",
      "source": [
        "type(bool(1))"
      ],
      "metadata": {
        "colab": {
          "base_uri": "https://localhost:8080/"
        },
        "id": "V9rTnoCgx7w7",
        "outputId": "a8009660-c921-4249-dedc-f3100aa07bf5"
      },
      "execution_count": 223,
      "outputs": [
        {
          "output_type": "execute_result",
          "data": {
            "text/plain": [
              "bool"
            ]
          },
          "metadata": {},
          "execution_count": 223
        }
      ]
    },
    {
      "cell_type": "code",
      "source": [],
      "metadata": {
        "id": "p2XGMYzxyPcZ"
      },
      "execution_count": null,
      "outputs": []
    }
  ],
  "metadata": {
    "colab": {
      "provenance": [],
      "authorship_tag": "ABX9TyOT8MyGmWBvh/g/dZu8jAHd",
      "include_colab_link": true
    },
    "kernelspec": {
      "display_name": "Python 3",
      "name": "python3"
    },
    "language_info": {
      "name": "python"
    }
  },
  "nbformat": 4,
  "nbformat_minor": 0
}