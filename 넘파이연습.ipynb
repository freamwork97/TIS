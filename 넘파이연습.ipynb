{
  "nbformat": 4,
  "nbformat_minor": 0,
  "metadata": {
    "colab": {
      "provenance": [],
      "authorship_tag": "ABX9TyOz+Hiu/uK+W972dm0Ck+N5",
      "include_colab_link": true
    },
    "kernelspec": {
      "name": "python3",
      "display_name": "Python 3"
    },
    "language_info": {
      "name": "python"
    }
  },
  "cells": [
    {
      "cell_type": "markdown",
      "metadata": {
        "id": "view-in-github",
        "colab_type": "text"
      },
      "source": [
        "<a href=\"https://colab.research.google.com/github/freamwork97/TIS/blob/main/%EB%84%98%ED%8C%8C%EC%9D%B4%EC%97%B0%EC%8A%B5.ipynb\" target=\"_parent\"><img src=\"https://colab.research.google.com/assets/colab-badge.svg\" alt=\"Open In Colab\"/></a>"
      ]
    },
    {
      "cell_type": "code",
      "execution_count": 10,
      "metadata": {
        "colab": {
          "base_uri": "https://localhost:8080/"
        },
        "id": "mKUCOZVfOTtC",
        "outputId": "c1545388-df3d-481d-8589-56973032bcc8"
      },
      "outputs": [
        {
          "output_type": "stream",
          "name": "stdout",
          "text": [
            "[[1 2 3]\n",
            " [4 5 6]\n",
            " [7 8 9]]\n",
            "<class 'numpy.ndarray'>\n"
          ]
        }
      ],
      "source": [
        "import numpy as np\n",
        "\n",
        "a = np.array([[1,2,3],[4,5,6],[7,8,9]])\n",
        "print(a)\n",
        "print(type(a))"
      ]
    },
    {
      "cell_type": "code",
      "source": [
        "a = [1,2,3,4]\n",
        "print(a)\n",
        "print(type(a))"
      ],
      "metadata": {
        "colab": {
          "base_uri": "https://localhost:8080/"
        },
        "id": "ytFnnOTQT8X_",
        "outputId": "238a894c-f3eb-4839-ca2c-d97519aa559b"
      },
      "execution_count": 12,
      "outputs": [
        {
          "output_type": "stream",
          "name": "stdout",
          "text": [
            "[1, 2, 3, 4]\n",
            "<class 'list'>\n"
          ]
        }
      ]
    },
    {
      "cell_type": "code",
      "source": [
        "a = np.array([[1,2,3],[4,5,6],[7,8,9]])\n",
        "b = np.array([[1,2,3],[4,5,6],[7,8,9]])\n",
        "c = a+b\n",
        "print(c)\n",
        "print('-'*13)\n",
        "c = a* b\n",
        "print(c)\n",
        "print('-'*13)\n",
        "c = a- b\n",
        "print(c)\n",
        "print('-'*13)\n",
        "c = a/ b\n",
        "print(c)\n",
        "print('-'*13)\n"
      ],
      "metadata": {
        "colab": {
          "base_uri": "https://localhost:8080/"
        },
        "id": "UJdX9Xk1U1jp",
        "outputId": "d7b3a9b5-29ea-4889-f5f6-fdbb54503ec5"
      },
      "execution_count": 24,
      "outputs": [
        {
          "output_type": "stream",
          "name": "stdout",
          "text": [
            "[[ 2  4  6]\n",
            " [ 8 10 12]\n",
            " [14 16 18]]\n",
            "-------------\n",
            "[[ 1  4  9]\n",
            " [16 25 36]\n",
            " [49 64 81]]\n",
            "-------------\n",
            "[[0 0 0]\n",
            " [0 0 0]\n",
            " [0 0 0]]\n",
            "-------------\n",
            "[[1. 1. 1.]\n",
            " [1. 1. 1.]\n",
            " [1. 1. 1.]]\n",
            "-------------\n"
          ]
        }
      ]
    },
    {
      "cell_type": "code",
      "source": [
        "import numpy as np\n",
        "\n",
        "arr = np.array([1,2,3,4])\n",
        "type(arr)"
      ],
      "metadata": {
        "colab": {
          "base_uri": "https://localhost:8080/"
        },
        "id": "-_8dF24QXqFk",
        "outputId": "77a9515a-bb57-4c26-83ff-fa8ca521c5c8"
      },
      "execution_count": 48,
      "outputs": [
        {
          "output_type": "execute_result",
          "data": {
            "text/plain": [
              "numpy.ndarray"
            ]
          },
          "metadata": {},
          "execution_count": 48
        }
      ]
    },
    {
      "cell_type": "code",
      "source": [
        "import numpy as np\n",
        "\n",
        "arr1 = np.array([1,2,3])  # int 자료형으로만 구성\n",
        "arr2 = np.array([1,2,3.0]) # float 자료형 포함\n",
        "arr3 = np.array([1,2,'3']) # str 자료형 포함\n",
        "\n",
        "# dtype은 속성명\n",
        "print(arr1, arr1.dtype)\n",
        "print(arr2, arr2.dtype)\n",
        "print(arr3, arr3.dtype)"
      ],
      "metadata": {
        "colab": {
          "base_uri": "https://localhost:8080/"
        },
        "id": "F41Dhw_WVmCL",
        "outputId": "3716c564-e774-4cb5-f9ff-5a03071ee681"
      },
      "execution_count": 49,
      "outputs": [
        {
          "output_type": "stream",
          "name": "stdout",
          "text": [
            "[1 2 3] int64\n",
            "[1. 2. 3.] float64\n",
            "['1' '2' '3'] <U21\n"
          ]
        }
      ]
    },
    {
      "cell_type": "code",
      "source": [
        "arr1 = np.array([1,2,3]) # 1차원\n",
        "\n",
        "arr2 = np.array([[1,2,3],\n",
        "                 [4,5,6]]) # 2차원\n",
        "\n",
        "arr3 = np.array([[[1,2,3],\n",
        "                  [4,5,6],\n",
        "                  [7,8,9]]]) # 3차원\n",
        "                  \n",
        "arr4 = np.array([[1],[2],[3]])\n",
        "\n",
        "print(arr1)\n",
        "print('-'*11)\n",
        "print(arr2)\n",
        "print('-'*11)\n",
        "print(arr3)\n",
        "print('-'*11)\n",
        "print(arr4)\n",
        "print('-'*11)\n",
        "\n",
        "# 형태확인\n",
        "print(arr1.shape)\n",
        "print(arr2.shape)\n",
        "print(arr3.shape)\n",
        "print(arr4.shape)\n",
        "print('-'*11)\n",
        "\n",
        "# 차원확인\n",
        "print(arr1.ndim)\n",
        "print(arr2.ndim)\n",
        "print(arr3.ndim)\n",
        "print(arr4.ndim)\n",
        "print('-'*11)\n"
      ],
      "metadata": {
        "colab": {
          "base_uri": "https://localhost:8080/"
        },
        "id": "KTzLgkhEXnS3",
        "outputId": "a3779b17-cb77-472b-ef57-f9ea74ddc9db"
      },
      "execution_count": 92,
      "outputs": [
        {
          "output_type": "stream",
          "name": "stdout",
          "text": [
            "[1 2 3]\n",
            "-----------\n",
            "[[1 2 3]\n",
            " [4 5 6]]\n",
            "-----------\n",
            "[[[1 2]\n",
            "  [4 5]\n",
            "  [7 8]]]\n",
            "-----------\n",
            "[[1]\n",
            " [2]\n",
            " [3]]\n",
            "-----------\n",
            "(3,)\n",
            "(2, 3)\n",
            "(1, 3, 2)\n",
            "(3, 1)\n",
            "-----------\n",
            "1\n",
            "2\n",
            "3\n",
            "2\n",
            "-----------\n"
          ]
        }
      ]
    },
    {
      "cell_type": "code",
      "source": [
        "a = np.array([[10,20,30,40],[50,60,70,80]])\n",
        "print(a)"
      ],
      "metadata": {
        "colab": {
          "base_uri": "https://localhost:8080/"
        },
        "id": "i-gHTZhQXztn",
        "outputId": "9c36c680-3617-4817-e62e-e3bc29616928"
      },
      "execution_count": 57,
      "outputs": [
        {
          "output_type": "stream",
          "name": "stdout",
          "text": [
            "[[10 20 30 40]\n",
            " [50 60 70 80]]\n"
          ]
        }
      ]
    },
    {
      "cell_type": "code",
      "source": [
        "a = np.array([[[1,2,3,4],\n",
        "              [5,6,7,8],\n",
        "              [9,10,11,12]],\n",
        "             [[11,12,13,14],\n",
        "              [15,16,17,18],\n",
        "              [19,20,21,22]]])\n",
        "print(a)\n",
        "len(a),len(a[0]), len(a[0][0])"
      ],
      "metadata": {
        "colab": {
          "base_uri": "https://localhost:8080/"
        },
        "id": "D3k4b-Vfb0yB",
        "outputId": "b19caaf3-6130-4002-918d-ef4261aae91a"
      },
      "execution_count": 63,
      "outputs": [
        {
          "output_type": "stream",
          "name": "stdout",
          "text": [
            "[[[ 1  2  3  4]\n",
            "  [ 5  6  7  8]\n",
            "  [ 9 10 11 12]]\n",
            "\n",
            " [[11 12 13 14]\n",
            "  [15 16 17 18]\n",
            "  [19 20 21 22]]]\n"
          ]
        },
        {
          "output_type": "execute_result",
          "data": {
            "text/plain": [
              "(2, 3, 4)"
            ]
          },
          "metadata": {},
          "execution_count": 63
        }
      ]
    },
    {
      "cell_type": "code",
      "source": [
        "a = np.array([1,2,3,4,5,6,7])\n",
        "print(a[2])\n",
        "print(a[-1])\n",
        "print(a[5])"
      ],
      "metadata": {
        "colab": {
          "base_uri": "https://localhost:8080/"
        },
        "id": "DSs0ZpuCcNEn",
        "outputId": "5cf7f5e8-f515-457e-c0df-857772c1a73a"
      },
      "execution_count": 74,
      "outputs": [
        {
          "output_type": "stream",
          "name": "stdout",
          "text": [
            "3\n",
            "7\n",
            "6\n"
          ]
        }
      ]
    },
    {
      "cell_type": "code",
      "source": [
        "a = np.array([[1,2,3],[4,5,6]])\n",
        "print(a)\n",
        "print(a[0][0])\n",
        "print(a[1][2])\n",
        "print(a[-1][-1])"
      ],
      "metadata": {
        "colab": {
          "base_uri": "https://localhost:8080/"
        },
        "id": "RaZMEtOMdcl_",
        "outputId": "de04ce2d-1b15-4912-ddce-c977db4b0bf3"
      },
      "execution_count": 80,
      "outputs": [
        {
          "output_type": "stream",
          "name": "stdout",
          "text": [
            "[[1 2 3]\n",
            " [4 5 6]]\n",
            "1\n",
            "6\n",
            "6\n"
          ]
        }
      ]
    },
    {
      "cell_type": "code",
      "source": [
        "# 크기가 (4,)인 1차원 넘파이 배열 생성,\n",
        "# 차원 및 형태 출력\n",
        "a = np.array([1,2,3,4])\n",
        "print(a)\n",
        "print(a.shape)\n",
        "print(a.ndim)\n"
      ],
      "metadata": {
        "colab": {
          "base_uri": "https://localhost:8080/"
        },
        "id": "Mf_6uglkdeTY",
        "outputId": "66cc1bc6-7d56-41df-cd2e-304d99a5d15f"
      },
      "execution_count": 93,
      "outputs": [
        {
          "output_type": "stream",
          "name": "stdout",
          "text": [
            "[1 2 3 4]\n",
            "(4,)\n",
            "1\n"
          ]
        }
      ]
    },
    {
      "cell_type": "code",
      "source": [
        "# 크기가 (4,3)인 2차원 넘파이 배열 생성\n",
        "# 차원 및 형태 출력\n",
        "a = np.array([[1,2,3],\n",
        "              [5,6,7],\n",
        "              [9,10,11],\n",
        "              [4,6,8]])\n",
        "print(a)\n",
        "print('-'*11)\n",
        "\n",
        "print(a.shape)\n",
        "print('-'*11)\n",
        "\n",
        "print(a.ndim)\n",
        "print('-'*11)\n",
        "\n",
        "display(a)"
      ],
      "metadata": {
        "colab": {
          "base_uri": "https://localhost:8080/",
          "height": 253
        },
        "id": "V-f3Mcp8gZ3D",
        "outputId": "0b4db515-acff-455f-8a14-fa5f068c0a00"
      },
      "execution_count": 117,
      "outputs": [
        {
          "output_type": "stream",
          "name": "stdout",
          "text": [
            "[[ 1  2  3]\n",
            " [ 5  6  7]\n",
            " [ 9 10 11]\n",
            " [ 4  6  8]]\n",
            "-----------\n",
            "(4, 3)\n",
            "-----------\n",
            "2\n",
            "-----------\n"
          ]
        },
        {
          "output_type": "display_data",
          "data": {
            "text/plain": [
              "array([[ 1,  2,  3],\n",
              "       [ 5,  6,  7],\n",
              "       [ 9, 10, 11],\n",
              "       [ 4,  6,  8]])"
            ]
          },
          "metadata": {}
        }
      ]
    },
    {
      "cell_type": "code",
      "source": [
        "a = np.array([[0,1,2,3],\n",
        "              [4,5,6,7]])\n",
        "print(a)\n",
        "\n",
        "print('-'*11)\n",
        "print(a[0][:])\n",
        "\n",
        "print('-'*11)\n",
        "print(a[0][1:])\n",
        "\n",
        "print('-'*11)\n",
        "print(a[1,:2])\n",
        "\n",
        "print('-'*11)\n",
        "print(a[:,:2])"
      ],
      "metadata": {
        "colab": {
          "base_uri": "https://localhost:8080/"
        },
        "id": "jl1m53SCgotQ",
        "outputId": "041a7d76-5b8f-4b88-fa6b-7f6bc248dd1c"
      },
      "execution_count": 115,
      "outputs": [
        {
          "output_type": "stream",
          "name": "stdout",
          "text": [
            "[[0 1 2 3]\n",
            " [4 5 6 7]]\n",
            "-----------\n",
            "[0 1 2 3]\n",
            "-----------\n",
            "[1 2 3]\n",
            "-----------\n",
            "[4 5]\n",
            "-----------\n",
            "[[0 1]\n",
            " [4 5]]\n"
          ]
        }
      ]
    },
    {
      "cell_type": "code",
      "source": [
        "a = list(range(10))\n",
        "print(a)"
      ],
      "metadata": {
        "colab": {
          "base_uri": "https://localhost:8080/"
        },
        "id": "UB-KRhiFhSgy",
        "outputId": "bb75fd0b-c7f9-453a-d3b8-bd3092ae50ff"
      },
      "execution_count": 118,
      "outputs": [
        {
          "output_type": "stream",
          "name": "stdout",
          "text": [
            "[0, 1, 2, 3, 4, 5, 6, 7, 8, 9]\n"
          ]
        }
      ]
    },
    {
      "cell_type": "code",
      "source": [
        "print(np.arange(5,9))"
      ],
      "metadata": {
        "colab": {
          "base_uri": "https://localhost:8080/"
        },
        "id": "yQJMwyH7iqjE",
        "outputId": "e75b8c9b-625d-4fcf-903e-635632ebcd8e"
      },
      "execution_count": 130,
      "outputs": [
        {
          "output_type": "stream",
          "name": "stdout",
          "text": [
            "[5 6 7 8]\n"
          ]
        }
      ]
    },
    {
      "cell_type": "code",
      "source": [
        "arr1 = np.arange(5) # 0 ~ 5까지 1씩 증가\n",
        "arr2 = np.arange(-1,4.5,1.5) # -1부터 4.5까지 1.5씩 증가\n",
        "arr3 = np.arange(10,1,-1) # 10부터 1까지 -1씩 증가\n",
        "arr4 = np.linspace(0,1,11) # 0부터 1까지 등간격의 11개의 요소 생성\n",
        "\n",
        "display(arr1)\n",
        "print('-'*40)\n",
        "\n",
        "display(arr2)\n",
        "print('-'*40)\n",
        "\n",
        "display(arr3)\n",
        "print('-'*40)\n",
        "\n",
        "display(arr4)\n",
        "print('-'*40)"
      ],
      "metadata": {
        "colab": {
          "base_uri": "https://localhost:8080/",
          "height": 162
        },
        "id": "8Br9Ef3bi6zP",
        "outputId": "55a5f510-f86c-46a6-dc14-a599a88692db"
      },
      "execution_count": 137,
      "outputs": [
        {
          "output_type": "display_data",
          "data": {
            "text/plain": [
              "array([0, 1, 2, 3, 4])"
            ]
          },
          "metadata": {}
        },
        {
          "output_type": "stream",
          "name": "stdout",
          "text": [
            "----------------------------------------\n"
          ]
        },
        {
          "output_type": "display_data",
          "data": {
            "text/plain": [
              "array([-1. ,  0.5,  2. ,  3.5])"
            ]
          },
          "metadata": {}
        },
        {
          "output_type": "stream",
          "name": "stdout",
          "text": [
            "----------------------------------------\n"
          ]
        },
        {
          "output_type": "display_data",
          "data": {
            "text/plain": [
              "array([10,  9,  8,  7,  6,  5,  4,  3,  2])"
            ]
          },
          "metadata": {}
        },
        {
          "output_type": "stream",
          "name": "stdout",
          "text": [
            "----------------------------------------\n"
          ]
        },
        {
          "output_type": "display_data",
          "data": {
            "text/plain": [
              "array([0. , 0.1, 0.2, 0.3, 0.4, 0.5, 0.6, 0.7, 0.8, 0.9, 1. ])"
            ]
          },
          "metadata": {}
        },
        {
          "output_type": "stream",
          "name": "stdout",
          "text": [
            "----------------------------------------\n"
          ]
        }
      ]
    },
    {
      "cell_type": "code",
      "source": [
        "z1 = np.zeros(5) # 크기: 5\n",
        "z2 = np.zeros((3,2)) # 크기: (3,2)\n",
        "z3 = np.zeros(((3,3,3)))\n",
        "z4 = np.zeros((2,2),dtype=bool) \n",
        "print(z1)\n",
        "print(z1.ndim)\n",
        "print(z1.shape)\n",
        "print('-'*11)\n",
        "\n",
        "print(z2)\n",
        "print(z2.ndim)\n",
        "print(z2.shape)\n",
        "print('-'*11)\n",
        "\n",
        "print(z3)\n",
        "print(z3.ndim)\n",
        "print(z3.shape)\n",
        "print('-'*11)\n",
        "\n",
        "print(z4)\n",
        "print(z4.ndim)\n",
        "print(z4.shape)"
      ],
      "metadata": {
        "colab": {
          "base_uri": "https://localhost:8080/"
        },
        "id": "Kpf4HNZnj3aZ",
        "outputId": "ac446a10-246c-4019-8aaf-a90e4a18cbfa"
      },
      "execution_count": 149,
      "outputs": [
        {
          "output_type": "stream",
          "name": "stdout",
          "text": [
            "[0. 0. 0. 0. 0.]\n",
            "1\n",
            "(5,)\n",
            "-----------\n",
            "[[0. 0.]\n",
            " [0. 0.]\n",
            " [0. 0.]]\n",
            "2\n",
            "(3, 2)\n",
            "-----------\n",
            "[[[0. 0. 0.]\n",
            "  [0. 0. 0.]\n",
            "  [0. 0. 0.]]\n",
            "\n",
            " [[0. 0. 0.]\n",
            "  [0. 0. 0.]\n",
            "  [0. 0. 0.]]\n",
            "\n",
            " [[0. 0. 0.]\n",
            "  [0. 0. 0.]\n",
            "  [0. 0. 0.]]]\n",
            "3\n",
            "(3, 3, 3)\n",
            "-----------\n",
            "[[False False]\n",
            " [False False]]\n",
            "2\n",
            "(2, 2)\n"
          ]
        }
      ]
    },
    {
      "cell_type": "code",
      "source": [
        "n1 = np.ones((5,2), dtype='i')\n",
        "n1"
      ],
      "metadata": {
        "colab": {
          "base_uri": "https://localhost:8080/"
        },
        "id": "gbsW8fAFk4CR",
        "outputId": "e7da4d3a-7859-4a80-db37-b6de6e010104"
      },
      "execution_count": 157,
      "outputs": [
        {
          "output_type": "execute_result",
          "data": {
            "text/plain": [
              "array([[1, 1],\n",
              "       [1, 1],\n",
              "       [1, 1],\n",
              "       [1, 1],\n",
              "       [1, 1]], dtype=int32)"
            ]
          },
          "metadata": {},
          "execution_count": 157
        }
      ]
    },
    {
      "cell_type": "code",
      "source": [
        "a = np.zeros((2,3))\n",
        "a"
      ],
      "metadata": {
        "colab": {
          "base_uri": "https://localhost:8080/"
        },
        "id": "PmNNkI9YmCup",
        "outputId": "56c2cc04-5089-41a3-e988-3ddc59ebaf78"
      },
      "execution_count": 158,
      "outputs": [
        {
          "output_type": "execute_result",
          "data": {
            "text/plain": [
              "array([[0., 0., 0.],\n",
              "       [0., 0., 0.]])"
            ]
          },
          "metadata": {},
          "execution_count": 158
        }
      ]
    },
    {
      "cell_type": "code",
      "source": [
        "b = np.ones_like(a,dtype='f')\n",
        "b"
      ],
      "metadata": {
        "colab": {
          "base_uri": "https://localhost:8080/"
        },
        "id": "-jyVJ9ZZmrRa",
        "outputId": "b461d978-ce7c-4feb-b79f-70183c296e74"
      },
      "execution_count": 161,
      "outputs": [
        {
          "output_type": "execute_result",
          "data": {
            "text/plain": [
              "array([[1., 1., 1.],\n",
              "       [1., 1., 1.]], dtype=float32)"
            ]
          },
          "metadata": {},
          "execution_count": 161
        }
      ]
    },
    {
      "cell_type": "code",
      "source": [
        "# 다음 배열(arr1)과 같은 크기를 가지며,\n",
        "# 0과 1로만 채워진 두 개의 배열 생성\n",
        "arr1 = np.array([[1,2,3],\n",
        "                 [4,5,6]])\n",
        "a = np.zeros_like(arr1)\n",
        "b = np.ones_like(arr1)\n",
        "print(a)\n",
        "print('-'*10)\n",
        "print(b)"
      ],
      "metadata": {
        "colab": {
          "base_uri": "https://localhost:8080/"
        },
        "id": "xvfyIN4jmxdJ",
        "outputId": "906aa90d-17f7-4b71-9a84-f4029b885206"
      },
      "execution_count": 175,
      "outputs": [
        {
          "output_type": "stream",
          "name": "stdout",
          "text": [
            "[[0 0 0]\n",
            " [0 0 0]]\n",
            "----------\n",
            "[[1 1 1]\n",
            " [1 1 1]]\n"
          ]
        }
      ]
    },
    {
      "cell_type": "code",
      "source": [
        "# 5 크기의 전부 0과 전부 1로 채워진 넘파이 배열을 생성\n",
        "a = np.zeros(5)\n",
        "b = np.ones(5)\n",
        "print(a)\n",
        "print('-'*15)\n",
        "print(b)"
      ],
      "metadata": {
        "colab": {
          "base_uri": "https://localhost:8080/"
        },
        "id": "UPJgS4nsntnU",
        "outputId": "2bf77a4e-89de-4aa8-e6b2-c59be6dcef8b"
      },
      "execution_count": 174,
      "outputs": [
        {
          "output_type": "stream",
          "name": "stdout",
          "text": [
            "[0. 0. 0. 0. 0.]\n",
            "---------------\n",
            "[1. 1. 1. 1. 1.]\n"
          ]
        }
      ]
    },
    {
      "cell_type": "code",
      "source": [
        "# (3,4) 크기의 전부 0과 전부 1로 채워진 넘파이 배열 생성\n",
        "# 차원과 크기 출력\n",
        "a = np.zeros((3,4))\n",
        "b = np.ones((3,4))\n",
        "print(a.ndim)\n",
        "print(a)\n",
        "print('-'*15)\n",
        "print(b.ndim)\n",
        "print(b)"
      ],
      "metadata": {
        "colab": {
          "base_uri": "https://localhost:8080/"
        },
        "id": "3vFX3Pw6n5i3",
        "outputId": "f4a507ae-fe10-4950-80f6-a69aa4072021"
      },
      "execution_count": 169,
      "outputs": [
        {
          "output_type": "stream",
          "name": "stdout",
          "text": [
            "2\n",
            "[[0. 0. 0. 0.]\n",
            " [0. 0. 0. 0.]\n",
            " [0. 0. 0. 0.]]\n",
            "---------------\n",
            "2\n",
            "[[1. 1. 1. 1.]\n",
            " [1. 1. 1. 1.]\n",
            " [1. 1. 1. 1.]]\n"
          ]
        }
      ]
    },
    {
      "cell_type": "code",
      "source": [
        "# 다음 배열(arr2)과 같은 크기를 가지며,\n",
        "# 0과 1로만 채워진 두 개의 배열 생성\n",
        "arr2 = np.array([[[1,2],\n",
        "                  [3,4],\n",
        "                  [5,6],\n",
        "                  [7,8]]])\n",
        "a = np.zeros_like(arr2)\n",
        "b = np.ones_like(arr2)\n",
        "print(a)\n",
        "print('-'*10)\n",
        "print(b)"
      ],
      "metadata": {
        "colab": {
          "base_uri": "https://localhost:8080/"
        },
        "id": "A9JkNf1LoSZ7",
        "outputId": "0bd7f52b-9581-4dbb-9b77-d1a08a09fe50"
      },
      "execution_count": 171,
      "outputs": [
        {
          "output_type": "stream",
          "name": "stdout",
          "text": [
            "[[[0 0]\n",
            "  [0 0]\n",
            "  [0 0]\n",
            "  [0 0]]]\n",
            "----------\n",
            "[[[1 1]\n",
            "  [1 1]\n",
            "  [1 1]\n",
            "  [1 1]]]\n"
          ]
        }
      ]
    },
    {
      "cell_type": "code",
      "source": [
        "\n",
        "arr1 = np.random.random(5)\n",
        "arr2 = np.random.random((2,2))\n",
        "\n",
        "print(arr1)\n",
        "print('-'*40)\n",
        "\n",
        "print(arr2)"
      ],
      "metadata": {
        "colab": {
          "base_uri": "https://localhost:8080/"
        },
        "id": "9RG-2eWFop8C",
        "outputId": "943a8e7d-e973-4da6-a2dc-6616d65725ca"
      },
      "execution_count": 201,
      "outputs": [
        {
          "output_type": "stream",
          "name": "stdout",
          "text": [
            "[0.11005192 0.22793516 0.42710779 0.81801477 0.86073058]\n",
            "----------------------------------------\n",
            "[[0.00695213 0.5107473 ]\n",
            " [0.417411   0.22210781]]\n"
          ]
        }
      ]
    },
    {
      "cell_type": "code",
      "source": [
        "arr1 = np.random.normal(0,1,5)\n",
        "arr2 = np.random.normal(10,3,(3,3))\n",
        "\n",
        "print(arr1)\n",
        "print('-'*40)\n",
        "print(arr2)"
      ],
      "metadata": {
        "colab": {
          "base_uri": "https://localhost:8080/"
        },
        "id": "ykXk5uFLud-z",
        "outputId": "c1dfcf1d-0c39-4e77-89a6-7fb698f50ba8"
      },
      "execution_count": 202,
      "outputs": [
        {
          "output_type": "stream",
          "name": "stdout",
          "text": [
            "[-0.34271452 -0.80227727 -0.16128571  0.40405086  1.8861859 ]\n",
            "----------------------------------------\n",
            "[[10.52373344 10.77265117  9.77666225]\n",
            " [ 4.24368635  9.92045837 10.18069063]\n",
            " [17.38972634  9.42291711 10.90464203]]\n"
          ]
        }
      ]
    },
    {
      "cell_type": "code",
      "source": [
        "# 요소개수가 7\n",
        "# 평균 0 \n",
        "# 분산 1인 정규분포 난수 넘파이 배열 생성\n",
        "\n",
        "a = np.random.normal(0,1,7)\n",
        "print(a)"
      ],
      "metadata": {
        "colab": {
          "base_uri": "https://localhost:8080/"
        },
        "id": "VpA7MJbqw8Rb",
        "outputId": "4c3735b4-d1b2-4a04-b31c-f76f556c96a3"
      },
      "execution_count": 204,
      "outputs": [
        {
          "output_type": "stream",
          "name": "stdout",
          "text": [
            "[-1.40185106  0.58685709  2.19045563 -0.99053633 -0.56629773  0.09965137\n",
            " -0.50347565]\n"
          ]
        }
      ]
    },
    {
      "cell_type": "code",
      "source": [
        "# 다음 배열(arr)과 같은 크기의 평균 3\n",
        "# 분산 2인 정규분포 난수 넘파이 배열 생성\n",
        "# shape 활용\n",
        "\n",
        "arr = np.zeros((3,2))\n",
        "print(arr)\n",
        "print('-'*20)\n",
        "\n",
        "a = np.random.normal(3,2,(arr.shape))\n",
        "print(a)"
      ],
      "metadata": {
        "colab": {
          "base_uri": "https://localhost:8080/"
        },
        "id": "aIx7wSiXxQNN",
        "outputId": "cacbeafe-a6e6-479a-f485-366faf726b16"
      },
      "execution_count": 217,
      "outputs": [
        {
          "output_type": "stream",
          "name": "stdout",
          "text": [
            "[[0. 0.]\n",
            " [0. 0.]\n",
            " [0. 0.]]\n",
            "--------------------\n",
            "[[2.1069701  4.71279759]\n",
            " [3.42818749 0.50852244]\n",
            " [3.34636185 3.77063476]]\n"
          ]
        }
      ]
    },
    {
      "cell_type": "code",
      "source": [
        "a = np.arange(10)\n",
        "idx = np.array([1,0,1,0,1,0,1,0,1,0],dtype=bool)\n",
        "\n",
        "a[idx]"
      ],
      "metadata": {
        "colab": {
          "base_uri": "https://localhost:8080/"
        },
        "id": "yFx61zyPxdjx",
        "outputId": "e80d889b-44e0-4e94-af2b-0c1502575533"
      },
      "execution_count": 224,
      "outputs": [
        {
          "output_type": "execute_result",
          "data": {
            "text/plain": [
              "array([0, 2, 4, 6, 8])"
            ]
          },
          "metadata": {},
          "execution_count": 224
        }
      ]
    },
    {
      "cell_type": "code",
      "source": [
        "a % 2"
      ],
      "metadata": {
        "colab": {
          "base_uri": "https://localhost:8080/"
        },
        "id": "d-AnSRJa09cu",
        "outputId": "d3fd333f-975b-44c9-8766-4bb6d18fc339"
      },
      "execution_count": 225,
      "outputs": [
        {
          "output_type": "execute_result",
          "data": {
            "text/plain": [
              "array([0, 1, 0, 1, 0, 1, 0, 1, 0, 1])"
            ]
          },
          "metadata": {},
          "execution_count": 225
        }
      ]
    },
    {
      "cell_type": "code",
      "source": [
        "a % 2 ==0"
      ],
      "metadata": {
        "colab": {
          "base_uri": "https://localhost:8080/"
        },
        "id": "_oWn8qjb1FxM",
        "outputId": "d22900d4-cccc-4fe8-ce40-4dad1d2597e0"
      },
      "execution_count": 226,
      "outputs": [
        {
          "output_type": "execute_result",
          "data": {
            "text/plain": [
              "array([ True, False,  True, False,  True, False,  True, False,  True,\n",
              "       False])"
            ]
          },
          "metadata": {},
          "execution_count": 226
        }
      ]
    },
    {
      "cell_type": "code",
      "source": [
        "a[a%2==0]"
      ],
      "metadata": {
        "colab": {
          "base_uri": "https://localhost:8080/"
        },
        "id": "loWu9wnW1J_7",
        "outputId": "36bda1a4-e8b9-40b1-f1de-ed19664e8d5f"
      },
      "execution_count": 227,
      "outputs": [
        {
          "output_type": "execute_result",
          "data": {
            "text/plain": [
              "array([0, 2, 4, 6, 8])"
            ]
          },
          "metadata": {},
          "execution_count": 227
        }
      ]
    },
    {
      "cell_type": "code",
      "source": [],
      "metadata": {
        "id": "meCPFLV_1OUA"
      },
      "execution_count": null,
      "outputs": []
    }
  ]
}