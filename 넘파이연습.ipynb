{
  "nbformat": 4,
  "nbformat_minor": 0,
  "metadata": {
    "colab": {
      "provenance": [],
      "authorship_tag": "ABX9TyNRJ5lfiZf/dlr5hkkxQoOK",
      "include_colab_link": true
    },
    "kernelspec": {
      "name": "python3",
      "display_name": "Python 3"
    },
    "language_info": {
      "name": "python"
    }
  },
  "cells": [
    {
      "cell_type": "markdown",
      "metadata": {
        "id": "view-in-github",
        "colab_type": "text"
      },
      "source": [
        "<a href=\"https://colab.research.google.com/github/freamwork97/TIS/blob/main/%EB%84%98%ED%8C%8C%EC%9D%B4%EC%97%B0%EC%8A%B5.ipynb\" target=\"_parent\"><img src=\"https://colab.research.google.com/assets/colab-badge.svg\" alt=\"Open In Colab\"/></a>"
      ]
    },
    {
      "cell_type": "code",
      "execution_count": 3,
      "metadata": {
        "colab": {
          "base_uri": "https://localhost:8080/"
        },
        "id": "mKUCOZVfOTtC",
        "outputId": "62782285-6d17-4ed1-bd26-c112e340c6e2"
      },
      "outputs": [
        {
          "output_type": "stream",
          "name": "stdout",
          "text": [
            "[[1 2 3]\n",
            " [4 5 6]\n",
            " [7 8 9]]\n",
            "<class 'numpy.ndarray'>\n"
          ]
        }
      ],
      "source": [
        "import numpy as np\n",
        "\n",
        "a = np.array([[1,2,3],[4,5,6],[7,8,9]])\n",
        "print(a)\n",
        "print(type(a))"
      ]
    },
    {
      "cell_type": "code",
      "source": [
        "a = [1,2,3,4]\n",
        "print(a)\n",
        "print(type(a))"
      ],
      "metadata": {
        "colab": {
          "base_uri": "https://localhost:8080/"
        },
        "id": "ytFnnOTQT8X_",
        "outputId": "238a894c-f3eb-4839-ca2c-d97519aa559b"
      },
      "execution_count": 12,
      "outputs": [
        {
          "output_type": "stream",
          "name": "stdout",
          "text": [
            "[1, 2, 3, 4]\n",
            "<class 'list'>\n"
          ]
        }
      ]
    },
    {
      "cell_type": "code",
      "source": [
        "a = np.array([[1,2,3],[4,5,6],[7,8,9]])\n",
        "b = np.array([[1,2,3],[4,5,6],[7,8,9]])\n",
        "c = a+b\n",
        "print(c)\n",
        "print('-'*13)\n",
        "c = a* b\n",
        "print(c)\n",
        "print('-'*13)\n",
        "c = a- b\n",
        "print(c)\n",
        "print('-'*13)\n",
        "c = a/ b\n",
        "print(c)\n",
        "print('-'*13)\n"
      ],
      "metadata": {
        "colab": {
          "base_uri": "https://localhost:8080/"
        },
        "id": "UJdX9Xk1U1jp",
        "outputId": "d7b3a9b5-29ea-4889-f5f6-fdbb54503ec5"
      },
      "execution_count": 24,
      "outputs": [
        {
          "output_type": "stream",
          "name": "stdout",
          "text": [
            "[[ 2  4  6]\n",
            " [ 8 10 12]\n",
            " [14 16 18]]\n",
            "-------------\n",
            "[[ 1  4  9]\n",
            " [16 25 36]\n",
            " [49 64 81]]\n",
            "-------------\n",
            "[[0 0 0]\n",
            " [0 0 0]\n",
            " [0 0 0]]\n",
            "-------------\n",
            "[[1. 1. 1.]\n",
            " [1. 1. 1.]\n",
            " [1. 1. 1.]]\n",
            "-------------\n"
          ]
        }
      ]
    },
    {
      "cell_type": "code",
      "source": [
        "import numpy as np\n",
        "\n",
        "arr = np.array([1,2,3,4])\n",
        "type(arr)"
      ],
      "metadata": {
        "colab": {
          "base_uri": "https://localhost:8080/"
        },
        "id": "-_8dF24QXqFk",
        "outputId": "77a9515a-bb57-4c26-83ff-fa8ca521c5c8"
      },
      "execution_count": 48,
      "outputs": [
        {
          "output_type": "execute_result",
          "data": {
            "text/plain": [
              "numpy.ndarray"
            ]
          },
          "metadata": {},
          "execution_count": 48
        }
      ]
    },
    {
      "cell_type": "code",
      "source": [
        "import numpy as np\n",
        "\n",
        "arr1 = np.array([1,2,3])  # int 자료형으로만 구성\n",
        "arr2 = np.array([1,2,3.0]) # float 자료형 포함\n",
        "arr3 = np.array([1,2,'3']) # str 자료형 포함\n",
        "\n",
        "# dtype은 속성명\n",
        "print(arr1, arr1.dtype)\n",
        "print(arr2, arr2.dtype)\n",
        "print(arr3, arr3.dtype)"
      ],
      "metadata": {
        "colab": {
          "base_uri": "https://localhost:8080/"
        },
        "id": "F41Dhw_WVmCL",
        "outputId": "3716c564-e774-4cb5-f9ff-5a03071ee681"
      },
      "execution_count": 49,
      "outputs": [
        {
          "output_type": "stream",
          "name": "stdout",
          "text": [
            "[1 2 3] int64\n",
            "[1. 2. 3.] float64\n",
            "['1' '2' '3'] <U21\n"
          ]
        }
      ]
    },
    {
      "cell_type": "code",
      "source": [
        "arr1 = np.array([1,2,3]) # 1차원\n",
        "\n",
        "arr2 = np.array([[1,2,3],\n",
        "                 [4,5,6]]) # 2차원\n",
        "\n",
        "arr3 = np.array([[[1,2,3],\n",
        "                  [4,5,6],\n",
        "                  [7,8,9]]]) # 3차원\n",
        "                  \n",
        "arr4 = np.array([[1],[2],[3]])\n",
        "\n",
        "print(arr1)\n",
        "print('-'*11)\n",
        "print(arr2)\n",
        "print('-'*11)\n",
        "print(arr3)\n",
        "print('-'*11)\n",
        "print(arr4)\n",
        "print('-'*11)\n",
        "\n",
        "# 형태확인\n",
        "print(arr1.shape)\n",
        "print(arr2.shape)\n",
        "print(arr3.shape)\n",
        "print(arr4.shape)\n",
        "print('-'*11)\n",
        "\n",
        "# 차원확인\n",
        "print(arr1.ndim)\n",
        "print(arr2.ndim)\n",
        "print(arr3.ndim)\n",
        "print(arr4.ndim)\n",
        "print('-'*11)\n"
      ],
      "metadata": {
        "colab": {
          "base_uri": "https://localhost:8080/"
        },
        "id": "KTzLgkhEXnS3",
        "outputId": "a3779b17-cb77-472b-ef57-f9ea74ddc9db"
      },
      "execution_count": 92,
      "outputs": [
        {
          "output_type": "stream",
          "name": "stdout",
          "text": [
            "[1 2 3]\n",
            "-----------\n",
            "[[1 2 3]\n",
            " [4 5 6]]\n",
            "-----------\n",
            "[[[1 2]\n",
            "  [4 5]\n",
            "  [7 8]]]\n",
            "-----------\n",
            "[[1]\n",
            " [2]\n",
            " [3]]\n",
            "-----------\n",
            "(3,)\n",
            "(2, 3)\n",
            "(1, 3, 2)\n",
            "(3, 1)\n",
            "-----------\n",
            "1\n",
            "2\n",
            "3\n",
            "2\n",
            "-----------\n"
          ]
        }
      ]
    },
    {
      "cell_type": "code",
      "source": [
        "a = np.array([[10,20,30,40],[50,60,70,80]])\n",
        "print(a)"
      ],
      "metadata": {
        "colab": {
          "base_uri": "https://localhost:8080/"
        },
        "id": "i-gHTZhQXztn",
        "outputId": "9c36c680-3617-4817-e62e-e3bc29616928"
      },
      "execution_count": 57,
      "outputs": [
        {
          "output_type": "stream",
          "name": "stdout",
          "text": [
            "[[10 20 30 40]\n",
            " [50 60 70 80]]\n"
          ]
        }
      ]
    },
    {
      "cell_type": "code",
      "source": [
        "a = np.array([[[1,2,3,4],\n",
        "              [5,6,7,8],\n",
        "              [9,10,11,12]],\n",
        "             [[11,12,13,14],\n",
        "              [15,16,17,18],\n",
        "              [19,20,21,22]]])\n",
        "print(a)\n",
        "len(a),len(a[0]), len(a[0][0])"
      ],
      "metadata": {
        "colab": {
          "base_uri": "https://localhost:8080/"
        },
        "id": "D3k4b-Vfb0yB",
        "outputId": "b19caaf3-6130-4002-918d-ef4261aae91a"
      },
      "execution_count": 63,
      "outputs": [
        {
          "output_type": "stream",
          "name": "stdout",
          "text": [
            "[[[ 1  2  3  4]\n",
            "  [ 5  6  7  8]\n",
            "  [ 9 10 11 12]]\n",
            "\n",
            " [[11 12 13 14]\n",
            "  [15 16 17 18]\n",
            "  [19 20 21 22]]]\n"
          ]
        },
        {
          "output_type": "execute_result",
          "data": {
            "text/plain": [
              "(2, 3, 4)"
            ]
          },
          "metadata": {},
          "execution_count": 63
        }
      ]
    },
    {
      "cell_type": "code",
      "source": [
        "a = np.array([1,2,3,4,5,6,7])\n",
        "print(a[2])\n",
        "print(a[-1])\n",
        "print(a[5])"
      ],
      "metadata": {
        "colab": {
          "base_uri": "https://localhost:8080/"
        },
        "id": "DSs0ZpuCcNEn",
        "outputId": "5cf7f5e8-f515-457e-c0df-857772c1a73a"
      },
      "execution_count": 74,
      "outputs": [
        {
          "output_type": "stream",
          "name": "stdout",
          "text": [
            "3\n",
            "7\n",
            "6\n"
          ]
        }
      ]
    },
    {
      "cell_type": "code",
      "source": [
        "a = np.array([[1,2,3],[4,5,6]])\n",
        "print(a)\n",
        "print(a[0][0])\n",
        "print(a[1][2])\n",
        "print(a[-1][-1])"
      ],
      "metadata": {
        "colab": {
          "base_uri": "https://localhost:8080/"
        },
        "id": "RaZMEtOMdcl_",
        "outputId": "de04ce2d-1b15-4912-ddce-c977db4b0bf3"
      },
      "execution_count": 80,
      "outputs": [
        {
          "output_type": "stream",
          "name": "stdout",
          "text": [
            "[[1 2 3]\n",
            " [4 5 6]]\n",
            "1\n",
            "6\n",
            "6\n"
          ]
        }
      ]
    },
    {
      "cell_type": "code",
      "source": [
        "# 크기가 (4,)인 1차원 넘파이 배열 생성,\n",
        "# 차원 및 형태 출력\n",
        "a = np.array([1,2,3,4])\n",
        "print(a)\n",
        "print(a.shape)\n",
        "print(a.ndim)\n"
      ],
      "metadata": {
        "colab": {
          "base_uri": "https://localhost:8080/"
        },
        "id": "Mf_6uglkdeTY",
        "outputId": "66cc1bc6-7d56-41df-cd2e-304d99a5d15f"
      },
      "execution_count": 93,
      "outputs": [
        {
          "output_type": "stream",
          "name": "stdout",
          "text": [
            "[1 2 3 4]\n",
            "(4,)\n",
            "1\n"
          ]
        }
      ]
    },
    {
      "cell_type": "code",
      "source": [
        "# 크기가 (4,3)인 2차원 넘파이 배열 생성\n",
        "# 차원 및 형태 출력\n",
        "a = np.array([[1,2,3],\n",
        "              [5,6,7],\n",
        "              [9,10,11],\n",
        "              [4,6,8]])\n",
        "print(a)\n",
        "print('-'*11)\n",
        "\n",
        "print(a.shape)\n",
        "print('-'*11)\n",
        "\n",
        "print(a.ndim)\n",
        "print('-'*11)\n",
        "\n",
        "display(a)"
      ],
      "metadata": {
        "colab": {
          "base_uri": "https://localhost:8080/",
          "height": 253
        },
        "id": "V-f3Mcp8gZ3D",
        "outputId": "0b4db515-acff-455f-8a14-fa5f068c0a00"
      },
      "execution_count": 117,
      "outputs": [
        {
          "output_type": "stream",
          "name": "stdout",
          "text": [
            "[[ 1  2  3]\n",
            " [ 5  6  7]\n",
            " [ 9 10 11]\n",
            " [ 4  6  8]]\n",
            "-----------\n",
            "(4, 3)\n",
            "-----------\n",
            "2\n",
            "-----------\n"
          ]
        },
        {
          "output_type": "display_data",
          "data": {
            "text/plain": [
              "array([[ 1,  2,  3],\n",
              "       [ 5,  6,  7],\n",
              "       [ 9, 10, 11],\n",
              "       [ 4,  6,  8]])"
            ]
          },
          "metadata": {}
        }
      ]
    },
    {
      "cell_type": "code",
      "source": [
        "a = np.array([[0,1,2,3],\n",
        "              [4,5,6,7]])\n",
        "print(a)\n",
        "\n",
        "print('-'*11)\n",
        "print(a[0][:])\n",
        "\n",
        "print('-'*11)\n",
        "print(a[0][1:])\n",
        "\n",
        "print('-'*11)\n",
        "print(a[1,:2])\n",
        "\n",
        "print('-'*11)\n",
        "print(a[:,:2])"
      ],
      "metadata": {
        "colab": {
          "base_uri": "https://localhost:8080/"
        },
        "id": "jl1m53SCgotQ",
        "outputId": "041a7d76-5b8f-4b88-fa6b-7f6bc248dd1c"
      },
      "execution_count": 115,
      "outputs": [
        {
          "output_type": "stream",
          "name": "stdout",
          "text": [
            "[[0 1 2 3]\n",
            " [4 5 6 7]]\n",
            "-----------\n",
            "[0 1 2 3]\n",
            "-----------\n",
            "[1 2 3]\n",
            "-----------\n",
            "[4 5]\n",
            "-----------\n",
            "[[0 1]\n",
            " [4 5]]\n"
          ]
        }
      ]
    },
    {
      "cell_type": "code",
      "source": [
        "a = list(range(10))\n",
        "print(a)"
      ],
      "metadata": {
        "colab": {
          "base_uri": "https://localhost:8080/"
        },
        "id": "UB-KRhiFhSgy",
        "outputId": "bb75fd0b-c7f9-453a-d3b8-bd3092ae50ff"
      },
      "execution_count": 118,
      "outputs": [
        {
          "output_type": "stream",
          "name": "stdout",
          "text": [
            "[0, 1, 2, 3, 4, 5, 6, 7, 8, 9]\n"
          ]
        }
      ]
    },
    {
      "cell_type": "code",
      "source": [
        "print(np.arange(5,9))"
      ],
      "metadata": {
        "colab": {
          "base_uri": "https://localhost:8080/"
        },
        "id": "yQJMwyH7iqjE",
        "outputId": "e75b8c9b-625d-4fcf-903e-635632ebcd8e"
      },
      "execution_count": 130,
      "outputs": [
        {
          "output_type": "stream",
          "name": "stdout",
          "text": [
            "[5 6 7 8]\n"
          ]
        }
      ]
    },
    {
      "cell_type": "code",
      "source": [
        "arr1 = np.arange(5) # 0 ~ 5까지 1씩 증가\n",
        "arr2 = np.arange(-1,4.5,1.5) # -1부터 4.5까지 1.5씩 증가\n",
        "arr3 = np.arange(10,1,-1) # 10부터 1까지 -1씩 증가\n",
        "arr4 = np.linspace(0,1,11) # 0부터 1까지 등간격의 11개의 요소 생성\n",
        "\n",
        "display(arr1)\n",
        "print('-'*40)\n",
        "\n",
        "display(arr2)\n",
        "print('-'*40)\n",
        "\n",
        "display(arr3)\n",
        "print('-'*40)\n",
        "\n",
        "display(arr4)\n",
        "print('-'*40)"
      ],
      "metadata": {
        "colab": {
          "base_uri": "https://localhost:8080/",
          "height": 162
        },
        "id": "8Br9Ef3bi6zP",
        "outputId": "55a5f510-f86c-46a6-dc14-a599a88692db"
      },
      "execution_count": 137,
      "outputs": [
        {
          "output_type": "display_data",
          "data": {
            "text/plain": [
              "array([0, 1, 2, 3, 4])"
            ]
          },
          "metadata": {}
        },
        {
          "output_type": "stream",
          "name": "stdout",
          "text": [
            "----------------------------------------\n"
          ]
        },
        {
          "output_type": "display_data",
          "data": {
            "text/plain": [
              "array([-1. ,  0.5,  2. ,  3.5])"
            ]
          },
          "metadata": {}
        },
        {
          "output_type": "stream",
          "name": "stdout",
          "text": [
            "----------------------------------------\n"
          ]
        },
        {
          "output_type": "display_data",
          "data": {
            "text/plain": [
              "array([10,  9,  8,  7,  6,  5,  4,  3,  2])"
            ]
          },
          "metadata": {}
        },
        {
          "output_type": "stream",
          "name": "stdout",
          "text": [
            "----------------------------------------\n"
          ]
        },
        {
          "output_type": "display_data",
          "data": {
            "text/plain": [
              "array([0. , 0.1, 0.2, 0.3, 0.4, 0.5, 0.6, 0.7, 0.8, 0.9, 1. ])"
            ]
          },
          "metadata": {}
        },
        {
          "output_type": "stream",
          "name": "stdout",
          "text": [
            "----------------------------------------\n"
          ]
        }
      ]
    },
    {
      "cell_type": "code",
      "source": [
        "z1 = np.zeros(5) # 크기: 5\n",
        "z2 = np.zeros((3,2)) # 크기: (3,2)\n",
        "z3 = np.zeros(((3,3,3)))\n",
        "z4 = np.zeros((2,2),dtype=bool) \n",
        "print(z1)\n",
        "print(z1.ndim)\n",
        "print(z1.shape)\n",
        "print('-'*11)\n",
        "\n",
        "print(z2)\n",
        "print(z2.ndim)\n",
        "print(z2.shape)\n",
        "print('-'*11)\n",
        "\n",
        "print(z3)\n",
        "print(z3.ndim)\n",
        "print(z3.shape)\n",
        "print('-'*11)\n",
        "\n",
        "print(z4)\n",
        "print(z4.ndim)\n",
        "print(z4.shape)"
      ],
      "metadata": {
        "colab": {
          "base_uri": "https://localhost:8080/"
        },
        "id": "Kpf4HNZnj3aZ",
        "outputId": "ac446a10-246c-4019-8aaf-a90e4a18cbfa"
      },
      "execution_count": 149,
      "outputs": [
        {
          "output_type": "stream",
          "name": "stdout",
          "text": [
            "[0. 0. 0. 0. 0.]\n",
            "1\n",
            "(5,)\n",
            "-----------\n",
            "[[0. 0.]\n",
            " [0. 0.]\n",
            " [0. 0.]]\n",
            "2\n",
            "(3, 2)\n",
            "-----------\n",
            "[[[0. 0. 0.]\n",
            "  [0. 0. 0.]\n",
            "  [0. 0. 0.]]\n",
            "\n",
            " [[0. 0. 0.]\n",
            "  [0. 0. 0.]\n",
            "  [0. 0. 0.]]\n",
            "\n",
            " [[0. 0. 0.]\n",
            "  [0. 0. 0.]\n",
            "  [0. 0. 0.]]]\n",
            "3\n",
            "(3, 3, 3)\n",
            "-----------\n",
            "[[False False]\n",
            " [False False]]\n",
            "2\n",
            "(2, 2)\n"
          ]
        }
      ]
    },
    {
      "cell_type": "code",
      "source": [
        "n1 = np.ones((5,2), dtype='i')\n",
        "n1"
      ],
      "metadata": {
        "colab": {
          "base_uri": "https://localhost:8080/"
        },
        "id": "gbsW8fAFk4CR",
        "outputId": "e7da4d3a-7859-4a80-db37-b6de6e010104"
      },
      "execution_count": 157,
      "outputs": [
        {
          "output_type": "execute_result",
          "data": {
            "text/plain": [
              "array([[1, 1],\n",
              "       [1, 1],\n",
              "       [1, 1],\n",
              "       [1, 1],\n",
              "       [1, 1]], dtype=int32)"
            ]
          },
          "metadata": {},
          "execution_count": 157
        }
      ]
    },
    {
      "cell_type": "code",
      "source": [
        "a = np.zeros((2,3))\n",
        "a"
      ],
      "metadata": {
        "colab": {
          "base_uri": "https://localhost:8080/"
        },
        "id": "PmNNkI9YmCup",
        "outputId": "56c2cc04-5089-41a3-e988-3ddc59ebaf78"
      },
      "execution_count": 158,
      "outputs": [
        {
          "output_type": "execute_result",
          "data": {
            "text/plain": [
              "array([[0., 0., 0.],\n",
              "       [0., 0., 0.]])"
            ]
          },
          "metadata": {},
          "execution_count": 158
        }
      ]
    },
    {
      "cell_type": "code",
      "source": [
        "b = np.ones_like(a,dtype='f')\n",
        "b"
      ],
      "metadata": {
        "colab": {
          "base_uri": "https://localhost:8080/"
        },
        "id": "-jyVJ9ZZmrRa",
        "outputId": "b461d978-ce7c-4feb-b79f-70183c296e74"
      },
      "execution_count": 161,
      "outputs": [
        {
          "output_type": "execute_result",
          "data": {
            "text/plain": [
              "array([[1., 1., 1.],\n",
              "       [1., 1., 1.]], dtype=float32)"
            ]
          },
          "metadata": {},
          "execution_count": 161
        }
      ]
    },
    {
      "cell_type": "code",
      "source": [
        "# 다음 배열(arr1)과 같은 크기를 가지며,\n",
        "# 0과 1로만 채워진 두 개의 배열 생성\n",
        "arr1 = np.array([[1,2,3],\n",
        "                 [4,5,6]])\n",
        "a = np.zeros_like(arr1)\n",
        "b = np.ones_like(arr1)\n",
        "print(a)\n",
        "print('-'*10)\n",
        "print(b)"
      ],
      "metadata": {
        "colab": {
          "base_uri": "https://localhost:8080/"
        },
        "id": "xvfyIN4jmxdJ",
        "outputId": "906aa90d-17f7-4b71-9a84-f4029b885206"
      },
      "execution_count": 175,
      "outputs": [
        {
          "output_type": "stream",
          "name": "stdout",
          "text": [
            "[[0 0 0]\n",
            " [0 0 0]]\n",
            "----------\n",
            "[[1 1 1]\n",
            " [1 1 1]]\n"
          ]
        }
      ]
    },
    {
      "cell_type": "code",
      "source": [
        "# 5 크기의 전부 0과 전부 1로 채워진 넘파이 배열을 생성\n",
        "a = np.zeros(5)\n",
        "b = np.ones(5)\n",
        "print(a)\n",
        "print('-'*15)\n",
        "print(b)"
      ],
      "metadata": {
        "colab": {
          "base_uri": "https://localhost:8080/"
        },
        "id": "UPJgS4nsntnU",
        "outputId": "2bf77a4e-89de-4aa8-e6b2-c59be6dcef8b"
      },
      "execution_count": 174,
      "outputs": [
        {
          "output_type": "stream",
          "name": "stdout",
          "text": [
            "[0. 0. 0. 0. 0.]\n",
            "---------------\n",
            "[1. 1. 1. 1. 1.]\n"
          ]
        }
      ]
    },
    {
      "cell_type": "code",
      "source": [
        "# (3,4) 크기의 전부 0과 전부 1로 채워진 넘파이 배열 생성\n",
        "# 차원과 크기 출력\n",
        "a = np.zeros((3,4))\n",
        "b = np.ones((3,4))\n",
        "print(a.ndim)\n",
        "print(a)\n",
        "print('-'*15)\n",
        "print(b.ndim)\n",
        "print(b)"
      ],
      "metadata": {
        "colab": {
          "base_uri": "https://localhost:8080/"
        },
        "id": "3vFX3Pw6n5i3",
        "outputId": "f4a507ae-fe10-4950-80f6-a69aa4072021"
      },
      "execution_count": 169,
      "outputs": [
        {
          "output_type": "stream",
          "name": "stdout",
          "text": [
            "2\n",
            "[[0. 0. 0. 0.]\n",
            " [0. 0. 0. 0.]\n",
            " [0. 0. 0. 0.]]\n",
            "---------------\n",
            "2\n",
            "[[1. 1. 1. 1.]\n",
            " [1. 1. 1. 1.]\n",
            " [1. 1. 1. 1.]]\n"
          ]
        }
      ]
    },
    {
      "cell_type": "code",
      "source": [
        "# 다음 배열(arr2)과 같은 크기를 가지며,\n",
        "# 0과 1로만 채워진 두 개의 배열 생성\n",
        "arr2 = np.array([[[1,2],\n",
        "                  [3,4],\n",
        "                  [5,6],\n",
        "                  [7,8]]])\n",
        "a = np.zeros_like(arr2)\n",
        "b = np.ones_like(arr2)\n",
        "print(a)\n",
        "print('-'*10)\n",
        "print(b)"
      ],
      "metadata": {
        "colab": {
          "base_uri": "https://localhost:8080/"
        },
        "id": "A9JkNf1LoSZ7",
        "outputId": "0bd7f52b-9581-4dbb-9b77-d1a08a09fe50"
      },
      "execution_count": 171,
      "outputs": [
        {
          "output_type": "stream",
          "name": "stdout",
          "text": [
            "[[[0 0]\n",
            "  [0 0]\n",
            "  [0 0]\n",
            "  [0 0]]]\n",
            "----------\n",
            "[[[1 1]\n",
            "  [1 1]\n",
            "  [1 1]\n",
            "  [1 1]]]\n"
          ]
        }
      ]
    },
    {
      "cell_type": "code",
      "source": [
        "\n",
        "arr1 = np.random.random(5)\n",
        "arr2 = np.random.random((2,2))\n",
        "\n",
        "print(arr1)\n",
        "print('-'*40)\n",
        "\n",
        "print(arr2)"
      ],
      "metadata": {
        "colab": {
          "base_uri": "https://localhost:8080/"
        },
        "id": "9RG-2eWFop8C",
        "outputId": "943a8e7d-e973-4da6-a2dc-6616d65725ca"
      },
      "execution_count": 201,
      "outputs": [
        {
          "output_type": "stream",
          "name": "stdout",
          "text": [
            "[0.11005192 0.22793516 0.42710779 0.81801477 0.86073058]\n",
            "----------------------------------------\n",
            "[[0.00695213 0.5107473 ]\n",
            " [0.417411   0.22210781]]\n"
          ]
        }
      ]
    },
    {
      "cell_type": "code",
      "source": [
        "arr1 = np.random.normal(0,1,5)\n",
        "arr2 = np.random.normal(10,3,(3,3))\n",
        "\n",
        "print(arr1)\n",
        "print('-'*40)\n",
        "print(arr2)"
      ],
      "metadata": {
        "colab": {
          "base_uri": "https://localhost:8080/"
        },
        "id": "ykXk5uFLud-z",
        "outputId": "c1dfcf1d-0c39-4e77-89a6-7fb698f50ba8"
      },
      "execution_count": 202,
      "outputs": [
        {
          "output_type": "stream",
          "name": "stdout",
          "text": [
            "[-0.34271452 -0.80227727 -0.16128571  0.40405086  1.8861859 ]\n",
            "----------------------------------------\n",
            "[[10.52373344 10.77265117  9.77666225]\n",
            " [ 4.24368635  9.92045837 10.18069063]\n",
            " [17.38972634  9.42291711 10.90464203]]\n"
          ]
        }
      ]
    },
    {
      "cell_type": "code",
      "source": [
        "# 요소개수가 7\n",
        "# 평균 0 \n",
        "# 분산 1인 정규분포 난수 넘파이 배열 생성\n",
        "\n",
        "a = np.random.normal(0,1,7)\n",
        "print(a)"
      ],
      "metadata": {
        "colab": {
          "base_uri": "https://localhost:8080/"
        },
        "id": "VpA7MJbqw8Rb",
        "outputId": "4c3735b4-d1b2-4a04-b31c-f76f556c96a3"
      },
      "execution_count": 204,
      "outputs": [
        {
          "output_type": "stream",
          "name": "stdout",
          "text": [
            "[-1.40185106  0.58685709  2.19045563 -0.99053633 -0.56629773  0.09965137\n",
            " -0.50347565]\n"
          ]
        }
      ]
    },
    {
      "cell_type": "code",
      "source": [
        "# 다음 배열(arr)과 같은 크기의 평균 3\n",
        "# 분산 2인 정규분포 난수 넘파이 배열 생성\n",
        "# shape 활용\n",
        "\n",
        "arr = np.zeros((3,2))\n",
        "print(arr)\n",
        "print('-'*20)\n",
        "\n",
        "a = np.random.normal(3,2,(arr.shape))\n",
        "print(a)"
      ],
      "metadata": {
        "colab": {
          "base_uri": "https://localhost:8080/"
        },
        "id": "aIx7wSiXxQNN",
        "outputId": "cacbeafe-a6e6-479a-f485-366faf726b16"
      },
      "execution_count": 217,
      "outputs": [
        {
          "output_type": "stream",
          "name": "stdout",
          "text": [
            "[[0. 0.]\n",
            " [0. 0.]\n",
            " [0. 0.]]\n",
            "--------------------\n",
            "[[2.1069701  4.71279759]\n",
            " [3.42818749 0.50852244]\n",
            " [3.34636185 3.77063476]]\n"
          ]
        }
      ]
    },
    {
      "cell_type": "code",
      "source": [
        "a = np.arange(10)\n",
        "idx = np.array([1,0,1,0,1,0,1,0,1,0],dtype=bool)\n",
        "print(a)\n",
        "print('-'*30)\n",
        "print(idx)\n",
        "print('-'*30)\n",
        "a[idx]"
      ],
      "metadata": {
        "colab": {
          "base_uri": "https://localhost:8080/"
        },
        "id": "yFx61zyPxdjx",
        "outputId": "75396025-fee1-4a5b-ec13-adce061d5e04"
      },
      "execution_count": 228,
      "outputs": [
        {
          "output_type": "stream",
          "name": "stdout",
          "text": [
            "[0 1 2 3 4 5 6 7 8 9]\n",
            "------------------------------\n",
            "[ True False  True False  True False  True False  True False]\n",
            "------------------------------\n"
          ]
        },
        {
          "output_type": "execute_result",
          "data": {
            "text/plain": [
              "array([0, 2, 4, 6, 8])"
            ]
          },
          "metadata": {},
          "execution_count": 228
        }
      ]
    },
    {
      "cell_type": "code",
      "source": [
        "a % 2"
      ],
      "metadata": {
        "colab": {
          "base_uri": "https://localhost:8080/"
        },
        "id": "d-AnSRJa09cu",
        "outputId": "d3fd333f-975b-44c9-8766-4bb6d18fc339"
      },
      "execution_count": 225,
      "outputs": [
        {
          "output_type": "execute_result",
          "data": {
            "text/plain": [
              "array([0, 1, 0, 1, 0, 1, 0, 1, 0, 1])"
            ]
          },
          "metadata": {},
          "execution_count": 225
        }
      ]
    },
    {
      "cell_type": "code",
      "source": [
        "a % 2 ==0"
      ],
      "metadata": {
        "colab": {
          "base_uri": "https://localhost:8080/"
        },
        "id": "_oWn8qjb1FxM",
        "outputId": "d22900d4-cccc-4fe8-ce40-4dad1d2597e0"
      },
      "execution_count": 226,
      "outputs": [
        {
          "output_type": "execute_result",
          "data": {
            "text/plain": [
              "array([ True, False,  True, False,  True, False,  True, False,  True,\n",
              "       False])"
            ]
          },
          "metadata": {},
          "execution_count": 226
        }
      ]
    },
    {
      "cell_type": "code",
      "source": [
        "a[a%2==0]"
      ],
      "metadata": {
        "colab": {
          "base_uri": "https://localhost:8080/"
        },
        "id": "loWu9wnW1J_7",
        "outputId": "36bda1a4-e8b9-40b1-f1de-ed19664e8d5f"
      },
      "execution_count": 227,
      "outputs": [
        {
          "output_type": "execute_result",
          "data": {
            "text/plain": [
              "array([0, 2, 4, 6, 8])"
            ]
          },
          "metadata": {},
          "execution_count": 227
        }
      ]
    },
    {
      "cell_type": "code",
      "source": [
        "# 다음 배열이 주어졌을 때,\n",
        "# 크기 (3,8)인 2차원 배열 생성\n",
        "arr = np.arange(24)\n",
        "a = arr.reshape(3,8)\n",
        "print(a)"
      ],
      "metadata": {
        "colab": {
          "base_uri": "https://localhost:8080/"
        },
        "id": "meCPFLV_1OUA",
        "outputId": "270de726-c2f9-4018-b6de-5c159e89e890"
      },
      "execution_count": 247,
      "outputs": [
        {
          "output_type": "stream",
          "name": "stdout",
          "text": [
            "[[ 0  1  2  3  4  5  6  7]\n",
            " [ 8  9 10 11 12 13 14 15]\n",
            " [16 17 18 19 20 21 22 23]]\n"
          ]
        }
      ]
    },
    {
      "cell_type": "code",
      "source": [
        "# 위 배열을 (6,4)로 만들되,\n",
        "# reshape() 메서드에서\n",
        "# -1을 첫 번째로 인자로 활용\n",
        "a = arr.reshape(-1,4)\n",
        "a"
      ],
      "metadata": {
        "colab": {
          "base_uri": "https://localhost:8080/"
        },
        "id": "MhO4mkjqCZAq",
        "outputId": "8ac534ee-f6af-491a-e1e0-ecab304d3354"
      },
      "execution_count": 248,
      "outputs": [
        {
          "output_type": "execute_result",
          "data": {
            "text/plain": [
              "array([[ 0,  1,  2,  3],\n",
              "       [ 4,  5,  6,  7],\n",
              "       [ 8,  9, 10, 11],\n",
              "       [12, 13, 14, 15],\n",
              "       [16, 17, 18, 19],\n",
              "       [20, 21, 22, 23]])"
            ]
          },
          "metadata": {},
          "execution_count": 248
        }
      ]
    },
    {
      "cell_type": "code",
      "source": [
        "# 난수 시드 설정\n",
        "a = np.random.seed(42)\n",
        "np.random.rand(10)"
      ],
      "metadata": {
        "colab": {
          "base_uri": "https://localhost:8080/"
        },
        "id": "c2vIIxuCCAWu",
        "outputId": "1f4200c9-31f2-4a60-f063-558393d97c83"
      },
      "execution_count": 4,
      "outputs": [
        {
          "output_type": "execute_result",
          "data": {
            "text/plain": [
              "array([0.37454012, 0.95071431, 0.73199394, 0.59865848, 0.15601864,\n",
              "       0.15599452, 0.05808361, 0.86617615, 0.60111501, 0.70807258])"
            ]
          },
          "metadata": {},
          "execution_count": 4
        }
      ]
    },
    {
      "cell_type": "code",
      "source": [
        "np.random.rand(5)"
      ],
      "metadata": {
        "colab": {
          "base_uri": "https://localhost:8080/"
        },
        "id": "w4G84vx-F1dC",
        "outputId": "ef84515f-7ed7-4717-daba-2a5997355a49"
      },
      "execution_count": 9,
      "outputs": [
        {
          "output_type": "execute_result",
          "data": {
            "text/plain": [
              "array([0.0871293 , 0.0202184 , 0.83261985, 0.77815675, 0.87001215])"
            ]
          },
          "metadata": {},
          "execution_count": 9
        }
      ]
    },
    {
      "cell_type": "code",
      "source": [
        "np.random.seed(0)\n",
        "np.random.rand(5)"
      ],
      "metadata": {
        "colab": {
          "base_uri": "https://localhost:8080/"
        },
        "id": "LLe9HMX0HIFa",
        "outputId": "e6d9f753-8953-429c-924d-bbfee4fbe1bd"
      },
      "execution_count": 6,
      "outputs": [
        {
          "output_type": "execute_result",
          "data": {
            "text/plain": [
              "array([0.5488135 , 0.71518937, 0.60276338, 0.54488318, 0.4236548 ])"
            ]
          },
          "metadata": {},
          "execution_count": 6
        }
      ]
    },
    {
      "cell_type": "code",
      "source": [
        "np.random.seed(42)\n",
        "np.random.rand(5)"
      ],
      "metadata": {
        "colab": {
          "base_uri": "https://localhost:8080/"
        },
        "id": "Ghu7TYf6HOVb",
        "outputId": "0dea410a-5f83-4355-c804-4852c644bdd9"
      },
      "execution_count": 11,
      "outputs": [
        {
          "output_type": "execute_result",
          "data": {
            "text/plain": [
              "array([0.37454012, 0.95071431, 0.73199394, 0.59865848, 0.15601864])"
            ]
          },
          "metadata": {},
          "execution_count": 11
        }
      ]
    },
    {
      "cell_type": "code",
      "source": [
        "np.random.seed(42)\n",
        "np.random.rand(5)"
      ],
      "metadata": {
        "colab": {
          "base_uri": "https://localhost:8080/"
        },
        "id": "Ej90TjJpHcwN",
        "outputId": "25cdc7d8-14a9-423d-a142-6b1676e5a0bc"
      },
      "execution_count": 13,
      "outputs": [
        {
          "output_type": "execute_result",
          "data": {
            "text/plain": [
              "array([0.37454012, 0.95071431, 0.73199394, 0.59865848, 0.15601864])"
            ]
          },
          "metadata": {},
          "execution_count": 13
        }
      ]
    },
    {
      "cell_type": "code",
      "source": [
        "# np.random.shuffle()\n",
        "x = np.arange(10)\n",
        "np.random.shuffle(x)\n",
        "x"
      ],
      "metadata": {
        "colab": {
          "base_uri": "https://localhost:8080/"
        },
        "id": "dJ4cNuldHhu1",
        "outputId": "eebb13d3-b1da-4947-ac87-8d56ff7884c5"
      },
      "execution_count": 23,
      "outputs": [
        {
          "output_type": "execute_result",
          "data": {
            "text/plain": [
              "array([0, 5, 2, 6, 3, 7, 4, 1, 8, 9])"
            ]
          },
          "metadata": {},
          "execution_count": 23
        }
      ]
    },
    {
      "cell_type": "code",
      "source": [
        "np.random.choice(x,size=4,replace=True)"
      ],
      "metadata": {
        "colab": {
          "base_uri": "https://localhost:8080/"
        },
        "id": "4dkfoENcIocp",
        "outputId": "85b7f557-67aa-424e-a591-1a73363f6231"
      },
      "execution_count": 36,
      "outputs": [
        {
          "output_type": "execute_result",
          "data": {
            "text/plain": [
              "array([2, 1, 7, 2])"
            ]
          },
          "metadata": {},
          "execution_count": 36
        }
      ]
    },
    {
      "cell_type": "code",
      "source": [
        "# '오늘 뭐 먹지?' 라는 모바일 앱을 만들 때\n",
        "menu = ['라면','스파게티','된장찌게','파전']\n",
        "menu_arr = np.array(menu)\n",
        "\n",
        "for i in range(20):\n",
        "  today_recommended_menu = np.random.choice(menu_arr,size=1,replace =True, p=[0.1, 0.1, 0.1, 0.7])\n",
        "  print(today_recommended_menu)\n"
      ],
      "metadata": {
        "colab": {
          "base_uri": "https://localhost:8080/"
        },
        "id": "A1bhBxGrJQyt",
        "outputId": "193a25e9-d554-4da5-9192-7abc7b80f398"
      },
      "execution_count": 103,
      "outputs": [
        {
          "output_type": "stream",
          "name": "stdout",
          "text": [
            "['파전']\n",
            "['된장찌게']\n",
            "['파전']\n",
            "['파전']\n",
            "['파전']\n",
            "['라면']\n",
            "['파전']\n",
            "['파전']\n",
            "['파전']\n",
            "['파전']\n",
            "['파전']\n",
            "['파전']\n",
            "['파전']\n",
            "['파전']\n",
            "['라면']\n",
            "['파전']\n",
            "['파전']\n",
            "['된장찌게']\n",
            "['스파게티']\n",
            "['파전']\n"
          ]
        }
      ]
    },
    {
      "cell_type": "code",
      "source": [
        "# randn: 표준 정규 분포 (평균 0, 분산 1)\n",
        "# randint: 균일 분포의 정수 난수\n",
        "# 로또 번호 생성기 (1~45) 숫자 7개의 임의 숫자 추출\n",
        "np.random.randint(45,size=7)"
      ],
      "metadata": {
        "colab": {
          "base_uri": "https://localhost:8080/"
        },
        "id": "Fdbszf4kJ0dT",
        "outputId": "549c5b32-ce8a-4d47-9678-3e684390277c"
      },
      "execution_count": 96,
      "outputs": [
        {
          "output_type": "execute_result",
          "data": {
            "text/plain": [
              "array([21, 36, 23,  6, 24, 24, 12])"
            ]
          },
          "metadata": {},
          "execution_count": 96
        }
      ]
    },
    {
      "cell_type": "code",
      "source": [
        "np.random.seed(0)\n",
        "np.random.randint(45,size=7)"
      ],
      "metadata": {
        "colab": {
          "base_uri": "https://localhost:8080/"
        },
        "id": "ITtS89mNL8cf",
        "outputId": "bbc5d7ca-c65d-4f6e-b368-f2925cd169cf"
      },
      "execution_count": 95,
      "outputs": [
        {
          "output_type": "execute_result",
          "data": {
            "text/plain": [
              "array([44,  0,  3,  3, 39,  9, 19])"
            ]
          },
          "metadata": {},
          "execution_count": 95
        }
      ]
    },
    {
      "cell_type": "code",
      "source": [
        "arr1 = np.array([1,2,3,4,5,6])\n",
        "arr2 = np.array([[1,2,3],[4,5,6]])\n",
        "\n",
        "print(arr1.reshape(3,2))\n",
        "print('-'*10)\n",
        "print(arr2.reshape(-1,2))\n",
        "print('-'*10)\n",
        "print(arr1.reshape(-1,1))"
      ],
      "metadata": {
        "colab": {
          "base_uri": "https://localhost:8080/"
        },
        "id": "IOiRlWOFMIbh",
        "outputId": "a40c1ffa-cf49-40ac-f513-9729a31f303e"
      },
      "execution_count": 100,
      "outputs": [
        {
          "output_type": "stream",
          "name": "stdout",
          "text": [
            "[[1 2]\n",
            " [3 4]\n",
            " [5 6]]\n",
            "----------\n",
            "[[1 2]\n",
            " [3 4]\n",
            " [5 6]]\n",
            "----------\n",
            "[[1]\n",
            " [2]\n",
            " [3]\n",
            " [4]\n",
            " [5]\n",
            " [6]]\n"
          ]
        }
      ]
    },
    {
      "cell_type": "code",
      "source": [
        "arr1 = np.zeros((4,3))\n",
        "print(arr1)\n",
        "print('-'*20)\n",
        "\n",
        "arr2 = arr1.reshape(2,6)\n",
        "print(arr2)\n",
        "print('-'*20)\n",
        "\n",
        "arr3 = arr1.reshape(2,3,2)\n",
        "print(arr3)"
      ],
      "metadata": {
        "colab": {
          "base_uri": "https://localhost:8080/"
        },
        "id": "ZXNBuoCdNCst",
        "outputId": "49ca9262-ad91-492a-f256-1fc78bad42d1"
      },
      "execution_count": 109,
      "outputs": [
        {
          "output_type": "stream",
          "name": "stdout",
          "text": [
            "[[0. 0. 0.]\n",
            " [0. 0. 0.]\n",
            " [0. 0. 0.]\n",
            " [0. 0. 0.]]\n",
            "--------------------\n",
            "[[0. 0. 0. 0. 0. 0.]\n",
            " [0. 0. 0. 0. 0. 0.]]\n",
            "--------------------\n",
            "[[[0. 0.]\n",
            "  [0. 0.]\n",
            "  [0. 0.]]\n",
            "\n",
            " [[0. 0.]\n",
            "  [0. 0.]\n",
            "  [0. 0.]]]\n"
          ]
        }
      ]
    },
    {
      "cell_type": "code",
      "source": [
        "a = np.arange(12)\n",
        "print(a)\n",
        "print('-'*20)\n",
        "\n",
        "b = a.reshape(3,4)\n",
        "print(b)\n",
        "print('-'*20)\n"
      ],
      "metadata": {
        "colab": {
          "base_uri": "https://localhost:8080/"
        },
        "id": "QVU4iSQxNOe_",
        "outputId": "f61576f8-b405-436b-a2cd-e8fbb20c7b88"
      },
      "execution_count": 110,
      "outputs": [
        {
          "output_type": "stream",
          "name": "stdout",
          "text": [
            "[ 0  1  2  3  4  5  6  7  8  9 10 11]\n",
            "--------------------\n",
            "[[ 0  1  2  3]\n",
            " [ 4  5  6  7]\n",
            " [ 8  9 10 11]]\n",
            "--------------------\n"
          ]
        }
      ]
    },
    {
      "cell_type": "code",
      "source": [
        "# 다음 배열이 주어졌을 때\n",
        "# 이 배열과 구성 요소가 같고 크기만 (3,8)로 2차원 배열 생성\n",
        "arr = np.arange(24)\n",
        "print(arr)\n",
        "print('-'*40)\n",
        "a= arr.reshape(3,8)\n",
        "print(a)"
      ],
      "metadata": {
        "colab": {
          "base_uri": "https://localhost:8080/"
        },
        "id": "UPZELlHTQTez",
        "outputId": "24daef7e-5fd9-45ff-d894-ebec9c52ea24"
      },
      "execution_count": 117,
      "outputs": [
        {
          "output_type": "stream",
          "name": "stdout",
          "text": [
            "[ 0  1  2  3  4  5  6  7  8  9 10 11 12 13 14 15 16 17 18 19 20 21 22 23]\n",
            "----------------------------------------\n",
            "[[ 0  1  2  3  4  5  6  7]\n",
            " [ 8  9 10 11 12 13 14 15]\n",
            " [16 17 18 19 20 21 22 23]]\n"
          ]
        }
      ]
    },
    {
      "cell_type": "code",
      "source": [
        "# 위 배열을 (6,4)로 만들되,\n",
        "# reshape() 메서드에서 -1을 첫 번째 인자로 활용\n",
        "a = arr.reshape(-1,4)\n",
        "print(a)"
      ],
      "metadata": {
        "colab": {
          "base_uri": "https://localhost:8080/"
        },
        "id": "wnOJahRlQd7f",
        "outputId": "f7d71207-565e-42ba-c54c-206b74d23509"
      },
      "execution_count": 118,
      "outputs": [
        {
          "output_type": "stream",
          "name": "stdout",
          "text": [
            "[[ 0  1  2  3]\n",
            " [ 4  5  6  7]\n",
            " [ 8  9 10 11]\n",
            " [12 13 14 15]\n",
            " [16 17 18 19]\n",
            " [20 21 22 23]]\n"
          ]
        }
      ]
    },
    {
      "cell_type": "code",
      "source": [
        "# 위 배열을 (3,4,2)크기로\n",
        "# 두번째 인자를 -1로 활용\n",
        "# 원하는 형태로 잘 변하는지 shape속성 활용\n",
        "a = arr.reshape(3,-1,2)\n",
        "print(a)\n",
        "print('-'*15)\n",
        "print(a.shape)"
      ],
      "metadata": {
        "colab": {
          "base_uri": "https://localhost:8080/"
        },
        "id": "ZQnTNKDKQ4G2",
        "outputId": "3045ec57-74cf-4ae8-b853-6a1c69661cf9"
      },
      "execution_count": 129,
      "outputs": [
        {
          "output_type": "stream",
          "name": "stdout",
          "text": [
            "[[[ 0  1]\n",
            "  [ 2  3]\n",
            "  [ 4  5]\n",
            "  [ 6  7]]\n",
            "\n",
            " [[ 8  9]\n",
            "  [10 11]\n",
            "  [12 13]\n",
            "  [14 15]]\n",
            "\n",
            " [[16 17]\n",
            "  [18 19]\n",
            "  [20 21]\n",
            "  [22 23]]]\n",
            "---------------\n",
            "(3, 4, 2)\n"
          ]
        }
      ]
    },
    {
      "cell_type": "code",
      "source": [
        "np.random.seed(0)\n",
        "a = np.random.randint(30,size=10)\n",
        "b=a.reshape(5,2)\n",
        "print(b)\n",
        "print('-'*15)\n",
        "c = np.random.randint(30,size=10)\n",
        "d=c.reshape(5,2)\n",
        "print(d)\n",
        "print('-'*15)\n",
        "e=b+d\n",
        "print(e)"
      ],
      "metadata": {
        "colab": {
          "base_uri": "https://localhost:8080/"
        },
        "id": "srB9UNJqQ_Mz",
        "outputId": "08ce2ec0-1c00-43b1-d5b3-2430c8a331e7"
      },
      "execution_count": 147,
      "outputs": [
        {
          "output_type": "stream",
          "name": "stdout",
          "text": [
            "[[12 15]\n",
            " [21  0]\n",
            " [ 3 27]\n",
            " [ 3  7]\n",
            " [ 9 19]]\n",
            "---------------\n",
            "[[21 18]\n",
            " [ 4 23]\n",
            " [ 6 24]\n",
            " [24 12]\n",
            " [26  1]]\n",
            "---------------\n",
            "[[33 33]\n",
            " [25 23]\n",
            " [ 9 51]\n",
            " [27 19]\n",
            " [35 20]]\n"
          ]
        }
      ]
    },
    {
      "cell_type": "code",
      "source": [
        "import numpy as np\n",
        "\n",
        "a = np.array([1,2,3])\n",
        "b = np.array([4,5,6])\n",
        "a+b\n"
      ],
      "metadata": {
        "colab": {
          "base_uri": "https://localhost:8080/"
        },
        "id": "LWZa88b1Yrdu",
        "outputId": "90b4e6ff-a96e-4408-9795-674227432d8c"
      },
      "execution_count": 149,
      "outputs": [
        {
          "output_type": "execute_result",
          "data": {
            "text/plain": [
              "array([5, 7, 9])"
            ]
          },
          "metadata": {},
          "execution_count": 149
        }
      ]
    },
    {
      "cell_type": "code",
      "source": [
        "x1 = np.random.rand(10**6) # 100만개 난수로 구성된 배열 생성\n",
        "x2 = np.random.rand(10**6)\n"
      ],
      "metadata": {
        "id": "4pGAJx4wY-TO"
      },
      "execution_count": 157,
      "outputs": []
    },
    {
      "cell_type": "code",
      "source": [
        "%%timeit\n",
        "s = x1 + x2 # ms = 1/1000 second\n"
      ],
      "metadata": {
        "colab": {
          "base_uri": "https://localhost:8080/"
        },
        "id": "fwiNgcNnZKp9",
        "outputId": "e0ebfcb1-0807-4f0a-c375-e86d9b0bd549"
      },
      "execution_count": 158,
      "outputs": [
        {
          "output_type": "stream",
          "name": "stdout",
          "text": [
            "1.9 ms ± 54.5 µs per loop (mean ± std. dev. of 7 runs, 100 loops each)\n"
          ]
        }
      ]
    },
    {
      "cell_type": "code",
      "source": [
        "%%timeit\n",
        "s = []\n",
        "\n",
        "for e1, e2 in zip(x1,x2):\n",
        "  s.append(e1+ e2)"
      ],
      "metadata": {
        "colab": {
          "base_uri": "https://localhost:8080/"
        },
        "id": "OjRaGsvJZPOO",
        "outputId": "740c8cac-1042-4512-982a-19c465ad40a1"
      },
      "execution_count": 159,
      "outputs": [
        {
          "output_type": "stream",
          "name": "stdout",
          "text": [
            "372 ms ± 122 ms per loop (mean ± std. dev. of 7 runs, 1 loop each)\n"
          ]
        }
      ]
    },
    {
      "cell_type": "code",
      "source": [
        "x = np.arange(4)\n",
        "y = np.linspace(1,10,4)\n",
        "print('x     =',x)\n",
        "print('y     =',y)\n",
        "print('x + 5 =',x + 5)\n",
        "print('x + y =',x + y)\n",
        "print('x - 5 =',x - 5)\n",
        "print('x - y =',x - y)\n",
        "print('x * 2 =',x * 2)\n",
        "print('x * y =',x * y)\n",
        "print('x / 2 =',x / 2)\n",
        "print('-x    =',-x)\n",
        "print('x ** 2 =',x ** 2)\n",
        "print('x % 2 =',x % 2)"
      ],
      "metadata": {
        "colab": {
          "base_uri": "https://localhost:8080/"
        },
        "id": "xfdDWK5eZzNQ",
        "outputId": "b2eeb514-3f5e-4c32-cf5f-7415aa9573e9"
      },
      "execution_count": 171,
      "outputs": [
        {
          "output_type": "stream",
          "name": "stdout",
          "text": [
            "x     = [0 1 2 3]\n",
            "y     = [ 1.  4.  7. 10.]\n",
            "x + 5 = [5 6 7 8]\n",
            "x + y = [ 1.  5.  9. 13.]\n",
            "x - 5 = [-5 -4 -3 -2]\n",
            "x - y = [-1. -3. -5. -7.]\n",
            "x * 2 = [0 2 4 6]\n",
            "x * y = [ 0.  4. 14. 30.]\n",
            "x / 2 = [0.  0.5 1.  1.5]\n",
            "-x    = [ 0 -1 -2 -3]\n",
            "x ** 2 = [0 1 4 9]\n",
            "x % 2 = [0 1 0 1]\n"
          ]
        }
      ]
    },
    {
      "cell_type": "code",
      "source": [
        "# 연습문제\n",
        "# 1~100까지 1씩 증가하는 원소(요소)로\n",
        "# 구성된 넘파이 배열\n",
        "# 각각의 요소에 3제곱한 새로운 배열 생성\n",
        "a = np.arange(1,101,1)\n",
        "print(a)\n",
        "print('-'*50)\n",
        "b = a**3\n",
        "print(b)"
      ],
      "metadata": {
        "colab": {
          "base_uri": "https://localhost:8080/"
        },
        "id": "i8dshfmEbCHw",
        "outputId": "600b085d-74c6-4259-8df1-c3117f9dfa9c"
      },
      "execution_count": 183,
      "outputs": [
        {
          "output_type": "stream",
          "name": "stdout",
          "text": [
            "[  1   2   3   4   5   6   7   8   9  10  11  12  13  14  15  16  17  18\n",
            "  19  20  21  22  23  24  25  26  27  28  29  30  31  32  33  34  35  36\n",
            "  37  38  39  40  41  42  43  44  45  46  47  48  49  50  51  52  53  54\n",
            "  55  56  57  58  59  60  61  62  63  64  65  66  67  68  69  70  71  72\n",
            "  73  74  75  76  77  78  79  80  81  82  83  84  85  86  87  88  89  90\n",
            "  91  92  93  94  95  96  97  98  99 100]\n",
            "--------------------------------------------------\n",
            "[      1       8      27      64     125     216     343     512     729\n",
            "    1000    1331    1728    2197    2744    3375    4096    4913    5832\n",
            "    6859    8000    9261   10648   12167   13824   15625   17576   19683\n",
            "   21952   24389   27000   29791   32768   35937   39304   42875   46656\n",
            "   50653   54872   59319   64000   68921   74088   79507   85184   91125\n",
            "   97336  103823  110592  117649  125000  132651  140608  148877  157464\n",
            "  166375  175616  185193  195112  205379  216000  226981  238328  250047\n",
            "  262144  274625  287496  300763  314432  328509  343000  357911  373248\n",
            "  389017  405224  421875  438976  456533  474552  493039  512000  531441\n",
            "  551368  571787  592704  614125  636056  658503  681472  704969  729000\n",
            "  753571  778688  804357  830584  857375  884736  912673  941192  970299\n",
            " 1000000]\n"
          ]
        }
      ]
    },
    {
      "cell_type": "code",
      "source": [
        "# 각각의 요소를 제곱근을 취한 새로운 배열을 생성\n",
        "c=np.sqrt(a)\n",
        "print(c)"
      ],
      "metadata": {
        "colab": {
          "base_uri": "https://localhost:8080/"
        },
        "id": "3PBmPUPZcJX5",
        "outputId": "379b6290-1a20-404a-b274-4efcf9bd97a8"
      },
      "execution_count": 180,
      "outputs": [
        {
          "output_type": "stream",
          "name": "stdout",
          "text": [
            "[ 1.          1.41421356  1.73205081  2.          2.23606798  2.44948974\n",
            "  2.64575131  2.82842712  3.          3.16227766  3.31662479  3.46410162\n",
            "  3.60555128  3.74165739  3.87298335  4.          4.12310563  4.24264069\n",
            "  4.35889894  4.47213595  4.58257569  4.69041576  4.79583152  4.89897949\n",
            "  5.          5.09901951  5.19615242  5.29150262  5.38516481  5.47722558\n",
            "  5.56776436  5.65685425  5.74456265  5.83095189  5.91607978  6.\n",
            "  6.08276253  6.164414    6.244998    6.32455532  6.40312424  6.4807407\n",
            "  6.55743852  6.63324958  6.70820393  6.78232998  6.8556546   6.92820323\n",
            "  7.          7.07106781  7.14142843  7.21110255  7.28010989  7.34846923\n",
            "  7.41619849  7.48331477  7.54983444  7.61577311  7.68114575  7.74596669\n",
            "  7.81024968  7.87400787  7.93725393  8.          8.06225775  8.1240384\n",
            "  8.18535277  8.24621125  8.30662386  8.36660027  8.42614977  8.48528137\n",
            "  8.54400375  8.60232527  8.66025404  8.71779789  8.77496439  8.83176087\n",
            "  8.88819442  8.94427191  9.          9.05538514  9.11043358  9.16515139\n",
            "  9.21954446  9.2736185   9.32737905  9.38083152  9.43398113  9.48683298\n",
            "  9.53939201  9.59166305  9.64365076  9.69535971  9.74679434  9.79795897\n",
            "  9.8488578   9.89949494  9.94987437 10.        ]\n"
          ]
        }
      ]
    },
    {
      "cell_type": "code",
      "source": [
        "# 각각의 요소에 10을 더한 새로운 배열 생성\n",
        "d = a+10\n",
        "print(d)"
      ],
      "metadata": {
        "colab": {
          "base_uri": "https://localhost:8080/"
        },
        "id": "vYrL3fmucY-4",
        "outputId": "604b0817-10e9-47cf-fa9e-dad05df2ba88"
      },
      "execution_count": 181,
      "outputs": [
        {
          "output_type": "stream",
          "name": "stdout",
          "text": [
            "[ 11  12  13  14  15  16  17  18  19  20  21  22  23  24  25  26  27  28\n",
            "  29  30  31  32  33  34  35  36  37  38  39  40  41  42  43  44  45  46\n",
            "  47  48  49  50  51  52  53  54  55  56  57  58  59  60  61  62  63  64\n",
            "  65  66  67  68  69  70  71  72  73  74  75  76  77  78  79  80  81  82\n",
            "  83  84  85  86  87  88  89  90  91  92  93  94  95  96  97  98  99 100\n",
            " 101 102 103 104 105 106 107 108 109 110]\n"
          ]
        }
      ]
    },
    {
      "cell_type": "code",
      "source": [
        "# 절대값\n",
        "x = np.array([-2,-1,0,1,2])\n",
        "print('abs(x)', np.abs(x))"
      ],
      "metadata": {
        "colab": {
          "base_uri": "https://localhost:8080/"
        },
        "id": "vuOeVprVclGb",
        "outputId": "e447229c-df39-40ab-f4c9-579b304a644b"
      },
      "execution_count": 191,
      "outputs": [
        {
          "output_type": "stream",
          "name": "stdout",
          "text": [
            "abs(x) [2 1 0 1 2]\n"
          ]
        }
      ]
    },
    {
      "cell_type": "code",
      "source": [
        "# 연습\n",
        "# 각각의 원소에 3을 곱하고 1을 뺀 함수를 구현하여 적용\n",
        "arr = np.arange(10)\n",
        "\n",
        "def aa(a):\n",
        "  return a*3-1\n",
        "\n",
        "aa(arr)"
      ],
      "metadata": {
        "colab": {
          "base_uri": "https://localhost:8080/"
        },
        "id": "dWuiXhPNgeFC",
        "outputId": "d3c71ca1-bd6d-42d2-e269-5e4d3f83b967"
      },
      "execution_count": 201,
      "outputs": [
        {
          "output_type": "execute_result",
          "data": {
            "text/plain": [
              "array([-1,  2,  5,  8, 11, 14, 17, 20, 23, 26])"
            ]
          },
          "metadata": {},
          "execution_count": 201
        }
      ]
    },
    {
      "cell_type": "code",
      "source": [
        "x = np.array([1,2,3])\n",
        "y = np.array([1,3,-2])\n",
        "print('x == y:',x == y)\n",
        "print('x > y:', x > y)\n",
        "print('x >= 1:',x >= 1)\n",
        "print('x >= 2:',x >= 2)"
      ],
      "metadata": {
        "colab": {
          "base_uri": "https://localhost:8080/"
        },
        "id": "5NlxTTa_jbRE",
        "outputId": "41765a1f-1389-47a3-abb4-2606995e8d7c"
      },
      "execution_count": 206,
      "outputs": [
        {
          "output_type": "stream",
          "name": "stdout",
          "text": [
            "x == y: [ True False False]\n",
            "x > y: [False False  True]\n",
            "x >= 1: [ True  True  True]\n",
            "x >= 2: [False  True  True]\n"
          ]
        }
      ]
    },
    {
      "cell_type": "code",
      "source": [
        "print(sum(x>=2))"
      ],
      "metadata": {
        "colab": {
          "base_uri": "https://localhost:8080/"
        },
        "id": "PZE6Z1MOjv1d",
        "outputId": "18efb4ef-434c-4439-e9da-f7f091125895"
      },
      "execution_count": 205,
      "outputs": [
        {
          "output_type": "stream",
          "name": "stdout",
          "text": [
            "2\n"
          ]
        }
      ]
    },
    {
      "cell_type": "code",
      "source": [
        "# 다음 배열에서 짝수인 요소의 개수를 출력\n",
        "arr = np.arange(45)\n",
        "print(sum(arr % 2 == 0))"
      ],
      "metadata": {
        "colab": {
          "base_uri": "https://localhost:8080/"
        },
        "id": "PzdjfAVPkP-2",
        "outputId": "26dc13b6-6dc7-453b-8df9-1a564a880c47"
      },
      "execution_count": 218,
      "outputs": [
        {
          "output_type": "stream",
          "name": "stdout",
          "text": [
            "23\n"
          ]
        }
      ]
    },
    {
      "cell_type": "code",
      "source": [
        "arr = np.arange(45)\n",
        "cond = arr % 2 == 0\n",
        "print(sum(cond))"
      ],
      "metadata": {
        "colab": {
          "base_uri": "https://localhost:8080/"
        },
        "id": "OXugI1sHlIRz",
        "outputId": "bd83b72b-1d17-4272-9e54-9dbe19492afc"
      },
      "execution_count": 219,
      "outputs": [
        {
          "output_type": "stream",
          "name": "stdout",
          "text": [
            "23\n"
          ]
        }
      ]
    },
    {
      "cell_type": "code",
      "source": [
        "arr + 1"
      ],
      "metadata": {
        "colab": {
          "base_uri": "https://localhost:8080/"
        },
        "id": "A-7tlCC9mSZP",
        "outputId": "3d202ddc-a5ce-4438-bf17-01154f6005fa"
      },
      "execution_count": 220,
      "outputs": [
        {
          "output_type": "execute_result",
          "data": {
            "text/plain": [
              "array([ 1,  2,  3,  4,  5,  6,  7,  8,  9, 10, 11, 12, 13, 14, 15, 16, 17,\n",
              "       18, 19, 20, 21, 22, 23, 24, 25, 26, 27, 28, 29, 30, 31, 32, 33, 34,\n",
              "       35, 36, 37, 38, 39, 40, 41, 42, 43, 44, 45])"
            ]
          },
          "metadata": {},
          "execution_count": 220
        }
      ]
    },
    {
      "cell_type": "code",
      "source": [
        "x = np.arange(4)\n",
        "print(x +4)"
      ],
      "metadata": {
        "colab": {
          "base_uri": "https://localhost:8080/"
        },
        "id": "s6HfRcPnmd-w",
        "outputId": "aa459245-7612-4ffc-8744-d38917b5baa2"
      },
      "execution_count": 221,
      "outputs": [
        {
          "output_type": "stream",
          "name": "stdout",
          "text": [
            "[4 5 6 7]\n"
          ]
        }
      ]
    },
    {
      "cell_type": "code",
      "source": [
        "a = np.array([[1,2],[3,4]]) # (2,2) 2차원 배열, 행렬\n",
        "b = np.array([-1,-2]) # (1, ) 1차원 배열, 벡터\n",
        "print(a,)\n",
        "print('-'*10)\n",
        "print(b)\n",
        "print('-'*10)\n",
        "print(a+b)"
      ],
      "metadata": {
        "colab": {
          "base_uri": "https://localhost:8080/"
        },
        "id": "BP54bXuVnMvS",
        "outputId": "862b94be-1fde-4470-b3e1-051c4d231997"
      },
      "execution_count": 225,
      "outputs": [
        {
          "output_type": "stream",
          "name": "stdout",
          "text": [
            "[[1 2]\n",
            " [3 4]]\n",
            "----------\n",
            "[-1 -2]\n",
            "----------\n",
            "[[0 0]\n",
            " [2 2]]\n"
          ]
        }
      ]
    },
    {
      "cell_type": "code",
      "source": [
        "import numpy as np\n",
        "x = np.arange(15).reshape(5,3)\n",
        "display(x)\n",
        "print('-'*25)\n",
        "print(x)"
      ],
      "metadata": {
        "colab": {
          "base_uri": "https://localhost:8080/",
          "height": 217
        },
        "id": "UZHgHzwboeKA",
        "outputId": "8c572031-22a7-46e5-e2f7-a03a8985eda7"
      },
      "execution_count": 241,
      "outputs": [
        {
          "output_type": "display_data",
          "data": {
            "text/plain": [
              "array([[ 0,  1,  2],\n",
              "       [ 3,  4,  5],\n",
              "       [ 6,  7,  8],\n",
              "       [ 9, 10, 11],\n",
              "       [12, 13, 14]])"
            ]
          },
          "metadata": {}
        },
        {
          "output_type": "stream",
          "name": "stdout",
          "text": [
            "-------------------------\n",
            "[[ 0  1  2]\n",
            " [ 3  4  5]\n",
            " [ 6  7  8]\n",
            " [ 9 10 11]\n",
            " [12 13 14]]\n"
          ]
        }
      ]
    },
    {
      "cell_type": "code",
      "source": [
        "print(np.sum(x))\n",
        "print(x.sum())"
      ],
      "metadata": {
        "colab": {
          "base_uri": "https://localhost:8080/"
        },
        "id": "XIC3qDSFpvfG",
        "outputId": "614e6f18-d3ad-4138-c207-91016e1e2fdf"
      },
      "execution_count": 242,
      "outputs": [
        {
          "output_type": "stream",
          "name": "stdout",
          "text": [
            "105\n",
            "105\n"
          ]
        }
      ]
    },
    {
      "cell_type": "code",
      "source": [
        "print(np.arange(15).reshape(5,3).sum())"
      ],
      "metadata": {
        "colab": {
          "base_uri": "https://localhost:8080/"
        },
        "id": "0u0KKucGqlgf",
        "outputId": "a95d0d62-3731-4d3c-f406-78528246228f"
      },
      "execution_count": 238,
      "outputs": [
        {
          "output_type": "stream",
          "name": "stdout",
          "text": [
            "105\n"
          ]
        }
      ]
    },
    {
      "cell_type": "code",
      "source": [
        "print(np.sum(x,axis=1))\n",
        "print(x.sum(axis=0))"
      ],
      "metadata": {
        "colab": {
          "base_uri": "https://localhost:8080/"
        },
        "id": "IKbSjMtGq25t",
        "outputId": "d3bfe345-f4b3-4da3-a6bd-812a737ee7b7"
      },
      "execution_count": 247,
      "outputs": [
        {
          "output_type": "stream",
          "name": "stdout",
          "text": [
            "[ 3 12 21 30 39]\n",
            "[30 35 40]\n"
          ]
        }
      ]
    },
    {
      "cell_type": "code",
      "source": [],
      "metadata": {
        "id": "h0yoWszMq-KH"
      },
      "execution_count": null,
      "outputs": []
    }
  ]
}