{
  "nbformat": 4,
  "nbformat_minor": 0,
  "metadata": {
    "colab": {
      "provenance": [],
      "authorship_tag": "ABX9TyOvTG233LEow8vyIXwxTg4Q",
      "include_colab_link": true
    },
    "kernelspec": {
      "name": "python3",
      "display_name": "Python 3"
    },
    "language_info": {
      "name": "python"
    }
  },
  "cells": [
    {
      "cell_type": "markdown",
      "metadata": {
        "id": "view-in-github",
        "colab_type": "text"
      },
      "source": [
        "<a href=\"https://colab.research.google.com/github/freamwork97/TIS/blob/main/MarkDown%EC%97%B0%EC%8A%B5.ipynb\" target=\"_parent\"><img src=\"https://colab.research.google.com/assets/colab-badge.svg\" alt=\"Open In Colab\"/></a>"
      ]
    },
    {
      "cell_type": "markdown",
      "source": [
        "# 제목1\n",
        "## 제목2\n",
        "### 제목3\n",
        "#### 제목4\n",
        "##### 제목5\n",
        "###### 제목6"
      ],
      "metadata": {
        "id": "_THiuG58Exe9"
      }
    },
    {
      "cell_type": "markdown",
      "source": [
        "# 텍스트 적기\n",
        "텍스트튼 그냥 쭉 치시면 됩니다.\n",
        "\n",
        "# 줄바꿈\n",
        "그냥 치면 된다면서요...   \n",
        "엔터 쳤잖아여\n",
        "줄바꿈 안되요, 꼭 스페이스바를 2번 치셔야 발꿈이 됩니다."
      ],
      "metadata": {
        "id": "9wzLQtvNG66B"
      }
    },
    {
      "cell_type": "markdown",
      "source": [
        "# 강조\n",
        "\n",
        "_이텔릭체_로 변합니다.\n",
        "\n",
        "**두껍게**는 별표 2개를 감싸줘시면 됩니다.\n",
        "\n",
        "_**두껍게 + 이텔릭**_\n",
        "\n",
        "~취소선~\n",
        "\n",
        "<u>밑줄</u>\n",
        "\n",
        "**`Documentation`**  \n",
        "\n",
        "\n"
      ],
      "metadata": {
        "id": "8vJgbKeLHn4a"
      }
    },
    {
      "cell_type": "markdown",
      "source": [
        "# 목록(LIST)\n",
        "\n",
        "## 순서가 있는 목록\n",
        "\n",
        "1. 순서가 있는 목록1\n",
        "1. 순서가 있는 목록2\n",
        "1. 순서가 있는 목록3\n",
        "  1. 순서가 있는 목록\n",
        "  1. 순서가 있는 목록\n",
        "\n",
        "## 순서가 없는 목록\n",
        "\n",
        "- 순서가 없는 목록\n",
        "- 순서가 없는 목록\n",
        "  - 순서가 없는 목록\n",
        "  - 순서가 없는 목록\n",
        "    - 순서가 없는 목록\n",
        "    - 순서가 없는 목록\n",
        "    "
      ],
      "metadata": {
        "id": "lhj5kV46LMzZ"
      }
    },
    {
      "cell_type": "markdown",
      "source": [
        "\n",
        "# 링크\n",
        "\n",
        "* [네이버](https://naver.com)\n",
        "* [OpenAI](https://openai.com)\n",
        "\n",
        "# 이미지 넣기\n",
        "\n",
        "![chat GPT 방법론](https://cdn.openai.com/chatgpt/draft-20221129c/ChatGPT_Diagram.svg)\n",
        "\n",
        "> (참고) \n",
        "\n",
        "파이썬에서 문자열을 출력할 때는 `print`를 쓰면 된다.\n",
        "\n",
        "```python\n",
        "import tensorflow as tf\n",
        "print(__tf.version__)\n",
        "```\n",
        "\n",
        "다음은 자바 스크립트입니다.\n",
        "\n",
        "```javascript\n",
        "const a = 1;\n",
        "console.log(a)\n",
        "```\n",
        "\n",
        "터미널\n",
        "```shell\n",
        "$ ls -al\n",
        "```\n",
        "\n",
        "```plaintext\n",
        "이것은 보통 문장입니다.\n",
        "```\n",
        "\n",
        "다음은 html 코드입니다\n",
        "```html\n",
        "<a href = \"https://google.com\" title=\"구글로 이동\">구글<a/>\n",
        "```\n",
        "\n",
        "# 표만들기\n",
        "주차 | 주제 | 완료여부 | 기간\n",
        ":--: | :--: | :--: | --:\n",
        "1주차 | 파이썬 | X | 몰라\n",
        "2주차 | 데이터분석 | X | 잘몰라\n",
        "3주차 | 머신러닝 | O | 진짜몰라\n",
        "\n",
        "<u>강조하고 싶은 내용</u>\n",
        "\n",
        "<img width=“100” src =\"https://cdn.openai.com/chatgpt/draft-20221129c/ChatGPT_Diagram.svg\"></img>\n",
        "\n",
        "# 수평선\n",
        "\n",
        "제목\n",
        "\n",
        "---\n",
        "\n",
        "수평선 잘 들어갔나\n",
        "\n"
      ],
      "metadata": {
        "id": "Sacsi2waMdh0"
      }
    },
    {
      "cell_type": "code",
      "source": [
        "import tensorflow as tf\n",
        "print(tf.__version__)"
      ],
      "metadata": {
        "colab": {
          "base_uri": "https://localhost:8080/"
        },
        "id": "pkpe2sJ5S-1F",
        "outputId": "b21383e8-1fbe-40ad-830a-6d314e727377"
      },
      "execution_count": null,
      "outputs": [
        {
          "output_type": "stream",
          "name": "stdout",
          "text": [
            "2.9.2\n"
          ]
        }
      ]
    }
  ]
}