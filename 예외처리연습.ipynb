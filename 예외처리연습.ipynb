{
  "nbformat": 4,
  "nbformat_minor": 0,
  "metadata": {
    "colab": {
      "provenance": [],
      "authorship_tag": "ABX9TyNXmPpKVOtoT31XODKnewGa",
      "include_colab_link": true
    },
    "kernelspec": {
      "name": "python3",
      "display_name": "Python 3"
    },
    "language_info": {
      "name": "python"
    }
  },
  "cells": [
    {
      "cell_type": "markdown",
      "metadata": {
        "id": "view-in-github",
        "colab_type": "text"
      },
      "source": [
        "<a href=\"https://colab.research.google.com/github/freamwork97/TIS/blob/main/%EC%98%88%EC%99%B8%EC%B2%98%EB%A6%AC%EC%97%B0%EC%8A%B5.ipynb\" target=\"_parent\"><img src=\"https://colab.research.google.com/assets/colab-badge.svg\" alt=\"Open In Colab\"/></a>"
      ]
    },
    {
      "cell_type": "code",
      "execution_count": 1,
      "metadata": {
        "id": "1ri3I9BLYtpe"
      },
      "outputs": [],
      "source": [
        "# try:\n",
        "#  수행할 문장\n",
        "#  수행할 문장\n",
        "# except:\n",
        "#  수행할 문장"
      ]
    },
    {
      "cell_type": "code",
      "source": [
        "try:\n",
        "  a = 5 / 0\n",
        "  print(a)\n",
        "except:\n",
        "  print('0으로 나눌 수 없습니다')"
      ],
      "metadata": {
        "colab": {
          "base_uri": "https://localhost:8080/"
        },
        "id": "rGY83O2iZ_oc",
        "outputId": "52d06aed-0611-4471-a8a4-9b114a6d3c25"
      },
      "execution_count": 4,
      "outputs": [
        {
          "output_type": "stream",
          "name": "stdout",
          "text": [
            "0으로 나눌 수 없습니다\n"
          ]
        }
      ]
    },
    {
      "cell_type": "code",
      "source": [
        "def div(a,b):\n",
        "  try:\n",
        "    c = a / b\n",
        "    print(c)\n",
        "  except:\n",
        "    print(\"ERROR\")\n"
      ],
      "metadata": {
        "id": "MDgJrdtPaI5n"
      },
      "execution_count": 5,
      "outputs": []
    },
    {
      "cell_type": "code",
      "source": [
        "div(5,3)"
      ],
      "metadata": {
        "colab": {
          "base_uri": "https://localhost:8080/"
        },
        "id": "PHWUVnc-auIO",
        "outputId": "c415c8be-9946-428b-c5e9-2f8fde38c446"
      },
      "execution_count": 10,
      "outputs": [
        {
          "output_type": "stream",
          "name": "stdout",
          "text": [
            "1.6666666666666667\n"
          ]
        }
      ]
    },
    {
      "cell_type": "code",
      "source": [
        "div(5,0)"
      ],
      "metadata": {
        "colab": {
          "base_uri": "https://localhost:8080/"
        },
        "id": "UCsjUXQhbIKn",
        "outputId": "fe7940eb-7e4c-4593-a8dc-0aa9546b2406"
      },
      "execution_count": 11,
      "outputs": [
        {
          "output_type": "stream",
          "name": "stdout",
          "text": [
            "ERROR\n"
          ]
        }
      ]
    },
    {
      "cell_type": "code",
      "source": [
        "a = int(input())\n",
        "b = int(input())\n",
        "div(a,b)"
      ],
      "metadata": {
        "colab": {
          "base_uri": "https://localhost:8080/"
        },
        "id": "kzyQYe7uaeeQ",
        "outputId": "24c62613-a730-48df-d048-175691dfbefa"
      },
      "execution_count": 12,
      "outputs": [
        {
          "output_type": "stream",
          "name": "stdout",
          "text": [
            "6\n",
            "4\n",
            "1.5\n"
          ]
        }
      ]
    },
    {
      "cell_type": "code",
      "source": [],
      "metadata": {
        "id": "g8eoq1e4bKO8"
      },
      "execution_count": null,
      "outputs": []
    }
  ]
}